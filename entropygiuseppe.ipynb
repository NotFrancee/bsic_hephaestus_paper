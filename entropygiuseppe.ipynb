{
 "cells": [
  {
   "cell_type": "code",
   "execution_count": 4,
   "metadata": {},
   "outputs": [
    {
     "name": "stdout",
     "output_type": "stream",
     "text": [
      "Requirement already satisfied: pyportfolioopt in /Users/filipporonzino/anaconda3/lib/python3.11/site-packages (1.5.5)\n",
      "Requirement already satisfied: cvxpy<2.0.0,>=1.1.19 in /Users/filipporonzino/anaconda3/lib/python3.11/site-packages (from pyportfolioopt) (1.4.3)\n",
      "Requirement already satisfied: numpy<2.0.0,>=1.22.4 in /Users/filipporonzino/.local/lib/python3.11/site-packages (from pyportfolioopt) (1.26.4)\n",
      "Requirement already satisfied: pandas>=0.19 in /Users/filipporonzino/anaconda3/lib/python3.11/site-packages (from pyportfolioopt) (2.1.4)\n",
      "Requirement already satisfied: scipy<2.0,>=1.3 in /Users/filipporonzino/anaconda3/lib/python3.11/site-packages (from pyportfolioopt) (1.13.0)\n",
      "Requirement already satisfied: osqp>=0.6.2 in /Users/filipporonzino/anaconda3/lib/python3.11/site-packages (from cvxpy<2.0.0,>=1.1.19->pyportfolioopt) (0.6.3)\n",
      "Requirement already satisfied: ecos>=2 in /Users/filipporonzino/anaconda3/lib/python3.11/site-packages (from cvxpy<2.0.0,>=1.1.19->pyportfolioopt) (2.0.12)\n",
      "Requirement already satisfied: clarabel>=0.5.0 in /Users/filipporonzino/anaconda3/lib/python3.11/site-packages (from cvxpy<2.0.0,>=1.1.19->pyportfolioopt) (0.7.1)\n",
      "Requirement already satisfied: scs>=3.0 in /Users/filipporonzino/anaconda3/lib/python3.11/site-packages (from cvxpy<2.0.0,>=1.1.19->pyportfolioopt) (3.2.3)\n",
      "Requirement already satisfied: pybind11 in /Users/filipporonzino/anaconda3/lib/python3.11/site-packages (from cvxpy<2.0.0,>=1.1.19->pyportfolioopt) (2.12.0)\n",
      "Requirement already satisfied: python-dateutil>=2.8.2 in /Users/filipporonzino/anaconda3/lib/python3.11/site-packages (from pandas>=0.19->pyportfolioopt) (2.8.2)\n",
      "Requirement already satisfied: pytz>=2020.1 in /Users/filipporonzino/anaconda3/lib/python3.11/site-packages (from pandas>=0.19->pyportfolioopt) (2024.1)\n",
      "Requirement already satisfied: tzdata>=2022.1 in /Users/filipporonzino/anaconda3/lib/python3.11/site-packages (from pandas>=0.19->pyportfolioopt) (2023.3)\n",
      "Requirement already satisfied: qdldl in /Users/filipporonzino/anaconda3/lib/python3.11/site-packages (from osqp>=0.6.2->cvxpy<2.0.0,>=1.1.19->pyportfolioopt) (0.1.7.post0)\n",
      "Requirement already satisfied: six>=1.5 in /Users/filipporonzino/anaconda3/lib/python3.11/site-packages (from python-dateutil>=2.8.2->pandas>=0.19->pyportfolioopt) (1.16.0)\n"
     ]
    }
   ],
   "source": [
    "!pip install pyportfolioopt"
   ]
  },
  {
   "cell_type": "code",
   "execution_count": 5,
   "metadata": {},
   "outputs": [],
   "source": [
    "import numpy as np\n",
    "from pypfopt.efficient_frontier import EfficientFrontier\n",
    "import pandas as pd\n",
    "import cvxpy as cp\n"
   ]
  },
  {
   "cell_type": "code",
   "execution_count": 6,
   "metadata": {},
   "outputs": [],
   "source": [
    "df = pd.read_csv('/Users/filipporonzino/Downloads/definitive_dataset.csv')\n"
   ]
  },
  {
   "cell_type": "code",
   "execution_count": 7,
   "metadata": {},
   "outputs": [],
   "source": [
    "df['year'] = pd.DatetimeIndex(df['date']).year"
   ]
  },
  {
   "cell_type": "code",
   "execution_count": 8,
   "metadata": {},
   "outputs": [],
   "source": [
    "year1 = 2015\n",
    "year2 = 2016\n",
    "permno_year1 = df[df['year'] == year1]['permno'].unique()\n",
    "permno_year2 = df[df['year'] == year2]['permno'].unique()"
   ]
  },
  {
   "cell_type": "code",
   "execution_count": 9,
   "metadata": {},
   "outputs": [
    {
     "name": "stdout",
     "output_type": "stream",
     "text": [
      "[10104 10107 10138 10145 10147 10299 10516 10696 10909 11308 11403 11404\n",
      " 11533 11552 11600 11618 11674 11703 11786 11850 11891 11896 11955 12052\n",
      " 12060 12062 12073 12308 12369 12448 12449 12476 12490 12558 12570 12622\n",
      " 12623 12650 12872 12981 13035 13141 13168 13210 13323 13356 13407 13447\n",
      " 13511 13567 13598 13641 13688 13721 13788 13856 13901 13911 13928 13936\n",
      " 13949 13963 13983 14008 14295 14338 14541 14579 14593 14601 14702 15069\n",
      " 15202 15456 15553 15560 15579 15720 16432 16600 16678 17005 17144 17279\n",
      " 17478 17743 17750 17830 18163 18403 18411 18542 18729 19166 19350 19393\n",
      " 19502 19561 20415 20482 20626 21020 21178 21186 21207 21371 21573 21776\n",
      " 21792 21936 22103 22111 22293 22509 22517 22592 22752 22779 23026 23085\n",
      " 23229 23393 23473 23501 23536 23579 23660 23712 23819 23887 23931 24010\n",
      " 24053 24109 24205 24328 24459 24643 24766 24942 24985 25081 25099 25232\n",
      " 25320 25419 25582 25778 25785 25953 26403 26710 26825 27043 27422 27633\n",
      " 27756 27828 27887 27959 27983 27991 28222 28345 28484 28804 29946 30681\n",
      " 30940 32707 32803 32870 32942 32986 34032 34746 34817 34833 35044 35051\n",
      " 35554 36003 36397 36468 37161 37284 37584 38093 38156 38682 38703 38762\n",
      " 39490 39538 39642 40125 40272 40416 40539 41080 41355 42200 42534 42585\n",
      " 42796 42877 42906 43123 43350 43449 43553 43772 44206 44329 44601 44644\n",
      " 44951 45277 45751 45911 46578 46674 46877 46886 47466 47896 47941 48486\n",
      " 48506 48653 48725 49015 49154 49373 49656 49680 50017 50876 51369 52038\n",
      " 52090 52230 52329 52337 52476 52695 52708 52978 53065 53225 53613 53866\n",
      " 54148 55976 56274 56573 57568 57665 57809 57817 57904 58246 58683 58819\n",
      " 59010 59176 59192 59248 59328 59408 59459 60097 60206 60442 60506 60599\n",
      " 60628 60871 60943 60986 61241 61399 61516 61621 61815 62092 62148 62308\n",
      " 62498 63467 63765 63830 64186 64282 64311 64390 64936 64995 65330 65402\n",
      " 65541 65875 66093 66157 66181 66325 66384 66800 67467 68144 68591 68857\n",
      " 69032 69550 69649 69796 70033 70308 70332 70500 70519 70536 70578 71175\n",
      " 71563 72726 73139 75034 75100 75107 75186 75224 75241 75489 75510 75573\n",
      " 75577 75591 75607 75646 75694 75825 75828 75912 76076 76082 76095 76149\n",
      " 76185 76201 76226 76230 76282 76605 76614 76639 76644 76708 76709 76712\n",
      " 76744 76795 76841 77037 77157 77178 77274 77281 77338 77357 77418 77462\n",
      " 77496 77605 77606 77649 77659 77661 77668 77702 77730 77768 78034 78877\n",
      " 78975 78987 79089 79094 79103 79265 79323 79411 79545 79588 79637 79678\n",
      " 79698 79785 79879 79881 79906 79915 80080 80191 80204 80266 80286 80303\n",
      " 80320 80539 80563 81055 81061 81138 81481 81540 81655 81677 81696 81736\n",
      " 81774 81776 81857 82196 82298 82307 82515 82581 82598 82618 82642 82643\n",
      " 82651 82686 82775 83111 83143 83421 83435 83443 83597 83621 83862 83906\n",
      " 83976 84032 84129 84262 84342 84373 84381 84761 84769 84788 85035 85072\n",
      " 85257 85269 85348 85459 85593 85621 85631 85663 85675 85753 85792 85913\n",
      " 85914 85926 85963 85991 86021 86102 86136 86158 86228 86288 86356 86580\n",
      " 86783 86799 86868 86946 86964 86979 86996 87055 87070 87137 87184 87267\n",
      " 87299 87432 87445 87447 87541 87657 87717 87842 88031 88182 88281 88313\n",
      " 88352 88446 88590 88661 88664 88668 88845 88853 88860 88873 88991 89002\n",
      " 89003 89004 89006 89014 89031 89070 89105 89179 89195 89216 89217 89258\n",
      " 89269 89301 89393 89508 89509 89525 89533 89617 89626 89757 89781 89866\n",
      " 89954 90038 90071 90090 90110 90162 90199 90215 90248 90272 90319 90386\n",
      " 90441 90454 90455 90505 90520 90547 90601 90664 90720 90805 90808 90829\n",
      " 90880 90979 90993 91041 91063 91068 91103 91152 91207 91233 91391 91392\n",
      " 91416 91461 91547 91556 91611 91650 91668 91849 91883 91926 91937 92050\n",
      " 92121 92203 92239 92293 92322 92402 92602 92611 92614 92618 92655 92709\n",
      " 92772 92890 92988 93089 93096 93132 93246 93422 93429 93436 14714 14776\n",
      " 14763 14889 14882 14939 15272 15291] [10104 10107 10138 10145 10147 10299 10516 10696 10909 11308 11403 11404\n",
      " 11533 11552 11600 11618 11674 11703 11786 11850 11891 11896 11955 12052\n",
      " 12060 12062 12073 12308 12369 12448 12449 12476 12490 12558 12570 12622\n",
      " 12623 12650 12872 12981 13035 13141 13168 13210 13323 13356 13407 13447\n",
      " 13511 13567 13641 13688 13721 13788 13856 13901 13911 13928 13936 13949\n",
      " 13963 13983 14008 14295 14338 14541 14579 14593 14601 14702 14714 14763\n",
      " 14776 14882 14889 14939 15069 15202 15272 15291 15456 15553 15579 15720\n",
      " 16432 16600 16678 17005 17144 17478 17743 17750 17830 18163 18403 18411\n",
      " 18542 18729 19166 19350 19393 19502 19561 20415 20482 20626 21020 21178\n",
      " 21186 21207 21371 21573 21776 21792 21936 22103 22111 22293 22509 22517\n",
      " 22592 22752 22779 23026 23085 23229 23393 23473 23501 23536 23579 23660\n",
      " 23712 23819 23887 23931 24010 24053 24109 24205 24328 24459 24643 24766\n",
      " 24942 24985 25081 25232 25320 25419 25582 25778 25785 25953 26403 26710\n",
      " 26825 27043 27422 27633 27756 27828 27887 27959 27983 27991 28222 28345\n",
      " 28484 28804 29946 30681 30940 32707 32803 32870 32942 32986 34032 34746\n",
      " 34817 34833 35044 35554 36003 36397 36468 37161 37284 37584 38093 38156\n",
      " 38682 38703 38762 39490 39538 39642 40125 40272 40416 40539 41080 41355\n",
      " 42200 42534 42585 42796 42877 42906 43123 43350 43449 43553 43772 44206\n",
      " 44329 44601 44644 44951 45751 45911 46578 46674 46877 46886 47466 47896\n",
      " 47941 48486 48506 48653 48725 49015 49154 49373 49656 49680 50017 50876\n",
      " 51369 52038 52090 52230 52329 52337 52476 52695 52708 52978 53065 53225\n",
      " 53613 54148 55976 56274 56573 57568 57665 57809 57817 57904 58246 58683\n",
      " 58819 59010 59176 59192 59248 59328 59408 59459 60206 60442 60506 60599\n",
      " 60628 60871 60943 60986 61241 61399 61516 61621 61815 62092 62148 62308\n",
      " 62498 63467 63765 63830 64186 64282 64311 64390 64936 64995 65330 65402\n",
      " 65541 65875 66093 66157 66181 66325 66384 66800 67467 68144 68591 68857\n",
      " 69032 69649 69796 70033 70308 70332 70500 70519 70578 71175 71563 72726\n",
      " 73139 75034 75100 75107 75186 75224 75241 75489 75510 75573 75591 75607\n",
      " 75694 75825 75828 75912 76076 76082 76095 76185 76201 76226 76230 76282\n",
      " 76605 76614 76639 76644 76708 76709 76712 76744 76795 76841 77037 77157\n",
      " 77178 77274 77281 77338 77357 77418 77462 77496 77605 77606 77649 77659\n",
      " 77661 77668 77702 77730 77768 78034 78877 78975 78987 79089 79094 79103\n",
      " 79265 79323 79545 79588 79637 79678 79698 79785 79879 79881 79906 79915\n",
      " 80080 80191 80204 80266 80286 80303 80320 80539 80563 81055 81061 81138\n",
      " 81481 81540 81655 81677 81696 81736 81774 81776 81857 82196 82298 82307\n",
      " 82515 82581 82598 82618 82642 82643 82651 82686 82775 83111 83421 83435\n",
      " 83443 83597 83621 83862 83906 83976 84032 84129 84262 84342 84373 84381\n",
      " 84761 84769 84788 85035 85072 85257 85269 85348 85459 85593 85621 85631\n",
      " 85663 85675 85753 85792 85913 85914 85926 85963 85991 86021 86102 86136\n",
      " 86158 86228 86288 86356 86580 86783 86799 86868 86946 86964 86979 86996\n",
      " 87055 87137 87184 87267 87299 87432 87445 87447 87541 87657 87717 87842\n",
      " 88031 88182 88281 88313 88352 88446 88590 88661 88664 88668 88845 88853\n",
      " 88860 88873 88991 89002 89003 89004 89006 89014 89031 89070 89105 89179\n",
      " 89195 89216 89217 89258 89269 89301 89393 89508 89509 89525 89533 89626\n",
      " 89757 89781 89866 90038 90071 90090 90162 90199 90215 90248 90272 90319\n",
      " 90386 90441 90454 90455 90505 90520 90601 90664 90720 90805 90808 90829\n",
      " 90880 90979 90993 91041 91063 91068 91103 91152 91207 91233 91391 91392\n",
      " 91416 91461 91547 91556 91611 91650 91668 91849 91883 91926 91937 92050\n",
      " 92121 92203 92239 92293 92322 92402 92602 92611 92614 92618 92655 92709\n",
      " 92772 92890 93089 93096 93132 93246 93422 93429 93436 15408 15488 15401\n",
      " 15404 15707 15797 15850 16044]\n"
     ]
    }
   ],
   "source": [
    "print(permno_year1, permno_year2)"
   ]
  },
  {
   "cell_type": "code",
   "execution_count": 10,
   "metadata": {},
   "outputs": [
    {
     "name": "stdout",
     "output_type": "stream",
     "text": [
      "Index(['date', 'permno', 'stat_divyeld', '12_month_return', '3_month_return',\n",
      "       'fed_funds_adj_close', 'fed_funds_volume', 'CAPEI', 'bm', 'evm',\n",
      "       'pe_op_basic', 'pe_op_dil', 'pe_exi', 'pe_inc', 'ps', 'pcf', 'npm',\n",
      "       'opmbd', 'opmad', 'gpm', 'ptpm', 'cfm', 'roa', 'roe', 'roce',\n",
      "       'aftret_eq', 'aftret_invcapx', 'aftret_equity', 'GProf',\n",
      "       'equity_invcap', 'debt_invcap', 'totdebt_invcap', 'capital_ratio',\n",
      "       'cash_lt', 'debt_at', 'debt_ebitda', 'short_debt', 'lt_debt',\n",
      "       'cash_debt', 'fcf_ocf', 'lt_ppent', 'dltt_be', 'debt_assets',\n",
      "       'debt_capital', 'de_ratio', 'at_turn', 'rect_turn', 'pay_turn',\n",
      "       'sale_invcap', 'sale_equity', 'rd_sale', 'adv_sale', 'staff_sale',\n",
      "       'accrual', 'ptb', 'divyield', 'prc', 'vol', 'ret', 'retx', 'mktcap',\n",
      "       'prc_adj', 'naics_processed', 'ret_industry_tot',\n",
      "       'ret_industry_relative', 'MACD_index', 'rsi', 'target', 'year'],\n",
      "      dtype='object')\n"
     ]
    }
   ],
   "source": [
    "print(df.columns)"
   ]
  },
  {
   "cell_type": "code",
   "execution_count": 11,
   "metadata": {},
   "outputs": [
    {
     "name": "stdout",
     "output_type": "stream",
     "text": [
      "                21936      22103  22293\n",
      "date                                   \n",
      "2008-01-02  14.481735  43.317329  23.37\n",
      "2008-01-03  14.698492  41.843945  23.13\n",
      "2008-01-04  14.963614  42.653318  22.44\n",
      "2008-01-07  14.576171  40.674510  22.16\n",
      "2008-01-08  15.015011  40.799034  21.68\n",
      "...               ...        ...    ...\n",
      "2023-12-22  18.445369  73.448750  30.23\n",
      "2023-12-26  18.440571  74.060677  30.45\n",
      "2023-12-27  18.398082  75.015066  30.56\n",
      "2023-12-28  18.567955  74.956212  30.63\n",
      "2023-12-29  18.680251  74.364160  30.45\n",
      "\n",
      "[4024 rows x 3 columns]\n"
     ]
    }
   ],
   "source": [
    "# Create an empty DataFrame to store the results\n",
    "result_df = pd.DataFrame()\n",
    "permno_1=21936\n",
    "permno_2=22103\n",
    "permno_3=22293\n",
    "# List of permnos\n",
    "permno_list = [permno_1, permno_2, permno_3]\n",
    "\n",
    "# Loop through permnos\n",
    "for permno in permno_list:\n",
    "    # Filter DataFrame for each permno\n",
    "    df_permno = df[df['permno'] == permno]\n",
    "    \n",
    "    # Select columns 'date' and 'prc'\n",
    "    df_permno = df_permno[['date', 'prc']]\n",
    "    \n",
    "    # Rename columns\n",
    "    df_permno.columns = ['date', permno]\n",
    "    \n",
    "    # Merge with result_df\n",
    "    if result_df.empty:\n",
    "        result_df = df_permno\n",
    "    else:\n",
    "        result_df = pd.merge(result_df, df_permno, on='date', how='outer')\n",
    "\n",
    "df_allpermno = result_df.set_index('date')\n",
    "\n",
    "# Display the result\n",
    "print(df_allpermno)\n"
   ]
  },
  {
   "cell_type": "code",
   "execution_count": 12,
   "metadata": {},
   "outputs": [
    {
     "name": "stdout",
     "output_type": "stream",
     "text": [
      "21936    0.016075\n",
      "22103    0.034431\n",
      "22293    0.016715\n",
      "dtype: float64\n"
     ]
    }
   ],
   "source": [
    "import pypfopt as pfo\n",
    "\n",
    "# Calculate mean historical returns using pypfopt\n",
    "expected_returns = pfo.expected_returns.mean_historical_return(df_allpermno)\n",
    "print(expected_returns)\n"
   ]
  },
  {
   "cell_type": "code",
   "execution_count": 13,
   "metadata": {},
   "outputs": [],
   "source": [
    "from scipy.stats import gaussian_kde\n",
    "\n",
    "# Dictionary to store KDE distributions for each permno\n",
    "kde_distributions = {}\n",
    "\n",
    "# Loop through permnos\n",
    "for permno_val in permno_list:\n",
    "    # Filter DataFrame for each permno\n",
    "    filtered_df = df[df['permno'] == permno_val]\n",
    "    filtered_df = filtered_df[['permno', 'ret']]\n",
    "    \n",
    "    # Calculate KDE for returns\n",
    "    kde = gaussian_kde(filtered_df['ret'])\n",
    "    kde_distributions[permno_val] = kde\n",
    " "
   ]
  },
  {
   "cell_type": "code",
   "execution_count": 19,
   "metadata": {},
   "outputs": [
    {
     "name": "stdout",
     "output_type": "stream",
     "text": [
      "[0.2216824  0.46849678 0.30982083]\n"
     ]
    }
   ],
   "source": [
    "# Define the variables\n",
    "w = cp.Variable(len(permno_list))  # Weights for distributions\n",
    "\n",
    "x_values = np.linspace(filtered_df['ret'].min(), filtered_df['ret'].max(), 1000)\n",
    "kde_permno_values = {}\n",
    "\n",
    "for permno_val in permno_list:\n",
    "    # Get the KDE distribution for the current permno\n",
    "    kde_permno = kde_distributions[permno_val]\n",
    "    \n",
    "    # Evaluate the KDE values for the current permno\n",
    "    kde_values = kde_permno.evaluate(x_values)\n",
    "    \n",
    "    # Store the KDE values in the dictionary\n",
    "    kde_permno_values[permno_val] = kde_values\n",
    "\n",
    "def l1_regularizer(w):\n",
    "    return cp.norm(w, 1)\n",
    "\n",
    "\n",
    "\n",
    "# Define the objective function\n",
    "expected_return = cp.sum(cp.multiply(w, expected_returns))\n",
    "entropies = [cp.sum(cp.entr(cp.multiply(w[i], kde_permno_values[permno_list[i]]))) for i in range(len(permno_list))]\n",
    "lambdas = [0.00001] * len(permno_list)  # Adjust lambda parameters based on risk preference\n",
    "weighted_entropies = [lambdas[i] * entropies[i] for i in range(len(permno_list))]\n",
    "objective = cp.Maximize(expected_return + cp.sum(weighted_entropies))\n",
    "\n",
    "# Define the constraints\n",
    "constraints = [cp.sum(w) == 1, w >= 0]  # Ensure weights sum to 1 and are non-negative\n",
    "\n",
    "# Formulate the problem\n",
    "problem = cp.Problem(objective, constraints)\n",
    "\n",
    "# Solve the problem\n",
    "problem.solve()\n",
    "\n",
    "# Get the optimal solution\n",
    "optimal_weights = w.value\n",
    "print(optimal_weights)"
   ]
  },
  {
   "cell_type": "code",
   "execution_count": 16,
   "metadata": {},
   "outputs": [
    {
     "name": "stdout",
     "output_type": "stream",
     "text": [
      "[0.22168237 0.4684968  0.30982083]\n"
     ]
    }
   ],
   "source": [
    "w0 = optimal_weights\n",
    "# Now do again otimization assuming you have "
   ]
  }
 ],
 "metadata": {
  "kernelspec": {
   "display_name": "base",
   "language": "python",
   "name": "python3"
  },
  "language_info": {
   "codemirror_mode": {
    "name": "ipython",
    "version": 3
   },
   "file_extension": ".py",
   "mimetype": "text/x-python",
   "name": "python",
   "nbconvert_exporter": "python",
   "pygments_lexer": "ipython3",
   "version": "3.11.0"
  },
  "vscode": {
   "interpreter": {
    "hash": "7f217336c97d15ce4a94207d0500046615b0bc55fbf2d342e9c35c59defb6831"
   }
  }
 },
 "nbformat": 4,
 "nbformat_minor": 2
}

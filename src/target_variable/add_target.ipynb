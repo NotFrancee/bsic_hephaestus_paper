{
 "cells": [
  {
   "cell_type": "code",
   "execution_count": 10,
   "metadata": {},
   "outputs": [],
   "source": [
    "import pandas as pd\n",
    "import numpy as np"
   ]
  },
  {
   "cell_type": "code",
   "execution_count": 11,
   "metadata": {},
   "outputs": [],
   "source": [
    "data = pd.read_csv('../../data/stationary_data.csv')\n",
    "data['date'] = pd.to_datetime(data['date'])\n",
    "\n",
    "# keep only the date and not the time of the day\n",
    "data['date'] = data['date'].dt.date\n",
    "\n",
    "# add a column of nans\n",
    "data['target'] = np.nan"
   ]
  },
  {
   "cell_type": "code",
   "execution_count": null,
   "metadata": {},
   "outputs": [],
   "source": [
    "subset_date = '2007-12-31'\n",
    "subset_date = pd.to_datetime(subset_date).date()\n",
    "\n",
    "# subset the data after the date\n",
    "data_subset = data[data['date'] > subset_date]"
   ]
  },
  {
   "cell_type": "code",
   "execution_count": null,
   "metadata": {},
   "outputs": [],
   "source": [
    "data_subset['date']"
   ]
  },
  {
   "cell_type": "code",
   "execution_count": null,
   "metadata": {},
   "outputs": [],
   "source": [
    "# find the unique values of the date column\n",
    "unique_dates = data_subset['date'].unique()\n",
    "\n",
    "unique_dates = pd.to_datetime(unique_dates)\n",
    "\n",
    "print(unique_dates)\n",
    "\n",
    "n_dates = len(unique_dates)\n",
    "print(n_dates)"
   ]
  },
  {
   "cell_type": "code",
   "execution_count": null,
   "metadata": {},
   "outputs": [],
   "source": [
    "# add a column to the data_subset that contains the date and the permno\n",
    "data_subset['date_permno'] = data_subset['date'].astype(str) + '_' + data_subset['permno'].astype(str)\n",
    "\n",
    "print(data_subset['date_permno'])"
   ]
  },
  {
   "cell_type": "code",
   "execution_count": null,
   "metadata": {},
   "outputs": [],
   "source": [
    "lagged_data = pd.DataFrame(columns=['date_permno', 'lagged_price'])\n",
    "\n",
    "# loop through the unique dates\n",
    "for i in range(n_dates):\n",
    "    # get the date\n",
    "    date = unique_dates[i].date()\n",
    "\n",
    "    #print('Date:', date)\n",
    "\n",
    "    # get the return date\n",
    "    return_date = date + pd.DateOffset(days=90)\n",
    "    return_date = return_date.date()\n",
    "\n",
    "    # find the return date if it wasn't a trading day going back 1 day at a time\n",
    "    while return_date not in unique_dates:\n",
    "        return_date = return_date - pd.DateOffset(days=1)\n",
    "    \n",
    "    return_date = return_date.date()\n",
    "    #print('Return date:', return_date)\n",
    "    \n",
    "    # find the index of the date and return date\n",
    "    #date_mask = data_subset['date'] == date\n",
    "    return_date_mask = data_subset['date'] == return_date\n",
    "\n",
    "    # get the price at the date and the price at the return date\n",
    "    #price = data_subset[date_mask]['prc'].values\n",
    "    lagged_price = data_subset[return_date_mask]['prc'].values\n",
    "\n",
    "    #print('Lagged dates:', lagged_dates)\n",
    "\n",
    "    # get the permno at the return date\n",
    "    lagged_permnos = data_subset[return_date_mask]['permno'].copy()\n",
    "\n",
    "    # find the length of the permnos\n",
    "    n_permnos = len(lagged_permnos)\n",
    "\n",
    "    #print('Lagged permnos:', lagged_permnos)\n",
    "\n",
    "    # find the lagged date_permno\n",
    "    date_permnos = str(date) + '_' + lagged_permnos.astype(str)\n",
    "\n",
    "    # add to the lagged_data dataframe\n",
    "    lagged_data = pd.concat([lagged_data, pd.DataFrame({'date_permno': date_permnos.values, 'lagged_price': lagged_price})])\n",
    "\n",
    "    # print the progress deleting the previous line\n",
    "    print(f'{i+1}/{n_dates} dates processed', end='\\r', flush=True)"
   ]
  },
  {
   "cell_type": "code",
   "execution_count": null,
   "metadata": {},
   "outputs": [],
   "source": [
    "# merge the lagged data with the data_subset on the date_permno\n",
    "data_merged = data_subset.merge(lagged_data, on='date_permno', how='left')"
   ]
  },
  {
   "cell_type": "code",
   "execution_count": null,
   "metadata": {},
   "outputs": [],
   "source": [
    "data_merged.head()"
   ]
  },
  {
   "cell_type": "code",
   "execution_count": null,
   "metadata": {},
   "outputs": [],
   "source": [
    "# calculate the difference between the lagged price and the price\n",
    "data_merged['return'] = data_merged['lagged_price'] - data_merged['prc']\n",
    "\n",
    "# set the target to 1 if the return is greater than 0, to 0 if the return is less than 0\n",
    "data_merged['target'] = np.where(data_merged['return'] > 0, 1, data_merged['target'])\n",
    "data_merged['target'] = np.where(data_merged['return'] < 0, 0, data_merged['target'])"
   ]
  },
  {
   "cell_type": "code",
   "execution_count": null,
   "metadata": {},
   "outputs": [],
   "source": [
    "# remove printing limits\n",
    "pd.set_option('display.max_columns', None)\n",
    "\n",
    "# select n random rows\n",
    "n = 100\n",
    "columns_to_print = ['permno', 'date', 'prc', 'lagged_price', 'return', 'target']\n",
    "\n",
    "# print the random rows\n",
    "print(data_merged[columns_to_print].sample(n))"
   ]
  }
 ],
 "metadata": {
  "kernelspec": {
   "display_name": "venv",
   "language": "python",
   "name": "python3"
  },
  "language_info": {
   "codemirror_mode": {
    "name": "ipython",
    "version": 3
   },
   "file_extension": ".py",
   "mimetype": "text/x-python",
   "name": "python",
   "nbconvert_exporter": "python",
   "pygments_lexer": "ipython3",
   "version": "3.12.2"
  }
 },
 "nbformat": 4,
 "nbformat_minor": 2
}

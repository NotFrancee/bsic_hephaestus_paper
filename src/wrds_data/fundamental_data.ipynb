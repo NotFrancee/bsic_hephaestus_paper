{
 "cells": [
  {
   "cell_type": "code",
   "execution_count": 1,
   "metadata": {},
   "outputs": [
    {
     "name": "stderr",
     "output_type": "stream",
     "text": [
      "c:\\Users\\andre\\anaconda3\\envs\\bsic\\Lib\\site-packages\\pandas\\core\\arrays\\masked.py:60: UserWarning: Pandas requires version '1.3.6' or newer of 'bottleneck' (version '1.3.5' currently installed).\n",
      "  from pandas.core import (\n"
     ]
    }
   ],
   "source": [
    "import pandas as pd\n",
    "import numpy as np"
   ]
  },
  {
   "cell_type": "code",
   "execution_count": 9,
   "metadata": {},
   "outputs": [],
   "source": [
    "fundamentals = pd.read_csv(\n",
    "    \"../../data/fundamental_data.csv\", parse_dates=[\"adate\", \"qdate\", \"public_date\"]\n",
    ")\n",
    "\n",
    "fundamentals.set_index(\"adate\", inplace=True)"
   ]
  },
  {
   "cell_type": "code",
   "execution_count": 10,
   "metadata": {},
   "outputs": [
    {
     "data": {
      "text/plain": [
       "gvkey           0.000000\n",
       "permno          0.000000\n",
       "qdate           0.000000\n",
       "public_date     0.000000\n",
       "CAPEI           0.005561\n",
       "                  ...   \n",
       "ptb             0.038871\n",
       "PEG_trailing    0.364900\n",
       "divyield        0.301037\n",
       "TICKER          0.000976\n",
       "cusip           0.000947\n",
       "Length: 75, dtype: float64"
      ]
     },
     "execution_count": 10,
     "metadata": {},
     "output_type": "execute_result"
    }
   ],
   "source": [
    "fundamentals[fundamentals.index.year >= 2008].isna().sum() / fundamentals[\n",
    "    fundamentals.index.year >= 2008\n",
    "].shape[0]"
   ]
  },
  {
   "cell_type": "code",
   "execution_count": 5,
   "metadata": {},
   "outputs": [
    {
     "name": "stdout",
     "output_type": "stream",
     "text": [
      "<class 'pandas.core.frame.DataFrame'>\n",
      "RangeIndex: 166898 entries, 0 to 166897\n",
      "Data columns (total 76 columns):\n",
      " #   Column           Non-Null Count   Dtype         \n",
      "---  ------           --------------   -----         \n",
      " 0   gvkey            166898 non-null  int64         \n",
      " 1   permno           166898 non-null  int64         \n",
      " 2   adate            166753 non-null  datetime64[ns]\n",
      " 3   qdate            166898 non-null  datetime64[ns]\n",
      " 4   public_date      166898 non-null  datetime64[ns]\n",
      " 5   CAPEI            165357 non-null  float64       \n",
      " 6   bm               161804 non-null  float64       \n",
      " 7   evm              166178 non-null  float64       \n",
      " 8   pe_op_basic      164008 non-null  float64       \n",
      " 9   pe_op_dil        163979 non-null  float64       \n",
      " 10  pe_exi           163970 non-null  float64       \n",
      " 11  pe_inc           163982 non-null  float64       \n",
      " 12  ps               166743 non-null  float64       \n",
      " 13  pcf              166577 non-null  float64       \n",
      " 14  dpr              151331 non-null  float64       \n",
      " 15  npm              166743 non-null  float64       \n",
      " 16  opmbd            166743 non-null  float64       \n",
      " 17  opmad            166743 non-null  float64       \n",
      " 18  gpm              166734 non-null  float64       \n",
      " 19  ptpm             166743 non-null  float64       \n",
      " 20  cfm              165956 non-null  float64       \n",
      " 21  roa              166572 non-null  float64       \n",
      " 22  roe              161472 non-null  float64       \n",
      " 23  roce             165967 non-null  float64       \n",
      " 24  efftax           149487 non-null  float64       \n",
      " 25  aftret_eq        166582 non-null  float64       \n",
      " 26  aftret_invcapx   164743 non-null  float64       \n",
      " 27  aftret_equity    166582 non-null  float64       \n",
      " 28  pretret_noa      146810 non-null  float64       \n",
      " 29  pretret_earnat   146810 non-null  float64       \n",
      " 30  GProf            166754 non-null  float64       \n",
      " 31  equity_invcap    166670 non-null  float64       \n",
      " 32  debt_invcap      166198 non-null  float64       \n",
      " 33  totdebt_invcap   166147 non-null  float64       \n",
      " 34  capital_ratio    166311 non-null  float64       \n",
      " 35  int_debt         146578 non-null  float64       \n",
      " 36  int_totdebt      147758 non-null  float64       \n",
      " 37  cash_lt          166654 non-null  float64       \n",
      " 38  invt_act         145273 non-null  float64       \n",
      " 39  rect_act         146950 non-null  float64       \n",
      " 40  debt_at          166260 non-null  float64       \n",
      " 41  debt_ebitda      165655 non-null  float64       \n",
      " 42  short_debt       158210 non-null  float64       \n",
      " 43  curr_debt        147066 non-null  float64       \n",
      " 44  lt_debt          166311 non-null  float64       \n",
      " 45  profit_lct       147169 non-null  float64       \n",
      " 46  ocf_lct          147028 non-null  float64       \n",
      " 47  cash_debt        165613 non-null  float64       \n",
      " 48  fcf_ocf          159280 non-null  float64       \n",
      " 49  lt_ppent         164981 non-null  float64       \n",
      " 50  dltt_be          161601 non-null  float64       \n",
      " 51  debt_assets      166654 non-null  float64       \n",
      " 52  debt_capital     165423 non-null  float64       \n",
      " 53  de_ratio         166654 non-null  float64       \n",
      " 54  intcov           149411 non-null  float64       \n",
      " 55  intcov_ratio     149402 non-null  float64       \n",
      " 56  cash_ratio       147195 non-null  float64       \n",
      " 57  quick_ratio      147195 non-null  float64       \n",
      " 58  curr_ratio       147182 non-null  float64       \n",
      " 59  cash_conversion  133159 non-null  float64       \n",
      " 60  inv_turn         135476 non-null  float64       \n",
      " 61  at_turn          166562 non-null  float64       \n",
      " 62  rect_turn        164633 non-null  float64       \n",
      " 63  pay_turn         161636 non-null  float64       \n",
      " 64  sale_invcap      166632 non-null  float64       \n",
      " 65  sale_equity      161580 non-null  float64       \n",
      " 66  sale_nwc         120042 non-null  float64       \n",
      " 67  rd_sale          166789 non-null  float64       \n",
      " 68  adv_sale         166724 non-null  float64       \n",
      " 69  staff_sale       166724 non-null  float64       \n",
      " 70  accrual          166578 non-null  float64       \n",
      " 71  ptb              161804 non-null  float64       \n",
      " 72  PEG_trailing     104134 non-null  float64       \n",
      " 73  divyield         111339 non-null  object        \n",
      " 74  TICKER           166675 non-null  object        \n",
      " 75  cusip            166678 non-null  object        \n",
      "dtypes: datetime64[ns](3), float64(68), int64(2), object(3)\n",
      "memory usage: 96.8+ MB\n"
     ]
    }
   ],
   "source": [
    "fundamentals.info()"
   ]
  }
 ],
 "metadata": {
  "kernelspec": {
   "display_name": "Python 3",
   "language": "python",
   "name": "python3"
  },
  "language_info": {
   "codemirror_mode": {
    "name": "ipython",
    "version": 3
   },
   "file_extension": ".py",
   "mimetype": "text/x-python",
   "name": "python",
   "nbconvert_exporter": "python",
   "pygments_lexer": "ipython3",
   "version": "3.12.1"
  }
 },
 "nbformat": 4,
 "nbformat_minor": 2
}

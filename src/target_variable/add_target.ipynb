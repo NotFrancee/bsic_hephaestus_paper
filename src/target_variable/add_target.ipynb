{
 "cells": [
  {
   "cell_type": "code",
   "execution_count": 1,
   "metadata": {},
   "outputs": [],
   "source": [
    "import pandas as pd\n",
    "import numpy as np"
   ]
  },
  {
   "cell_type": "code",
   "execution_count": 2,
   "metadata": {},
   "outputs": [],
   "source": [
    "data = pd.read_csv('../../data/definitive_dataset.csv')\n",
    "data['date'] = pd.to_datetime(data['date'])\n",
    "\n",
    "# keep only the date and not the time of the day\n",
    "data['date'] = data['date'].dt.date\n",
    "\n",
    "# add a column of nans\n",
    "data['target'] = np.nan"
   ]
  },
  {
   "cell_type": "code",
   "execution_count": 4,
   "metadata": {},
   "outputs": [],
   "source": [
    "subset_date = '2007-12-31'\n",
    "subset_date = pd.to_datetime(subset_date).date()\n",
    "\n",
    "# subset the data after the date\n",
    "data_subset = data[data['date'] > subset_date]"
   ]
  },
  {
   "cell_type": "code",
   "execution_count": 5,
   "metadata": {},
   "outputs": [
    {
     "data": {
      "text/plain": [
       "0          2008-01-02\n",
       "1          2008-01-02\n",
       "2          2008-01-02\n",
       "3          2008-01-02\n",
       "4          2008-01-02\n",
       "              ...    \n",
       "2347308    2023-12-29\n",
       "2347309    2023-12-29\n",
       "2347310    2023-12-29\n",
       "2347311    2023-12-29\n",
       "2347312    2023-12-29\n",
       "Name: date, Length: 2347313, dtype: object"
      ]
     },
     "execution_count": 5,
     "metadata": {},
     "output_type": "execute_result"
    }
   ],
   "source": [
    "data_subset['date']"
   ]
  },
  {
   "cell_type": "code",
   "execution_count": 6,
   "metadata": {},
   "outputs": [
    {
     "name": "stdout",
     "output_type": "stream",
     "text": [
      "DatetimeIndex(['2008-01-02', '2008-01-03', '2008-01-04', '2008-01-07',\n",
      "               '2008-01-08', '2008-01-09', '2008-01-10', '2008-01-11',\n",
      "               '2008-01-14', '2008-01-15',\n",
      "               ...\n",
      "               '2023-12-15', '2023-12-18', '2023-12-19', '2023-12-20',\n",
      "               '2023-12-21', '2023-12-22', '2023-12-26', '2023-12-27',\n",
      "               '2023-12-28', '2023-12-29'],\n",
      "              dtype='datetime64[ns]', length=4024, freq=None)\n",
      "4024\n"
     ]
    }
   ],
   "source": [
    "# find the unique values of the date column\n",
    "unique_dates = data_subset['date'].unique()\n",
    "\n",
    "unique_dates = pd.to_datetime(unique_dates)\n",
    "\n",
    "print(unique_dates)\n",
    "\n",
    "n_dates = len(unique_dates)\n",
    "print(n_dates)"
   ]
  },
  {
   "cell_type": "code",
   "execution_count": 7,
   "metadata": {},
   "outputs": [],
   "source": [
    "# add a column to the data_subset that contains the date and the permno\n",
    "data_subset['date_permno'] = data_subset['date'].astype(str) + '_' + data_subset['permno'].astype(str)"
   ]
  },
  {
   "cell_type": "code",
   "execution_count": 9,
   "metadata": {},
   "outputs": [
    {
     "name": "stdout",
     "output_type": "stream",
     "text": [
      "1/4024 dates processed\r"
     ]
    },
    {
     "name": "stderr",
     "output_type": "stream",
     "text": [
      "C:\\Users\\Asus\\AppData\\Local\\Temp\\ipykernel_21104\\980521519.py:33: FutureWarning: The behavior of DataFrame concatenation with empty or all-NA entries is deprecated. In a future version, this will no longer exclude empty or all-NA columns when determining the result dtypes. To retain the old behavior, exclude the relevant entries before the concat operation.\n",
      "  lagged_data = pd.concat([lagged_data, pd.DataFrame({'date_permno': date_permnos.values, 'lagged_price': lagged_price})])\n"
     ]
    },
    {
     "name": "stdout",
     "output_type": "stream",
     "text": [
      "4024/4024 dates processed\r"
     ]
    }
   ],
   "source": [
    "lagged_data = pd.DataFrame(columns=['date_permno', 'lagged_price'])\n",
    "\n",
    "# loop through the unique dates\n",
    "for i in range(n_dates):\n",
    "    # get the date\n",
    "    date = unique_dates[i].date()\n",
    "\n",
    "    #print('Date:', date)\n",
    "\n",
    "    # get the return date\n",
    "    return_date = date + pd.DateOffset(days=90)\n",
    "    return_date = return_date.date()\n",
    "\n",
    "    # find the return date if it wasn't a trading day going back 1 day at a time\n",
    "    while return_date not in unique_dates:\n",
    "        return_date = return_date - pd.DateOffset(days=1)\n",
    "    \n",
    "    return_date = return_date.date()\n",
    "    \n",
    "    # find the indexes the return date\n",
    "    return_date_mask = data_subset['date'] == return_date\n",
    "\n",
    "    # get the lagged price\n",
    "    lagged_price = data_subset[return_date_mask]['prc'].values\n",
    "\n",
    "    # get the permno at the return date\n",
    "    lagged_permnos = data_subset[return_date_mask]['permno'].copy()\n",
    "\n",
    "    # find the lagged date_permno\n",
    "    date_permnos = str(date) + '_' + lagged_permnos.astype(str)\n",
    "\n",
    "    # add to the lagged_data dataframe\n",
    "    lagged_data = pd.concat([lagged_data, pd.DataFrame({'date_permno': date_permnos.values, 'lagged_price': lagged_price})])\n",
    "\n",
    "    # print the progress deleting the previous line\n",
    "    print(f'{i+1}/{n_dates} dates processed', end='\\r', flush=True)"
   ]
  },
  {
   "cell_type": "code",
   "execution_count": 10,
   "metadata": {},
   "outputs": [],
   "source": [
    "# merge the lagged data with the data_subset on the date_permno\n",
    "data_merged = data_subset.merge(lagged_data, on='date_permno', how='left')"
   ]
  },
  {
   "cell_type": "code",
   "execution_count": 11,
   "metadata": {},
   "outputs": [
    {
     "data": {
      "text/html": [
       "<div>\n",
       "<style scoped>\n",
       "    .dataframe tbody tr th:only-of-type {\n",
       "        vertical-align: middle;\n",
       "    }\n",
       "\n",
       "    .dataframe tbody tr th {\n",
       "        vertical-align: top;\n",
       "    }\n",
       "\n",
       "    .dataframe thead th {\n",
       "        text-align: right;\n",
       "    }\n",
       "</style>\n",
       "<table border=\"1\" class=\"dataframe\">\n",
       "  <thead>\n",
       "    <tr style=\"text-align: right;\">\n",
       "      <th></th>\n",
       "      <th>date</th>\n",
       "      <th>permno</th>\n",
       "      <th>stat_divyeld</th>\n",
       "      <th>12_month_return</th>\n",
       "      <th>3_month_return</th>\n",
       "      <th>fed_funds_adj_close</th>\n",
       "      <th>fed_funds_volume</th>\n",
       "      <th>CAPEI</th>\n",
       "      <th>bm</th>\n",
       "      <th>evm</th>\n",
       "      <th>...</th>\n",
       "      <th>mktcap</th>\n",
       "      <th>prc_adj</th>\n",
       "      <th>naics_processed</th>\n",
       "      <th>ret_industry_tot</th>\n",
       "      <th>ret_industry_relative</th>\n",
       "      <th>MACD_index</th>\n",
       "      <th>rsi</th>\n",
       "      <th>target</th>\n",
       "      <th>date_permno</th>\n",
       "      <th>lagged_price</th>\n",
       "    </tr>\n",
       "  </thead>\n",
       "  <tbody>\n",
       "    <tr>\n",
       "      <th>0</th>\n",
       "      <td>2008-01-02</td>\n",
       "      <td>10104</td>\n",
       "      <td>0.000000</td>\n",
       "      <td>0.479792</td>\n",
       "      <td>0.202459</td>\n",
       "      <td>0.0</td>\n",
       "      <td>0.0</td>\n",
       "      <td>38.538000</td>\n",
       "      <td>0.067646</td>\n",
       "      <td>10.362100</td>\n",
       "      <td>...</td>\n",
       "      <td>8.248108</td>\n",
       "      <td>6.529796</td>\n",
       "      <td>51.0</td>\n",
       "      <td>-0.942159</td>\n",
       "      <td>0.712659</td>\n",
       "      <td>0.395601</td>\n",
       "      <td>57.868790</td>\n",
       "      <td>NaN</td>\n",
       "      <td>2008-01-02_10104</td>\n",
       "      <td>6.811390</td>\n",
       "    </tr>\n",
       "    <tr>\n",
       "      <th>1</th>\n",
       "      <td>2008-01-02</td>\n",
       "      <td>10107</td>\n",
       "      <td>0.011153</td>\n",
       "      <td>-0.169548</td>\n",
       "      <td>0.094900</td>\n",
       "      <td>0.0</td>\n",
       "      <td>0.0</td>\n",
       "      <td>30.821000</td>\n",
       "      <td>0.062908</td>\n",
       "      <td>8.272798</td>\n",
       "      <td>...</td>\n",
       "      <td>4.242842</td>\n",
       "      <td>6.094239</td>\n",
       "      <td>51.0</td>\n",
       "      <td>-0.942159</td>\n",
       "      <td>0.201484</td>\n",
       "      <td>0.544679</td>\n",
       "      <td>46.020460</td>\n",
       "      <td>NaN</td>\n",
       "      <td>2008-01-02_10107</td>\n",
       "      <td>4.819871</td>\n",
       "    </tr>\n",
       "    <tr>\n",
       "      <th>2</th>\n",
       "      <td>2008-01-02</td>\n",
       "      <td>10137</td>\n",
       "      <td>-0.009030</td>\n",
       "      <td>0.255381</td>\n",
       "      <td>0.069118</td>\n",
       "      <td>0.0</td>\n",
       "      <td>0.0</td>\n",
       "      <td>-565.060000</td>\n",
       "      <td>0.185281</td>\n",
       "      <td>11.118000</td>\n",
       "      <td>...</td>\n",
       "      <td>4.990780</td>\n",
       "      <td>18.182907</td>\n",
       "      <td>22.0</td>\n",
       "      <td>-1.022388</td>\n",
       "      <td>0.323380</td>\n",
       "      <td>1.182111</td>\n",
       "      <td>47.711559</td>\n",
       "      <td>NaN</td>\n",
       "      <td>2008-01-02_10137</td>\n",
       "      <td>15.657113</td>\n",
       "    </tr>\n",
       "    <tr>\n",
       "      <th>3</th>\n",
       "      <td>2008-01-02</td>\n",
       "      <td>10138</td>\n",
       "      <td>0.012088</td>\n",
       "      <td>0.038009</td>\n",
       "      <td>-0.155647</td>\n",
       "      <td>0.0</td>\n",
       "      <td>0.0</td>\n",
       "      <td>33.137747</td>\n",
       "      <td>0.139315</td>\n",
       "      <td>11.795990</td>\n",
       "      <td>...</td>\n",
       "      <td>6.171009</td>\n",
       "      <td>19.560493</td>\n",
       "      <td>52.0</td>\n",
       "      <td>-1.359673</td>\n",
       "      <td>-0.156626</td>\n",
       "      <td>0.133547</td>\n",
       "      <td>37.203035</td>\n",
       "      <td>NaN</td>\n",
       "      <td>2008-01-02_10138</td>\n",
       "      <td>20.845747</td>\n",
       "    </tr>\n",
       "    <tr>\n",
       "      <th>4</th>\n",
       "      <td>2008-01-02</td>\n",
       "      <td>10145</td>\n",
       "      <td>0.000360</td>\n",
       "      <td>-0.079194</td>\n",
       "      <td>-0.033880</td>\n",
       "      <td>0.0</td>\n",
       "      <td>0.0</td>\n",
       "      <td>30.245043</td>\n",
       "      <td>0.197000</td>\n",
       "      <td>3.540256</td>\n",
       "      <td>...</td>\n",
       "      <td>5.452684</td>\n",
       "      <td>11.368027</td>\n",
       "      <td>33.0</td>\n",
       "      <td>-1.169556</td>\n",
       "      <td>-0.815948</td>\n",
       "      <td>0.871301</td>\n",
       "      <td>44.456469</td>\n",
       "      <td>NaN</td>\n",
       "      <td>2008-01-02_10145</td>\n",
       "      <td>12.587665</td>\n",
       "    </tr>\n",
       "  </tbody>\n",
       "</table>\n",
       "<p>5 rows × 70 columns</p>\n",
       "</div>"
      ],
      "text/plain": [
       "         date  permno  stat_divyeld  12_month_return  3_month_return  \\\n",
       "0  2008-01-02   10104      0.000000         0.479792        0.202459   \n",
       "1  2008-01-02   10107      0.011153        -0.169548        0.094900   \n",
       "2  2008-01-02   10137     -0.009030         0.255381        0.069118   \n",
       "3  2008-01-02   10138      0.012088         0.038009       -0.155647   \n",
       "4  2008-01-02   10145      0.000360        -0.079194       -0.033880   \n",
       "\n",
       "   fed_funds_adj_close  fed_funds_volume       CAPEI        bm        evm  \\\n",
       "0                  0.0               0.0   38.538000  0.067646  10.362100   \n",
       "1                  0.0               0.0   30.821000  0.062908   8.272798   \n",
       "2                  0.0               0.0 -565.060000  0.185281  11.118000   \n",
       "3                  0.0               0.0   33.137747  0.139315  11.795990   \n",
       "4                  0.0               0.0   30.245043  0.197000   3.540256   \n",
       "\n",
       "   ...    mktcap    prc_adj  naics_processed  ret_industry_tot  \\\n",
       "0  ...  8.248108   6.529796             51.0         -0.942159   \n",
       "1  ...  4.242842   6.094239             51.0         -0.942159   \n",
       "2  ...  4.990780  18.182907             22.0         -1.022388   \n",
       "3  ...  6.171009  19.560493             52.0         -1.359673   \n",
       "4  ...  5.452684  11.368027             33.0         -1.169556   \n",
       "\n",
       "   ret_industry_relative  MACD_index        rsi  target       date_permno  \\\n",
       "0               0.712659    0.395601  57.868790     NaN  2008-01-02_10104   \n",
       "1               0.201484    0.544679  46.020460     NaN  2008-01-02_10107   \n",
       "2               0.323380    1.182111  47.711559     NaN  2008-01-02_10137   \n",
       "3              -0.156626    0.133547  37.203035     NaN  2008-01-02_10138   \n",
       "4              -0.815948    0.871301  44.456469     NaN  2008-01-02_10145   \n",
       "\n",
       "   lagged_price  \n",
       "0      6.811390  \n",
       "1      4.819871  \n",
       "2     15.657113  \n",
       "3     20.845747  \n",
       "4     12.587665  \n",
       "\n",
       "[5 rows x 70 columns]"
      ]
     },
     "execution_count": 11,
     "metadata": {},
     "output_type": "execute_result"
    }
   ],
   "source": [
    "data_merged.head()"
   ]
  },
  {
   "cell_type": "code",
   "execution_count": 12,
   "metadata": {},
   "outputs": [],
   "source": [
    "# calculate the difference between the lagged price and the price\n",
    "data_merged['return'] = data_merged['lagged_price'] - data_merged['prc']\n",
    "\n",
    "# set the target to 1 if the return is greater than 0, to 0 if the return is less than 0\n",
    "data_merged['target'] = np.where(data_merged['return'] > 0, 1, data_merged['target'])\n",
    "data_merged['target'] = np.where(data_merged['return'] < 0, 0, data_merged['target'])"
   ]
  },
  {
   "cell_type": "code",
   "execution_count": 13,
   "metadata": {},
   "outputs": [
    {
     "name": "stdout",
     "output_type": "stream",
     "text": [
      "         permno        date         prc  lagged_price     return  target\n",
      "645775    23114  2012-02-28   48.283470     49.106980   0.823510     1.0\n",
      "1051905   35044  2014-10-16    3.753597      4.001785   0.248188     1.0\n",
      "957152    93436  2014-03-06  227.312738    183.664076 -43.648662     0.0\n",
      "26238     21573  2008-03-06   24.909001     20.246875  -4.662126     0.0\n",
      "1414775   78034  2017-03-23   39.788347     42.520820   2.732473     1.0\n",
      "...         ...         ...         ...           ...        ...     ...\n",
      "1698501   53065  2019-03-21   19.698384     19.753822   0.055439     1.0\n",
      "1632113   59176  2018-09-27  107.850000     89.500000 -18.350000     0.0\n",
      "809288    11552  2013-03-22  113.130000    116.890000   3.760000     1.0\n",
      "974921    10145  2014-04-17   21.545646     21.617808   0.072163     1.0\n",
      "1405184   91937  2017-02-28   11.445655     12.923791   1.478136     1.0\n",
      "\n",
      "[100 rows x 6 columns]\n"
     ]
    }
   ],
   "source": [
    "# remove printing limits\n",
    "pd.set_option('display.max_columns', None)\n",
    "\n",
    "# select n random rows\n",
    "n = 100\n",
    "columns_to_print = ['permno', 'date', 'prc', 'lagged_price', 'return', 'target']\n",
    "\n",
    "# print the random rows\n",
    "print(data_merged[columns_to_print].sample(n))"
   ]
  },
  {
   "cell_type": "code",
   "execution_count": 17,
   "metadata": {},
   "outputs": [
    {
     "ename": "KeyError",
     "evalue": "\"['date_permno'] not found in axis\"",
     "output_type": "error",
     "traceback": [
      "\u001b[1;31m---------------------------------------------------------------------------\u001b[0m",
      "\u001b[1;31mKeyError\u001b[0m                                  Traceback (most recent call last)",
      "Cell \u001b[1;32mIn[17], line 2\u001b[0m\n\u001b[0;32m      1\u001b[0m \u001b[38;5;66;03m# drop the date_permno column\u001b[39;00m\n\u001b[1;32m----> 2\u001b[0m data_merged\u001b[38;5;241m.\u001b[39mdrop(\u001b[38;5;124m'\u001b[39m\u001b[38;5;124mdate_permno\u001b[39m\u001b[38;5;124m'\u001b[39m, axis\u001b[38;5;241m=\u001b[39m\u001b[38;5;241m1\u001b[39m, inplace\u001b[38;5;241m=\u001b[39m\u001b[38;5;28;01mTrue\u001b[39;00m)\n\u001b[0;32m      4\u001b[0m \u001b[38;5;66;03m# when return = 0, target = 0\u001b[39;00m\n\u001b[0;32m      5\u001b[0m data_merged[\u001b[38;5;124m'\u001b[39m\u001b[38;5;124mtarget\u001b[39m\u001b[38;5;124m'\u001b[39m] \u001b[38;5;241m=\u001b[39m np\u001b[38;5;241m.\u001b[39mwhere(data_merged[\u001b[38;5;124m'\u001b[39m\u001b[38;5;124mreturn\u001b[39m\u001b[38;5;124m'\u001b[39m] \u001b[38;5;241m==\u001b[39m \u001b[38;5;241m0\u001b[39m, \u001b[38;5;241m0\u001b[39m, data_merged[\u001b[38;5;124m'\u001b[39m\u001b[38;5;124mtarget\u001b[39m\u001b[38;5;124m'\u001b[39m])\n",
      "File \u001b[1;32mc:\\Users\\Asus\\anaconda3\\Lib\\site-packages\\pandas\\core\\frame.py:5344\u001b[0m, in \u001b[0;36mDataFrame.drop\u001b[1;34m(self, labels, axis, index, columns, level, inplace, errors)\u001b[0m\n\u001b[0;32m   5196\u001b[0m \u001b[38;5;28;01mdef\u001b[39;00m \u001b[38;5;21mdrop\u001b[39m(\n\u001b[0;32m   5197\u001b[0m     \u001b[38;5;28mself\u001b[39m,\n\u001b[0;32m   5198\u001b[0m     labels: IndexLabel \u001b[38;5;241m|\u001b[39m \u001b[38;5;28;01mNone\u001b[39;00m \u001b[38;5;241m=\u001b[39m \u001b[38;5;28;01mNone\u001b[39;00m,\n\u001b[1;32m   (...)\u001b[0m\n\u001b[0;32m   5205\u001b[0m     errors: IgnoreRaise \u001b[38;5;241m=\u001b[39m \u001b[38;5;124m\"\u001b[39m\u001b[38;5;124mraise\u001b[39m\u001b[38;5;124m\"\u001b[39m,\n\u001b[0;32m   5206\u001b[0m ) \u001b[38;5;241m-\u001b[39m\u001b[38;5;241m>\u001b[39m DataFrame \u001b[38;5;241m|\u001b[39m \u001b[38;5;28;01mNone\u001b[39;00m:\n\u001b[0;32m   5207\u001b[0m \u001b[38;5;250m    \u001b[39m\u001b[38;5;124;03m\"\"\"\u001b[39;00m\n\u001b[0;32m   5208\u001b[0m \u001b[38;5;124;03m    Drop specified labels from rows or columns.\u001b[39;00m\n\u001b[0;32m   5209\u001b[0m \n\u001b[1;32m   (...)\u001b[0m\n\u001b[0;32m   5342\u001b[0m \u001b[38;5;124;03m            weight  1.0     0.8\u001b[39;00m\n\u001b[0;32m   5343\u001b[0m \u001b[38;5;124;03m    \"\"\"\u001b[39;00m\n\u001b[1;32m-> 5344\u001b[0m     \u001b[38;5;28;01mreturn\u001b[39;00m \u001b[38;5;28msuper\u001b[39m()\u001b[38;5;241m.\u001b[39mdrop(\n\u001b[0;32m   5345\u001b[0m         labels\u001b[38;5;241m=\u001b[39mlabels,\n\u001b[0;32m   5346\u001b[0m         axis\u001b[38;5;241m=\u001b[39maxis,\n\u001b[0;32m   5347\u001b[0m         index\u001b[38;5;241m=\u001b[39mindex,\n\u001b[0;32m   5348\u001b[0m         columns\u001b[38;5;241m=\u001b[39mcolumns,\n\u001b[0;32m   5349\u001b[0m         level\u001b[38;5;241m=\u001b[39mlevel,\n\u001b[0;32m   5350\u001b[0m         inplace\u001b[38;5;241m=\u001b[39minplace,\n\u001b[0;32m   5351\u001b[0m         errors\u001b[38;5;241m=\u001b[39merrors,\n\u001b[0;32m   5352\u001b[0m     )\n",
      "File \u001b[1;32mc:\\Users\\Asus\\anaconda3\\Lib\\site-packages\\pandas\\core\\generic.py:4711\u001b[0m, in \u001b[0;36mNDFrame.drop\u001b[1;34m(self, labels, axis, index, columns, level, inplace, errors)\u001b[0m\n\u001b[0;32m   4709\u001b[0m \u001b[38;5;28;01mfor\u001b[39;00m axis, labels \u001b[38;5;129;01min\u001b[39;00m axes\u001b[38;5;241m.\u001b[39mitems():\n\u001b[0;32m   4710\u001b[0m     \u001b[38;5;28;01mif\u001b[39;00m labels \u001b[38;5;129;01mis\u001b[39;00m \u001b[38;5;129;01mnot\u001b[39;00m \u001b[38;5;28;01mNone\u001b[39;00m:\n\u001b[1;32m-> 4711\u001b[0m         obj \u001b[38;5;241m=\u001b[39m obj\u001b[38;5;241m.\u001b[39m_drop_axis(labels, axis, level\u001b[38;5;241m=\u001b[39mlevel, errors\u001b[38;5;241m=\u001b[39merrors)\n\u001b[0;32m   4713\u001b[0m \u001b[38;5;28;01mif\u001b[39;00m inplace:\n\u001b[0;32m   4714\u001b[0m     \u001b[38;5;28mself\u001b[39m\u001b[38;5;241m.\u001b[39m_update_inplace(obj)\n",
      "File \u001b[1;32mc:\\Users\\Asus\\anaconda3\\Lib\\site-packages\\pandas\\core\\generic.py:4753\u001b[0m, in \u001b[0;36mNDFrame._drop_axis\u001b[1;34m(self, labels, axis, level, errors, only_slice)\u001b[0m\n\u001b[0;32m   4751\u001b[0m         new_axis \u001b[38;5;241m=\u001b[39m axis\u001b[38;5;241m.\u001b[39mdrop(labels, level\u001b[38;5;241m=\u001b[39mlevel, errors\u001b[38;5;241m=\u001b[39merrors)\n\u001b[0;32m   4752\u001b[0m     \u001b[38;5;28;01melse\u001b[39;00m:\n\u001b[1;32m-> 4753\u001b[0m         new_axis \u001b[38;5;241m=\u001b[39m axis\u001b[38;5;241m.\u001b[39mdrop(labels, errors\u001b[38;5;241m=\u001b[39merrors)\n\u001b[0;32m   4754\u001b[0m     indexer \u001b[38;5;241m=\u001b[39m axis\u001b[38;5;241m.\u001b[39mget_indexer(new_axis)\n\u001b[0;32m   4756\u001b[0m \u001b[38;5;66;03m# Case for non-unique axis\u001b[39;00m\n\u001b[0;32m   4757\u001b[0m \u001b[38;5;28;01melse\u001b[39;00m:\n",
      "File \u001b[1;32mc:\\Users\\Asus\\anaconda3\\Lib\\site-packages\\pandas\\core\\indexes\\base.py:7000\u001b[0m, in \u001b[0;36mIndex.drop\u001b[1;34m(self, labels, errors)\u001b[0m\n\u001b[0;32m   6998\u001b[0m \u001b[38;5;28;01mif\u001b[39;00m mask\u001b[38;5;241m.\u001b[39many():\n\u001b[0;32m   6999\u001b[0m     \u001b[38;5;28;01mif\u001b[39;00m errors \u001b[38;5;241m!=\u001b[39m \u001b[38;5;124m\"\u001b[39m\u001b[38;5;124mignore\u001b[39m\u001b[38;5;124m\"\u001b[39m:\n\u001b[1;32m-> 7000\u001b[0m         \u001b[38;5;28;01mraise\u001b[39;00m \u001b[38;5;167;01mKeyError\u001b[39;00m(\u001b[38;5;124mf\u001b[39m\u001b[38;5;124m\"\u001b[39m\u001b[38;5;132;01m{\u001b[39;00mlabels[mask]\u001b[38;5;241m.\u001b[39mtolist()\u001b[38;5;132;01m}\u001b[39;00m\u001b[38;5;124m not found in axis\u001b[39m\u001b[38;5;124m\"\u001b[39m)\n\u001b[0;32m   7001\u001b[0m     indexer \u001b[38;5;241m=\u001b[39m indexer[\u001b[38;5;241m~\u001b[39mmask]\n\u001b[0;32m   7002\u001b[0m \u001b[38;5;28;01mreturn\u001b[39;00m \u001b[38;5;28mself\u001b[39m\u001b[38;5;241m.\u001b[39mdelete(indexer)\n",
      "\u001b[1;31mKeyError\u001b[0m: \"['date_permno'] not found in axis\""
     ]
    }
   ],
   "source": [
    "# drop the date_permno column\n",
    "data_merged.drop('date_permno', axis=1, inplace=True)"
   ]
  },
  {
   "cell_type": "code",
   "execution_count": 21,
   "metadata": {},
   "outputs": [],
   "source": [
    "# when return = 0, target = 0\n",
    "data_merged['target'] = np.where(data_merged['return'] == 0, 0, data_merged['target'])\n",
    "\n",
    "# drop lagged_price and return columns\n",
    "data_merged.drop(['lagged_price', 'return'], axis=1, inplace=True)"
   ]
  },
  {
   "cell_type": "code",
   "execution_count": 23,
   "metadata": {},
   "outputs": [],
   "source": [
    "# save the data to a csv file\n",
    "data_merged.to_csv('../../data/definitive_dataset.csv', index=False)"
   ]
  }
 ],
 "metadata": {
  "kernelspec": {
   "display_name": "venv",
   "language": "python",
   "name": "python3"
  },
  "language_info": {
   "codemirror_mode": {
    "name": "ipython",
    "version": 3
   },
   "file_extension": ".py",
   "mimetype": "text/x-python",
   "name": "python",
   "nbconvert_exporter": "python",
   "pygments_lexer": "ipython3",
   "version": "3.11.7"
  }
 },
 "nbformat": 4,
 "nbformat_minor": 2
}

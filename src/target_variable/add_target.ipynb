{
 "cells": [
  {
   "cell_type": "code",
   "execution_count": 1,
   "metadata": {},
   "outputs": [],
   "source": [
    "import pandas as pd\n",
    "import numpy as np"
   ]
  },
  {
   "cell_type": "code",
   "execution_count": 2,
   "metadata": {},
   "outputs": [],
   "source": [
    "# this contains the dataset to which we are going to add the target variable\n",
    "\n",
    "definitive_dataset = pd.read_csv('../../data/definitive_dataset.csv')"
   ]
  },
  {
   "cell_type": "code",
   "execution_count": 3,
   "metadata": {},
   "outputs": [],
   "source": [
    "# this contains the not differentiated dataset, from which we are going to build the target variable from\n",
    "\n",
    "data = pd.read_csv('../../data/backtest_prices.csv')\n",
    "data['date'] = pd.to_datetime(data['date'])\n",
    "\n",
    "# keep only the relevant columns\n",
    "data = data[['date', 'permno', 'adj_prc_w_dividend']]\n",
    "data.rename(columns={'adj_prc_w_dividend': 'prc_adj'}, inplace=True)\n",
    "\n",
    "# keep only the date and not the time of the day\n",
    "data['date'] = data['date'].dt.date\n",
    "\n",
    "# add a column of nans\n",
    "data['target'] = np.nan"
   ]
  },
  {
   "cell_type": "code",
   "execution_count": 4,
   "metadata": {},
   "outputs": [],
   "source": [
    "subset_date = '2007-12-31'\n",
    "subset_date = pd.to_datetime(subset_date).date()\n",
    "\n",
    "# subset the data after the date\n",
    "data_subset = data[data['date'] > subset_date]"
   ]
  },
  {
   "cell_type": "code",
   "execution_count": 5,
   "metadata": {},
   "outputs": [
    {
     "data": {
      "text/plain": [
       "0          2008-12-09\n",
       "400        2008-01-02\n",
       "401        2008-01-03\n",
       "402        2008-01-04\n",
       "403        2008-01-07\n",
       "              ...    \n",
       "2675492    2016-08-31\n",
       "2675493    2016-09-01\n",
       "2675494    2016-09-02\n",
       "2675495    2016-09-06\n",
       "2675496    2016-09-06\n",
       "Name: date, Length: 2405597, dtype: object"
      ]
     },
     "execution_count": 5,
     "metadata": {},
     "output_type": "execute_result"
    }
   ],
   "source": [
    "data_subset['date']"
   ]
  },
  {
   "cell_type": "code",
   "execution_count": 6,
   "metadata": {},
   "outputs": [
    {
     "name": "stdout",
     "output_type": "stream",
     "text": [
      "DatetimeIndex(['2008-12-09', '2008-01-02', '2008-01-03', '2008-01-04',\n",
      "               '2008-01-07', '2008-01-08', '2008-01-09', '2008-01-10',\n",
      "               '2008-01-11', '2008-01-14',\n",
      "               ...\n",
      "               '2021-12-17', '2021-12-20', '2021-12-21', '2021-12-22',\n",
      "               '2021-12-23', '2021-12-27', '2021-12-28', '2021-12-29',\n",
      "               '2021-12-30', '2021-12-31'],\n",
      "              dtype='datetime64[ns]', length=3526, freq=None)\n",
      "3526\n"
     ]
    }
   ],
   "source": [
    "# find the unique values of the date column\n",
    "unique_dates = data_subset['date'].unique()\n",
    "\n",
    "unique_dates = pd.to_datetime(unique_dates)\n",
    "\n",
    "print(unique_dates)\n",
    "\n",
    "n_dates = len(unique_dates)\n",
    "print(n_dates)"
   ]
  },
  {
   "cell_type": "code",
   "execution_count": 7,
   "metadata": {},
   "outputs": [
    {
     "name": "stderr",
     "output_type": "stream",
     "text": [
      "C:\\Users\\Asus\\AppData\\Local\\Temp\\ipykernel_21436\\2521118835.py:2: SettingWithCopyWarning: \n",
      "A value is trying to be set on a copy of a slice from a DataFrame.\n",
      "Try using .loc[row_indexer,col_indexer] = value instead\n",
      "\n",
      "See the caveats in the documentation: https://pandas.pydata.org/pandas-docs/stable/user_guide/indexing.html#returning-a-view-versus-a-copy\n",
      "  data_subset['date_permno'] = data_subset['date'].astype(str) + '_' + data_subset['permno'].astype(str)\n"
     ]
    }
   ],
   "source": [
    "# add a column to the data_subset that contains the date and the permno\n",
    "data_subset['date_permno'] = data_subset['date'].astype(str) + '_' + data_subset['permno'].astype(str)"
   ]
  },
  {
   "cell_type": "code",
   "execution_count": 8,
   "metadata": {},
   "outputs": [],
   "source": [
    "# drop the rows which have NaN values in the date\n",
    "data_subset = data_subset.dropna(subset=['date'])"
   ]
  },
  {
   "cell_type": "code",
   "execution_count": 9,
   "metadata": {},
   "outputs": [
    {
     "name": "stdout",
     "output_type": "stream",
     "text": [
      "1/3526 dates processed\r"
     ]
    },
    {
     "name": "stderr",
     "output_type": "stream",
     "text": [
      "C:\\Users\\Asus\\AppData\\Local\\Temp\\ipykernel_21436\\1530229719.py:33: FutureWarning: The behavior of DataFrame concatenation with empty or all-NA entries is deprecated. In a future version, this will no longer exclude empty or all-NA columns when determining the result dtypes. To retain the old behavior, exclude the relevant entries before the concat operation.\n",
      "  lagged_data = pd.concat([lagged_data, pd.DataFrame({'date_permno': date_permnos.values, 'lagged_price': lagged_price})])\n"
     ]
    },
    {
     "name": "stdout",
     "output_type": "stream",
     "text": [
      "3521/3526 dates processed\r"
     ]
    }
   ],
   "source": [
    "lagged_data = pd.DataFrame(columns=['date_permno', 'lagged_price'])\n",
    "\n",
    "# loop through the unique dates\n",
    "for i in range(n_dates):\n",
    "    # get the date\n",
    "    date = unique_dates[i].date()\n",
    "\n",
    "    #print('Date:', date)\n",
    "\n",
    "    # get the return date\n",
    "    return_date = date + pd.DateOffset(days=90)\n",
    "    return_date = return_date.date()\n",
    "\n",
    "    # find the return date if it wasn't a trading day going back 1 day at a time\n",
    "    while return_date not in unique_dates:\n",
    "        return_date = return_date - pd.DateOffset(days=1)\n",
    "    \n",
    "    return_date = return_date.date()\n",
    "    \n",
    "    # find the indexes the return date\n",
    "    return_date_mask = data_subset['date'] == return_date\n",
    "\n",
    "    # get the lagged price\n",
    "    lagged_price = data_subset[return_date_mask]['prc_adj'].values\n",
    "\n",
    "    # get the permno at the return date\n",
    "    lagged_permnos = data_subset[return_date_mask]['permno'].copy()\n",
    "\n",
    "    # find the lagged date_permno\n",
    "    date_permnos = str(date) + '_' + lagged_permnos.astype(str)\n",
    "\n",
    "    # add to the lagged_data dataframe\n",
    "    lagged_data = pd.concat([lagged_data, pd.DataFrame({'date_permno': date_permnos.values, 'lagged_price': lagged_price})])\n",
    "\n",
    "    # print the progress deleting the previous line\n",
    "    if i % 20 == 0:\n",
    "        print(f'{i+1}/{n_dates} dates processed', end='\\r', flush=True)"
   ]
  },
  {
   "cell_type": "code",
   "execution_count": 10,
   "metadata": {},
   "outputs": [],
   "source": [
    "# merge the lagged data with the data_subset on the date_permno\n",
    "data_merged = data_subset.merge(lagged_data, on='date_permno', how='left')"
   ]
  },
  {
   "cell_type": "code",
   "execution_count": 11,
   "metadata": {},
   "outputs": [
    {
     "data": {
      "text/html": [
       "<div>\n",
       "<style scoped>\n",
       "    .dataframe tbody tr th:only-of-type {\n",
       "        vertical-align: middle;\n",
       "    }\n",
       "\n",
       "    .dataframe tbody tr th {\n",
       "        vertical-align: top;\n",
       "    }\n",
       "\n",
       "    .dataframe thead th {\n",
       "        text-align: right;\n",
       "    }\n",
       "</style>\n",
       "<table border=\"1\" class=\"dataframe\">\n",
       "  <thead>\n",
       "    <tr style=\"text-align: right;\">\n",
       "      <th></th>\n",
       "      <th>date</th>\n",
       "      <th>permno</th>\n",
       "      <th>prc_adj</th>\n",
       "      <th>target</th>\n",
       "      <th>date_permno</th>\n",
       "      <th>lagged_price</th>\n",
       "    </tr>\n",
       "  </thead>\n",
       "  <tbody>\n",
       "    <tr>\n",
       "      <th>0</th>\n",
       "      <td>2008-12-09</td>\n",
       "      <td>10145</td>\n",
       "      <td>26.417659</td>\n",
       "      <td>NaN</td>\n",
       "      <td>2008-12-09_10145</td>\n",
       "      <td>22.523726</td>\n",
       "    </tr>\n",
       "    <tr>\n",
       "      <th>1</th>\n",
       "      <td>2008-01-02</td>\n",
       "      <td>10137</td>\n",
       "      <td>62.950000</td>\n",
       "      <td>NaN</td>\n",
       "      <td>2008-01-02_10137</td>\n",
       "      <td>50.500000</td>\n",
       "    </tr>\n",
       "    <tr>\n",
       "      <th>2</th>\n",
       "      <td>2008-01-03</td>\n",
       "      <td>10137</td>\n",
       "      <td>63.470000</td>\n",
       "      <td>NaN</td>\n",
       "      <td>2008-01-03_10137</td>\n",
       "      <td>51.840000</td>\n",
       "    </tr>\n",
       "    <tr>\n",
       "      <th>3</th>\n",
       "      <td>2008-01-04</td>\n",
       "      <td>10137</td>\n",
       "      <td>62.640000</td>\n",
       "      <td>NaN</td>\n",
       "      <td>2008-01-04_10137</td>\n",
       "      <td>52.350000</td>\n",
       "    </tr>\n",
       "    <tr>\n",
       "      <th>4</th>\n",
       "      <td>2008-01-07</td>\n",
       "      <td>10137</td>\n",
       "      <td>63.060000</td>\n",
       "      <td>NaN</td>\n",
       "      <td>2008-01-07_10137</td>\n",
       "      <td>52.810000</td>\n",
       "    </tr>\n",
       "  </tbody>\n",
       "</table>\n",
       "</div>"
      ],
      "text/plain": [
       "         date  permno    prc_adj  target       date_permno  lagged_price\n",
       "0  2008-12-09   10145  26.417659     NaN  2008-12-09_10145     22.523726\n",
       "1  2008-01-02   10137  62.950000     NaN  2008-01-02_10137     50.500000\n",
       "2  2008-01-03   10137  63.470000     NaN  2008-01-03_10137     51.840000\n",
       "3  2008-01-04   10137  62.640000     NaN  2008-01-04_10137     52.350000\n",
       "4  2008-01-07   10137  63.060000     NaN  2008-01-07_10137     52.810000"
      ]
     },
     "execution_count": 11,
     "metadata": {},
     "output_type": "execute_result"
    }
   ],
   "source": [
    "data_merged.head()"
   ]
  },
  {
   "cell_type": "code",
   "execution_count": 12,
   "metadata": {},
   "outputs": [],
   "source": [
    "# calculate the difference between the lagged price and the price\n",
    "data_merged['return'] = data_merged['lagged_price'] - data_merged['prc_adj']\n",
    "\n",
    "# set the target to 1 if the return is greater than 0, to 0 if the return is less than 0\n",
    "data_merged['target'] = np.where(data_merged['return'] > 0, 1, data_merged['target'])\n",
    "data_merged['target'] = np.where(data_merged['return'] <= 0, 0, data_merged['target'])"
   ]
  },
  {
   "cell_type": "code",
   "execution_count": 13,
   "metadata": {},
   "outputs": [
    {
     "data": {
      "text/html": [
       "<div>\n",
       "<style scoped>\n",
       "    .dataframe tbody tr th:only-of-type {\n",
       "        vertical-align: middle;\n",
       "    }\n",
       "\n",
       "    .dataframe tbody tr th {\n",
       "        vertical-align: top;\n",
       "    }\n",
       "\n",
       "    .dataframe thead th {\n",
       "        text-align: right;\n",
       "    }\n",
       "</style>\n",
       "<table border=\"1\" class=\"dataframe\">\n",
       "  <thead>\n",
       "    <tr style=\"text-align: right;\">\n",
       "      <th></th>\n",
       "      <th>date</th>\n",
       "      <th>permno</th>\n",
       "      <th>prc_adj</th>\n",
       "      <th>target</th>\n",
       "      <th>date_permno</th>\n",
       "      <th>lagged_price</th>\n",
       "      <th>return</th>\n",
       "    </tr>\n",
       "  </thead>\n",
       "  <tbody>\n",
       "    <tr>\n",
       "      <th>0</th>\n",
       "      <td>2008-12-09</td>\n",
       "      <td>10145</td>\n",
       "      <td>26.417659</td>\n",
       "      <td>0.0</td>\n",
       "      <td>2008-12-09_10145</td>\n",
       "      <td>22.523726</td>\n",
       "      <td>-3.893932</td>\n",
       "    </tr>\n",
       "    <tr>\n",
       "      <th>1</th>\n",
       "      <td>2008-01-02</td>\n",
       "      <td>10137</td>\n",
       "      <td>62.950000</td>\n",
       "      <td>0.0</td>\n",
       "      <td>2008-01-02_10137</td>\n",
       "      <td>50.500000</td>\n",
       "      <td>-12.450000</td>\n",
       "    </tr>\n",
       "    <tr>\n",
       "      <th>2</th>\n",
       "      <td>2008-01-03</td>\n",
       "      <td>10137</td>\n",
       "      <td>63.470000</td>\n",
       "      <td>0.0</td>\n",
       "      <td>2008-01-03_10137</td>\n",
       "      <td>51.840000</td>\n",
       "      <td>-11.630000</td>\n",
       "    </tr>\n",
       "    <tr>\n",
       "      <th>3</th>\n",
       "      <td>2008-01-04</td>\n",
       "      <td>10137</td>\n",
       "      <td>62.640000</td>\n",
       "      <td>0.0</td>\n",
       "      <td>2008-01-04_10137</td>\n",
       "      <td>52.350000</td>\n",
       "      <td>-10.290000</td>\n",
       "    </tr>\n",
       "    <tr>\n",
       "      <th>4</th>\n",
       "      <td>2008-01-07</td>\n",
       "      <td>10137</td>\n",
       "      <td>63.060000</td>\n",
       "      <td>0.0</td>\n",
       "      <td>2008-01-07_10137</td>\n",
       "      <td>52.810000</td>\n",
       "      <td>-10.250000</td>\n",
       "    </tr>\n",
       "    <tr>\n",
       "      <th>...</th>\n",
       "      <td>...</td>\n",
       "      <td>...</td>\n",
       "      <td>...</td>\n",
       "      <td>...</td>\n",
       "      <td>...</td>\n",
       "      <td>...</td>\n",
       "      <td>...</td>\n",
       "    </tr>\n",
       "    <tr>\n",
       "      <th>2415987</th>\n",
       "      <td>2016-06-06</td>\n",
       "      <td>10147</td>\n",
       "      <td>27.970000</td>\n",
       "      <td>1.0</td>\n",
       "      <td>2016-06-06_10147</td>\n",
       "      <td>28.770000</td>\n",
       "      <td>0.800000</td>\n",
       "    </tr>\n",
       "    <tr>\n",
       "      <th>2415988</th>\n",
       "      <td>2016-06-07</td>\n",
       "      <td>10147</td>\n",
       "      <td>28.010000</td>\n",
       "      <td>1.0</td>\n",
       "      <td>2016-06-07_10147</td>\n",
       "      <td>28.770000</td>\n",
       "      <td>0.760000</td>\n",
       "    </tr>\n",
       "    <tr>\n",
       "      <th>2415989</th>\n",
       "      <td>2016-06-08</td>\n",
       "      <td>10147</td>\n",
       "      <td>27.940000</td>\n",
       "      <td>1.0</td>\n",
       "      <td>2016-06-08_10147</td>\n",
       "      <td>28.770000</td>\n",
       "      <td>0.830000</td>\n",
       "    </tr>\n",
       "    <tr>\n",
       "      <th>2415990</th>\n",
       "      <td>2016-06-09</td>\n",
       "      <td>10147</td>\n",
       "      <td>27.870000</td>\n",
       "      <td>1.0</td>\n",
       "      <td>2016-06-09_10147</td>\n",
       "      <td>29.050000</td>\n",
       "      <td>1.180000</td>\n",
       "    </tr>\n",
       "    <tr>\n",
       "      <th>2415991</th>\n",
       "      <td>2016-06-09</td>\n",
       "      <td>10147</td>\n",
       "      <td>27.870000</td>\n",
       "      <td>1.0</td>\n",
       "      <td>2016-06-09_10147</td>\n",
       "      <td>29.050000</td>\n",
       "      <td>1.180000</td>\n",
       "    </tr>\n",
       "  </tbody>\n",
       "</table>\n",
       "<p>2404491 rows × 7 columns</p>\n",
       "</div>"
      ],
      "text/plain": [
       "               date  permno    prc_adj  target       date_permno  \\\n",
       "0        2008-12-09   10145  26.417659     0.0  2008-12-09_10145   \n",
       "1        2008-01-02   10137  62.950000     0.0  2008-01-02_10137   \n",
       "2        2008-01-03   10137  63.470000     0.0  2008-01-03_10137   \n",
       "3        2008-01-04   10137  62.640000     0.0  2008-01-04_10137   \n",
       "4        2008-01-07   10137  63.060000     0.0  2008-01-07_10137   \n",
       "...             ...     ...        ...     ...               ...   \n",
       "2415987  2016-06-06   10147  27.970000     1.0  2016-06-06_10147   \n",
       "2415988  2016-06-07   10147  28.010000     1.0  2016-06-07_10147   \n",
       "2415989  2016-06-08   10147  27.940000     1.0  2016-06-08_10147   \n",
       "2415990  2016-06-09   10147  27.870000     1.0  2016-06-09_10147   \n",
       "2415991  2016-06-09   10147  27.870000     1.0  2016-06-09_10147   \n",
       "\n",
       "         lagged_price     return  \n",
       "0           22.523726  -3.893932  \n",
       "1           50.500000 -12.450000  \n",
       "2           51.840000 -11.630000  \n",
       "3           52.350000 -10.290000  \n",
       "4           52.810000 -10.250000  \n",
       "...               ...        ...  \n",
       "2415987     28.770000   0.800000  \n",
       "2415988     28.770000   0.760000  \n",
       "2415989     28.770000   0.830000  \n",
       "2415990     29.050000   1.180000  \n",
       "2415991     29.050000   1.180000  \n",
       "\n",
       "[2404491 rows x 7 columns]"
      ]
     },
     "execution_count": 13,
     "metadata": {},
     "output_type": "execute_result"
    }
   ],
   "source": [
    "data_merged[data_merged['target'].notna()]"
   ]
  },
  {
   "cell_type": "code",
   "execution_count": 14,
   "metadata": {},
   "outputs": [
    {
     "name": "stdout",
     "output_type": "stream",
     "text": [
      "         permno        date     prc_adj  lagged_price     return  target\n",
      "11225     10696  2019-02-01   82.920000     85.930000   3.010000     1.0\n",
      "2350158   92322  2011-04-29   53.190000     62.080000   8.890000     1.0\n",
      "1099981   61516  2010-12-08   98.750000    115.940000  17.190000     1.0\n",
      "1089386   59248  2021-04-26   52.940000     49.700000  -3.240000     0.0\n",
      "2060187   88860  2018-01-03  231.200000    242.690000  11.490000     1.0\n",
      "...         ...         ...         ...           ...        ...     ...\n",
      "1200558   66800  2016-04-11   53.410000     53.010000  -0.400000     0.0\n",
      "1244684   75034  2020-06-10   17.260000     14.530000  -2.730000     0.0\n",
      "864293    47466  2020-04-23   30.190000     45.640000  15.450000     1.0\n",
      "2141925   89626  2009-08-27   55.579998     64.446002   8.866004     1.0\n",
      "364966    17005  2021-05-18   88.610000     84.360000  -4.250000     0.0\n",
      "\n",
      "[100 rows x 6 columns]\n"
     ]
    }
   ],
   "source": [
    "# remove printing limits\n",
    "pd.set_option('display.max_columns', None)\n",
    "\n",
    "# select n random rows\n",
    "n = 100\n",
    "columns_to_print = ['permno', 'date', 'prc_adj', 'lagged_price', 'return', 'target']\n",
    "\n",
    "# print the random rows\n",
    "print(data_merged[columns_to_print].sample(n))"
   ]
  },
  {
   "cell_type": "code",
   "execution_count": 15,
   "metadata": {},
   "outputs": [],
   "source": [
    "# drop the date_permno column\n",
    "data_merged.drop('date_permno', axis=1, inplace=True)"
   ]
  },
  {
   "cell_type": "code",
   "execution_count": 16,
   "metadata": {},
   "outputs": [],
   "source": [
    "# when return = 0, target = 0\n",
    "data_merged['target'] = np.where(data_merged['return'] == 0, 0, data_merged['target'])\n",
    "\n",
    "# drop lagged_price and return columns\n",
    "data_merged.drop(['lagged_price', 'return'], axis=1, inplace=True)"
   ]
  },
  {
   "cell_type": "code",
   "execution_count": 17,
   "metadata": {},
   "outputs": [
    {
     "data": {
      "text/html": [
       "<div>\n",
       "<style scoped>\n",
       "    .dataframe tbody tr th:only-of-type {\n",
       "        vertical-align: middle;\n",
       "    }\n",
       "\n",
       "    .dataframe tbody tr th {\n",
       "        vertical-align: top;\n",
       "    }\n",
       "\n",
       "    .dataframe thead th {\n",
       "        text-align: right;\n",
       "    }\n",
       "</style>\n",
       "<table border=\"1\" class=\"dataframe\">\n",
       "  <thead>\n",
       "    <tr style=\"text-align: right;\">\n",
       "      <th></th>\n",
       "      <th>date</th>\n",
       "      <th>permno</th>\n",
       "      <th>prc_adj</th>\n",
       "      <th>target</th>\n",
       "    </tr>\n",
       "  </thead>\n",
       "  <tbody>\n",
       "    <tr>\n",
       "      <th>738</th>\n",
       "      <td>2010-12-01</td>\n",
       "      <td>10137</td>\n",
       "      <td>23.01</td>\n",
       "      <td>NaN</td>\n",
       "    </tr>\n",
       "    <tr>\n",
       "      <th>739</th>\n",
       "      <td>2010-12-02</td>\n",
       "      <td>10137</td>\n",
       "      <td>23.28</td>\n",
       "      <td>NaN</td>\n",
       "    </tr>\n",
       "    <tr>\n",
       "      <th>740</th>\n",
       "      <td>2010-12-03</td>\n",
       "      <td>10137</td>\n",
       "      <td>23.24</td>\n",
       "      <td>NaN</td>\n",
       "    </tr>\n",
       "    <tr>\n",
       "      <th>741</th>\n",
       "      <td>2010-12-06</td>\n",
       "      <td>10137</td>\n",
       "      <td>23.15</td>\n",
       "      <td>NaN</td>\n",
       "    </tr>\n",
       "    <tr>\n",
       "      <th>742</th>\n",
       "      <td>2010-12-07</td>\n",
       "      <td>10137</td>\n",
       "      <td>23.16</td>\n",
       "      <td>NaN</td>\n",
       "    </tr>\n",
       "    <tr>\n",
       "      <th>...</th>\n",
       "      <td>...</td>\n",
       "      <td>...</td>\n",
       "      <td>...</td>\n",
       "      <td>...</td>\n",
       "    </tr>\n",
       "    <tr>\n",
       "      <th>2416049</th>\n",
       "      <td>2016-08-31</td>\n",
       "      <td>10147</td>\n",
       "      <td>28.99</td>\n",
       "      <td>NaN</td>\n",
       "    </tr>\n",
       "    <tr>\n",
       "      <th>2416050</th>\n",
       "      <td>2016-09-01</td>\n",
       "      <td>10147</td>\n",
       "      <td>28.86</td>\n",
       "      <td>NaN</td>\n",
       "    </tr>\n",
       "    <tr>\n",
       "      <th>2416051</th>\n",
       "      <td>2016-09-02</td>\n",
       "      <td>10147</td>\n",
       "      <td>28.77</td>\n",
       "      <td>NaN</td>\n",
       "    </tr>\n",
       "    <tr>\n",
       "      <th>2416052</th>\n",
       "      <td>2016-09-06</td>\n",
       "      <td>10147</td>\n",
       "      <td>29.05</td>\n",
       "      <td>NaN</td>\n",
       "    </tr>\n",
       "    <tr>\n",
       "      <th>2416053</th>\n",
       "      <td>2016-09-06</td>\n",
       "      <td>10147</td>\n",
       "      <td>29.05</td>\n",
       "      <td>NaN</td>\n",
       "    </tr>\n",
       "  </tbody>\n",
       "</table>\n",
       "<p>11563 rows × 4 columns</p>\n",
       "</div>"
      ],
      "text/plain": [
       "               date  permno  prc_adj  target\n",
       "738      2010-12-01   10137    23.01     NaN\n",
       "739      2010-12-02   10137    23.28     NaN\n",
       "740      2010-12-03   10137    23.24     NaN\n",
       "741      2010-12-06   10137    23.15     NaN\n",
       "742      2010-12-07   10137    23.16     NaN\n",
       "...             ...     ...      ...     ...\n",
       "2416049  2016-08-31   10147    28.99     NaN\n",
       "2416050  2016-09-01   10147    28.86     NaN\n",
       "2416051  2016-09-02   10147    28.77     NaN\n",
       "2416052  2016-09-06   10147    29.05     NaN\n",
       "2416053  2016-09-06   10147    29.05     NaN\n",
       "\n",
       "[11563 rows x 4 columns]"
      ]
     },
     "execution_count": 17,
     "metadata": {},
     "output_type": "execute_result"
    }
   ],
   "source": [
    "data_merged[data_merged['target'].isna()]"
   ]
  },
  {
   "cell_type": "code",
   "execution_count": 20,
   "metadata": {},
   "outputs": [
    {
     "data": {
      "text/plain": [
       "Index(['date', 'permno', 'stat_divyeld', 'fed_funds_adj_close',\n",
       "       'fed_funds_volume', 'CAPEI', 'bm', 'evm', 'pe_op_basic', 'pe_op_dil',\n",
       "       'pe_exi', 'pe_inc', 'ps', 'pcf', 'npm', 'opmbd', 'opmad', 'gpm', 'ptpm',\n",
       "       'cfm', 'roa', 'roe', 'roce', 'aftret_eq', 'aftret_invcapx',\n",
       "       'aftret_equity', 'GProf', 'equity_invcap', 'debt_invcap',\n",
       "       'totdebt_invcap', 'capital_ratio', 'cash_lt', 'debt_at', 'debt_ebitda',\n",
       "       'short_debt', 'lt_debt', 'cash_debt', 'fcf_ocf', 'lt_ppent', 'dltt_be',\n",
       "       'debt_assets', 'debt_capital', 'de_ratio', 'at_turn', 'rect_turn',\n",
       "       'pay_turn', 'sale_invcap', 'sale_equity', 'rd_sale', 'adv_sale',\n",
       "       'staff_sale', 'accrual', 'ptb', 'divyield', 'vol', 'ret', 'retx',\n",
       "       'mktcap', 'naics_processed', 'ret_industry_tot',\n",
       "       'ret_industry_relative', '3_month_return', '12_month_return',\n",
       "       'MACD_index', 'rsi', 'prc_adj', 'prc'],\n",
       "      dtype='object')"
      ]
     },
     "execution_count": 20,
     "metadata": {},
     "output_type": "execute_result"
    }
   ],
   "source": [
    "definitive_dataset.columns"
   ]
  },
  {
   "cell_type": "code",
   "execution_count": 21,
   "metadata": {},
   "outputs": [],
   "source": [
    "# merge data_merged[['date', 'permno', 'target']] with definitive_dataset on date and permno\n",
    "definitive_dataset['date'] = pd.to_datetime(definitive_dataset['date']).dt.date\n",
    "data_merged['date'] = pd.to_datetime(data_merged['date']).dt.date\n",
    "#definitive_dataset_2 = definitive_dataset.drop(columns=['target'])\n",
    "definitive_dataset_2 = definitive_dataset.merge(data_merged[['date', 'permno', 'target']], on=['date', 'permno'], how='inner')"
   ]
  },
  {
   "cell_type": "code",
   "execution_count": 24,
   "metadata": {},
   "outputs": [
    {
     "data": {
      "text/plain": [
       "Index(['date', 'permno', 'stat_divyeld', 'fed_funds_adj_close',\n",
       "       'fed_funds_volume', 'CAPEI', 'bm', 'evm', 'pe_op_basic', 'pe_op_dil',\n",
       "       'pe_exi', 'pe_inc', 'ps', 'pcf', 'npm', 'opmbd', 'opmad', 'gpm', 'ptpm',\n",
       "       'cfm', 'roa', 'roe', 'roce', 'aftret_eq', 'aftret_invcapx',\n",
       "       'aftret_equity', 'GProf', 'equity_invcap', 'debt_invcap',\n",
       "       'totdebt_invcap', 'capital_ratio', 'cash_lt', 'debt_at', 'debt_ebitda',\n",
       "       'short_debt', 'lt_debt', 'cash_debt', 'fcf_ocf', 'lt_ppent', 'dltt_be',\n",
       "       'debt_assets', 'debt_capital', 'de_ratio', 'at_turn', 'rect_turn',\n",
       "       'pay_turn', 'sale_invcap', 'sale_equity', 'rd_sale', 'adv_sale',\n",
       "       'staff_sale', 'accrual', 'ptb', 'divyield', 'vol', 'ret', 'retx',\n",
       "       'mktcap', 'naics_processed', 'ret_industry_tot',\n",
       "       'ret_industry_relative', '3_month_return', '12_month_return',\n",
       "       'MACD_index', 'rsi', 'prc_adj', 'prc', 'target'],\n",
       "      dtype='object')"
      ]
     },
     "execution_count": 24,
     "metadata": {},
     "output_type": "execute_result"
    }
   ],
   "source": [
    "definitive_dataset_2.columns"
   ]
  },
  {
   "cell_type": "code",
   "execution_count": 23,
   "metadata": {},
   "outputs": [],
   "source": [
    "# save the data to a csv file\n",
    "definitive_dataset_2.to_csv('../../data/definitive_dataset.csv', index=False)"
   ]
  },
  {
   "cell_type": "code",
   "execution_count": 32,
   "metadata": {},
   "outputs": [],
   "source": [
    "data_merged.to_csv('../../data/non_diff_adjusted_price_data.csv', index=False)"
   ]
  }
 ],
 "metadata": {
  "kernelspec": {
   "display_name": "venv",
   "language": "python",
   "name": "python3"
  },
  "language_info": {
   "codemirror_mode": {
    "name": "ipython",
    "version": 3
   },
   "file_extension": ".py",
   "mimetype": "text/x-python",
   "name": "python",
   "nbconvert_exporter": "python",
   "pygments_lexer": "ipython3",
   "version": "3.11.7"
  }
 },
 "nbformat": 4,
 "nbformat_minor": 2
}

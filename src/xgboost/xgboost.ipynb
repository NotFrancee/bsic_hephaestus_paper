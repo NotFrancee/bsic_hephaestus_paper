{
 "cells": [
  {
   "cell_type": "code",
   "execution_count": 1,
   "metadata": {},
   "outputs": [],
   "source": [
    "space = dict()\n",
    "space['subsample'] = [0.25, 0.5, 0.75, 1.0] # row sampling\n",
    "space['colsample_bytree'] = [0.25, 0.5, 0.75, 1.0] # column sampling\n",
    "space['colsample_bylevel'] = [0.25, 0.5, 0.75, 1.0] # column sampling at each split\n",
    "space['eta'] = [0.1, 0.2, 0.3] # Learning rate"
   ]
  },
  {
   "cell_type": "code",
   "execution_count": 2,
   "metadata": {},
   "outputs": [],
   "source": [
    "import numpy as np\n",
    "import matplotlib.pyplot as plt\n",
    "import pandas as pd\n",
    "from sklearn.datasets import make_classification\n",
    "from sklearn.model_selection import cross_val_score\n",
    "from sklearn.datasets import make_classification\n",
    "from sklearn.model_selection import GridSearchCV\n",
    "from sklearn.model_selection import RepeatedStratifiedKFold\n",
    "from xgboost import XGBClassifier\n",
    "import pickle\n",
    "from zmq import device\n",
    "\n",
    "\n",
    "def tune_xgboost(X, y, space, n_estimators=500, balance=False):\n",
    "    # define evaluation\n",
    "    cv = RepeatedStratifiedKFold(n_splits=5, n_repeats=3, random_state=1)\n",
    "    scoring = 'roc_auc'\n",
    "    # TODO : discuss if this is the best metric, ('accuracy', 'roc_auc', 'f1', 'precision', 'recall')\n",
    "\n",
    "    # find total negative and positive samples \n",
    "    total = len(y)\n",
    "    total_positive = np.sum(y==1)\n",
    "    total_negative = total - total_positive\n",
    "    \n",
    "    # TODO: discuss if it makes sense to train with this parameter for unbalanced dataset \n",
    "    # could be that in the future there is another inbalance\n",
    "\n",
    "    # set the scale pos weight\n",
    "    scale_pos_weight = total_negative / total_positive if balance else 1\n",
    "\n",
    "    # print total positive % and total negative %, and scale pos weight (all rounded)\n",
    "    print(f'Total positive : {round(100*(total_positive/total), 3)}%')\n",
    "    print(f'Total negative : {round(100*(total_negative/total), 3)}%')\n",
    "    print(f'Scale pos weight: {round(scale_pos_weight, 3)}')\n",
    "\n",
    "    # define the model\n",
    "    model = XGBClassifier(scale_pos_weight=scale_pos_weight, n_estimators=n_estimators, device='cuda', n_jobs=-1)\n",
    "    # define search\n",
    "    search = GridSearchCV(model, space, scoring=scoring, n_jobs=-1, cv=cv)\n",
    "    # execute search\n",
    "    result = search.fit(X, y)\n",
    "    \n",
    "    # plot results\n",
    "    results_df = pd.DataFrame(result.cv_results_)\n",
    "    for key, values in space.items():\n",
    "        \n",
    "        # group the results by the hyperparameter\n",
    "        param_means = []\n",
    "        param_stds = []\n",
    "        for value in values:\n",
    "            mask = results_df['param_' + key] == value\n",
    "            param_means.append(np.mean(results_df[mask]['mean_test_score']))\n",
    "            param_stds.append(np.std(results_df[mask]['mean_test_score']))\n",
    "\n",
    "        # create plot with two subplots side by side\n",
    "        fig, ax = plt.subplots(1, 2, figsize=(12, 5))\n",
    "        fig.suptitle(key)\n",
    "        ax[0].plot(values, param_means)\n",
    "        ax[0].set_title('Mean test scores')\n",
    "        ax[0].set_xlabel(key)\n",
    "        ax[0].set_ylabel('mean scores')\n",
    "        padding = 0.1\n",
    "        ax[0].set_ylim(max(0, min(param_means) - padding), min(1, max(param_means) + padding))\n",
    "\n",
    "        ax[1].plot(values, param_stds)\n",
    "        ax[1].set_title('Mean score std')\n",
    "        ax[1].set_xlabel(key)\n",
    "        ax[1].set_ylabel('score std')\n",
    "        padding = 0.05\n",
    "        ax[1].set_ylim(max(0, min(param_stds) - padding), min(1, max(param_stds) + padding))\n",
    "\n",
    "        plt.show()\n",
    "\n",
    "    # summarize result\n",
    "    print('Best Score: %s' % result.best_score_)\n",
    "    print('Best Hyperparameters:')\n",
    "    for k, v in result.best_params_.items():\n",
    "        print('%s: %s' % (k, v))\n",
    "\n",
    "    # best model\n",
    "    best_model = result.best_estimator_\n",
    "\n",
    "    return result.best_params_, best_model"
   ]
  },
  {
   "cell_type": "code",
   "execution_count": 4,
   "metadata": {},
   "outputs": [],
   "source": [
    "# import data\n",
    "data = pd.read_csv('../../data/datasetlabel.csv')\n",
    "data['date'] = pd.to_datetime(data['date'])\n",
    "\n",
    "# load selected features with pickle\n",
    "with open('../../data/selected_features.pkl', 'rb') as f:\n",
    "    selected_features = pickle.load(f)"
   ]
  },
  {
   "cell_type": "code",
   "execution_count": 5,
   "metadata": {},
   "outputs": [
    {
     "name": "stdout",
     "output_type": "stream",
     "text": [
      "Training features:\n",
      "['CAPEI', 'equity_invcap', 'evm', 'pe_op_basic', 'pe_inc', 'ps', 'ptpm', 'roa', 'roe', 'aftret_equity', 'aftret_invcapx', 'GProf', 'capital_ratio', 'short_debt', 'fcf_ocf', 'lt_ppent', 'at_turn', 'rect_turn', 'pay_turn', 'adv_sale', 'stat_divyeld', 'prc', 'vol', 'retx', 'mktcap', 'MACD_index']\n"
     ]
    }
   ],
   "source": [
    "start_date = pd.to_datetime('2008-01-01')\n",
    "end_date = start_date + pd.DateOffset(years=2) - pd.DateOffset(days=91)\n",
    "\n",
    "training_data = data[(data['date'] >= start_date) & (data['date'] <= end_date)]\n",
    "training_features = selected_features[start_date]\n",
    "\n",
    "# print the features\n",
    "print(f'Training features:\\n{training_features}')\n",
    "\n",
    "X = training_data[training_features].copy()\n",
    "y = training_data['target'].copy()\n",
    "negative_mask = (y == -1)\n",
    "y[negative_mask] = 0"
   ]
  },
  {
   "cell_type": "code",
   "execution_count": 6,
   "metadata": {},
   "outputs": [
    {
     "name": "stdout",
     "output_type": "stream",
     "text": [
      "Total positive : 42.712%\n",
      "Total negative : 57.288%\n",
      "Scale pos weight: 1\n"
     ]
    }
   ],
   "source": [
    "space = dict()\n",
    "space['subsample'] = [0.25, 0.5, 0.75, 1.0] # row sampling\n",
    "space['colsample_bytree'] = [0.25, 0.5, 0.75, 1.0] # column sampling\n",
    "space['colsample_bylevel'] = [0.25, 0.5, 0.75, 1.0] # column sampling at each split\n",
    "space['eta'] = [0.1, 0.2, 0.3] # Learning rate\n",
    "\n",
    "n_estimators = 150\n",
    "\n",
    "best_parameters, best_model = tune_xgboost(X, y, space, n_estimators=n_estimators, balance=False)"
   ]
  },
  {
   "cell_type": "code",
   "execution_count": 29,
   "metadata": {},
   "outputs": [],
   "source": [
    "# create name of the best model with n_estimators and start date\n",
    "start_date_str = start_date.strftime('%Y-%m-%d')\n",
    "model_name = f'xg_boost_{start_date_str}_{n_estimators}'\n",
    "\n",
    "# save the model\n",
    "with open(f'../../models/{model_name}.pkl', 'wb') as f:\n",
    "    pickle.dump(best_model, f)"
   ]
  }
 ],
 "metadata": {
  "kernelspec": {
   "display_name": "cuda-test",
   "language": "python",
   "name": "cuda-virtual-env"
  },
  "language_info": {
   "codemirror_mode": {
    "name": "ipython",
    "version": 3
   },
   "file_extension": ".py",
   "mimetype": "text/x-python",
   "name": "python",
   "nbconvert_exporter": "python",
   "pygments_lexer": "ipython3",
   "version": "3.11.7"
  }
 },
 "nbformat": 4,
 "nbformat_minor": 2
}

{
 "cells": [
  {
   "cell_type": "code",
   "execution_count": 1,
   "metadata": {},
   "outputs": [],
   "source": [
    "import numpy as np\n",
    "import matplotlib.pyplot as plt\n",
    "import pandas as pd"
   ]
  },
  {
   "cell_type": "code",
   "execution_count": 2,
   "metadata": {},
   "outputs": [],
   "source": [
    "datasetlabel = pd.read_csv('../../data/datasetlabel.csv') # non stationary data\n",
    "fed_funds = pd.read_csv('../../data/1m-fed_fund_futures.csv') # fed funds data\n",
    "other_macro = pd.read_csv('../../data/mdpurg9fqkqhobkm.csv') # CPI and yields\n",
    "fracdiff_data = pd.read_csv('../../data/DATA_FINAL.csv') # fracdiff data\n",
    "alternative_dataset = pd.read_csv('../../data/fixed_divyield.csv') # Ettore's data"
   ]
  },
  {
   "cell_type": "markdown",
   "metadata": {},
   "source": [
    "The base is fracdiff_data, which contains the fractionally differentiated data. From that we add the features from fed_funds, other_macro and alternative_dataset. We then .diff() all the features which are not differentiated. "
   ]
  },
  {
   "cell_type": "code",
   "execution_count": 3,
   "metadata": {},
   "outputs": [],
   "source": [
    "fracdiff_data = pd.read_csv('../../data/DATA_FINAL.csv') # fracdiff data"
   ]
  },
  {
   "cell_type": "code",
   "execution_count": 4,
   "metadata": {},
   "outputs": [
    {
     "data": {
      "text/plain": [
       "Index(['permno', 'CAPEI', 'bm', 'evm', 'pe_op_basic', 'pe_op_dil', 'pe_exi',\n",
       "       'pe_inc', 'ps', 'pcf', 'npm', 'opmbd', 'opmad', 'gpm', 'ptpm', 'cfm',\n",
       "       'roa', 'roe', 'roce', 'aftret_eq', 'aftret_invcapx', 'aftret_equity',\n",
       "       'GProf', 'equity_invcap', 'debt_invcap', 'totdebt_invcap',\n",
       "       'capital_ratio', 'cash_lt', 'debt_at', 'debt_ebitda', 'short_debt',\n",
       "       'lt_debt', 'cash_debt', 'fcf_ocf', 'lt_ppent', 'dltt_be', 'debt_assets',\n",
       "       'debt_capital', 'de_ratio', 'at_turn', 'rect_turn', 'pay_turn',\n",
       "       'sale_invcap', 'sale_equity', 'rd_sale', 'adv_sale', 'staff_sale',\n",
       "       'accrual', 'ptb', 'divyield', 'date', 'prc', 'vol', 'ret', 'retx',\n",
       "       'mktcap', 'prc_adj', 'naics_processed', 'ret_industry_tot',\n",
       "       'ret_industry_relative', 'MACD_index', 'rsi'],\n",
       "      dtype='object')"
      ]
     },
     "execution_count": 4,
     "metadata": {},
     "output_type": "execute_result"
    }
   ],
   "source": [
    "fracdiff_data.columns"
   ]
  },
  {
   "cell_type": "code",
   "execution_count": 5,
   "metadata": {},
   "outputs": [
    {
     "name": "stderr",
     "output_type": "stream",
     "text": [
      "C:\\Users\\Asus\\AppData\\Local\\Temp\\ipykernel_3248\\926487017.py:4: FutureWarning: DataFrame.interpolate with object dtype is deprecated and will raise in a future version. Call obj.infer_objects(copy=False) before interpolating instead.\n",
      "  fracdiff_data = fracdiff_data.interpolate(method='linear')\n"
     ]
    }
   ],
   "source": [
    "# Interpolating the data from fracdiff_data \n",
    "\n",
    "fracdiff_data = fracdiff_data[fracdiff_data['date'] >= '2008-01-01']\n",
    "fracdiff_data = fracdiff_data.interpolate(method='linear')"
   ]
  },
  {
   "cell_type": "code",
   "execution_count": 6,
   "metadata": {},
   "outputs": [
    {
     "data": {
      "text/plain": [
       "0"
      ]
     },
     "execution_count": 6,
     "metadata": {},
     "output_type": "execute_result"
    }
   ],
   "source": [
    "# test to see if the interpolation worked\n",
    "np.sum(fracdiff_data.isna().sum(axis=1) > 0)"
   ]
  },
  {
   "cell_type": "markdown",
   "metadata": {},
   "source": [
    "We first merge all the non differentiated features into one and then run .diff() on them "
   ]
  },
  {
   "cell_type": "code",
   "execution_count": 7,
   "metadata": {},
   "outputs": [],
   "source": [
    "# convert every 'Date' to datetime\n",
    "datasetlabel['date'] = pd.to_datetime(datasetlabel['date'])\n",
    "fed_funds['Date'] = pd.to_datetime(fed_funds['Date'])\n",
    "fed_funds.rename(columns={'Date': 'date'}, inplace=True)\n",
    "other_macro['caldt'] = pd.to_datetime(other_macro['caldt'])\n",
    "other_macro.rename(columns={'caldt': 'date'}, inplace=True)\n",
    "fracdiff_data['date'] = pd.to_datetime(fracdiff_data['date'])\n",
    "alternative_dataset['date'] = pd.to_datetime(alternative_dataset['date'])\n",
    "alternative_dataset['date'] = pd.to_datetime(alternative_dataset['date'])"
   ]
  },
  {
   "cell_type": "code",
   "execution_count": 8,
   "metadata": {},
   "outputs": [],
   "source": [
    "fed_funds = fed_funds[['date', 'Adj Close', 'Volume']]\n",
    "fed_funds.rename(columns={'Adj Close': 'fed_funds_adj_close', 'Volume': 'fed_funds_volume'}, inplace=True)\n",
    "\n",
    "# merge fed_funds with other_macro\n",
    "\n",
    "# CAN'T USE OTHER_MACRO BECAUSE IT STARTS IN 2009\n",
    "#macro_data = pd.merge(fed_funds, other_macro, on='date', how='inner')"
   ]
  },
  {
   "cell_type": "code",
   "execution_count": 9,
   "metadata": {},
   "outputs": [
    {
     "data": {
      "text/plain": [
       "{'stat_divyeld', 'target'}"
      ]
     },
     "execution_count": 9,
     "metadata": {},
     "output_type": "execute_result"
    }
   ],
   "source": [
    "set(datasetlabel.columns) - set(fracdiff_data.columns)"
   ]
  },
  {
   "cell_type": "code",
   "execution_count": 10,
   "metadata": {},
   "outputs": [],
   "source": [
    "alternative_dataset = pd.read_csv('../../data/fixed_divyield.csv') # Ettore's data"
   ]
  },
  {
   "cell_type": "code",
   "execution_count": 11,
   "metadata": {},
   "outputs": [
    {
     "data": {
      "text/plain": [
       "Index(['date', 'permno', '12_month_return', '3_month_return'], dtype='object')"
      ]
     },
     "execution_count": 11,
     "metadata": {},
     "output_type": "execute_result"
    }
   ],
   "source": [
    "# keep only the columns of alternative_dataset that are not in fracdiff_data\n",
    "cols_to_keep = ['date', 'permno', '12_month_return', '3_month_return']\n",
    "alternative_dataset = alternative_dataset[cols_to_keep]\n",
    "alternative_dataset.columns"
   ]
  },
  {
   "cell_type": "code",
   "execution_count": 12,
   "metadata": {},
   "outputs": [
    {
     "name": "stdout",
     "output_type": "stream",
     "text": [
      "27090\n"
     ]
    },
    {
     "data": {
      "text/plain": [
       "12_month_return    27090\n",
       "3_month_return      6679\n",
       "date                   0\n",
       "permno                 0\n",
       "dtype: int64"
      ]
     },
     "execution_count": 12,
     "metadata": {},
     "output_type": "execute_result"
    }
   ],
   "source": [
    "print(np.sum(alternative_dataset[alternative_dataset['date']>='2008-01-01'].isna().sum(axis=1) > 0))\n",
    "\n",
    "# find out the columsn that have the most missing values in alternative_dataset[alternative_dataset['date']>='2008-01-01']\n",
    "alternative_dataset[alternative_dataset['date']>='2008-01-01'].isna().sum().sort_values(ascending=False)"
   ]
  },
  {
   "cell_type": "code",
   "execution_count": 13,
   "metadata": {},
   "outputs": [],
   "source": [
    "datasetlabel = datasetlabel[['date', 'permno', 'stat_divyeld']]\n",
    "datasetlabel['date'] = pd.to_datetime(datasetlabel['date'])\n",
    "alternative_dataset['date'] = pd.to_datetime(alternative_dataset['date'])"
   ]
  },
  {
   "cell_type": "code",
   "execution_count": 14,
   "metadata": {},
   "outputs": [],
   "source": [
    "# join the single feature of datasetlabel with alternative_dataset on 'date' and 'permno'\n",
    "non_diff_dataset = pd.merge(datasetlabel, alternative_dataset, on=['date', 'permno'], how='inner')"
   ]
  },
  {
   "cell_type": "code",
   "execution_count": 15,
   "metadata": {},
   "outputs": [],
   "source": [
    "# merge non_diff_dataset with fed_funds on date\n",
    "non_diff_dataset = pd.merge(non_diff_dataset, fed_funds, on='date', how='inner')\n",
    "\n",
    "# interpolate the missing values in non_diff_dataset\n",
    "non_diff_dataset = non_diff_dataset.interpolate(method='linear')"
   ]
  },
  {
   "cell_type": "code",
   "execution_count": 16,
   "metadata": {},
   "outputs": [
    {
     "name": "stderr",
     "output_type": "stream",
     "text": [
      "C:\\Users\\Asus\\AppData\\Local\\Temp\\ipykernel_3248\\1618772959.py:10: DeprecationWarning: DataFrameGroupBy.apply operated on the grouping columns. This behavior is deprecated, and in a future version of pandas the grouping columns will be excluded from the operation. Either pass `include_groups=False` to exclude the groupings or explicitly select the grouping columns after groupby to silence this warning.\n",
      "  diff_dataset = diff_dataset.groupby('permno').apply(diff_columns, columns_to_diff=diff_dataset.columns.difference(['date', 'permno']))\n"
     ]
    }
   ],
   "source": [
    "# run .diff() on the columns that are not 'date' and 'permno' of non_diff_dataset\n",
    "diff_dataset = non_diff_dataset.copy()\n",
    "\n",
    "def diff_columns(group, columns_to_diff, key='permno'):\n",
    "    group.sort_values('date', inplace=True)\n",
    "    group[columns_to_diff] = group[columns_to_diff].diff()\n",
    "    return group\n",
    "\n",
    "diff_dataset[diff_dataset.columns.difference(['date', 'permno'])] = non_diff_dataset[non_diff_dataset.columns.difference(['date', 'permno'])].diff()\n",
    "diff_dataset = diff_dataset.groupby('permno').apply(diff_columns, columns_to_diff=diff_dataset.columns.difference(['date', 'permno']))"
   ]
  },
  {
   "cell_type": "code",
   "execution_count": 17,
   "metadata": {},
   "outputs": [],
   "source": [
    "diff_dataset.dropna(inplace=True) # drop the first row of NaNs since it's not possible to calculate the difference"
   ]
  },
  {
   "cell_type": "code",
   "execution_count": 20,
   "metadata": {},
   "outputs": [],
   "source": [
    "diff_dataset.reset_index(drop=True, inplace=True)"
   ]
  },
  {
   "cell_type": "code",
   "execution_count": 22,
   "metadata": {},
   "outputs": [],
   "source": [
    "# merge diff_dataset with fracdiff_data on 'date' and 'permno'\n",
    "definitive_dataset = pd.merge(diff_dataset, fracdiff_data, on=['date', 'permno'], how='inner')"
   ]
  },
  {
   "cell_type": "code",
   "execution_count": null,
   "metadata": {},
   "outputs": [],
   "source": [
    "# adding the target variable to the definitive_dataset"
   ]
  },
  {
   "cell_type": "code",
   "execution_count": null,
   "metadata": {},
   "outputs": [],
   "source": [
    "definitive_dataset.to_csv('../../data/definitive_dataset.csv', index=False)"
   ]
  },
  {
   "cell_type": "markdown",
   "metadata": {},
   "source": [
    "### Fixing the returns and MACD, RSI"
   ]
  },
  {
   "cell_type": "code",
   "execution_count": 3,
   "metadata": {},
   "outputs": [],
   "source": [
    "definitive_dataset = pd.read_csv('../../data/definitive_dataset.csv')"
   ]
  },
  {
   "cell_type": "code",
   "execution_count": 23,
   "metadata": {},
   "outputs": [],
   "source": [
    "definitive_dataset['date'] = pd.to_datetime(definitive_dataset['date'])"
   ]
  },
  {
   "cell_type": "code",
   "execution_count": 24,
   "metadata": {},
   "outputs": [],
   "source": [
    "price_data = pd.read_csv('../../data/backtest_prices.csv')"
   ]
  },
  {
   "cell_type": "code",
   "execution_count": 25,
   "metadata": {},
   "outputs": [],
   "source": [
    "# drop the problematic columns\n",
    "columns_to_drop = ['3_month_return', '12_month_return', 'prc', 'rsi', 'MACD_index', 'prc_adj']\n",
    "definitive_dataset.drop(columns=columns_to_drop, inplace=True)"
   ]
  },
  {
   "cell_type": "code",
   "execution_count": 26,
   "metadata": {},
   "outputs": [],
   "source": [
    "# in price_data calculate the past 3 month return and the past 12 month return\n",
    "price_data['date'] = pd.to_datetime(price_data['date'])\n",
    "price_data['permno'] = price_data['permno'].astype(int)\n",
    "\n",
    "# sort price_data by date and permno\n",
    "price_data.sort_values(['date', 'permno'], inplace=True)\n",
    "price_data.reset_index(drop=True, inplace=True)\n",
    "\n",
    "#get the 3 month return, which corresponds to 252/4 trading days\n",
    "price_data['3_month_return'] = price_data.groupby('permno')['adj_prc'].pct_change(63)*100\n",
    "#get the 12 month return, which corresponds to 252 trading days\n",
    "price_data['12_month_return'] = price_data.groupby('permno')['adj_prc'].pct_change(252)*100\n",
    "\n",
    "# set to zero the nans in the 3_month_return and 12_month_return columns\n",
    "price_data['3_month_return'] = price_data[(price_data['date'] >= '2008-01-01')]['3_month_return'].fillna(0)\n",
    "price_data['12_month_return'] = price_data[(price_data['date'] >= '2008-01-01')]['12_month_return'].fillna(0)\n",
    "\n",
    "# merge price_data with definitive_dataset on 'date' and 'permno'\n",
    "definitive_dataset = pd.merge(definitive_dataset, price_data[['date', 'permno', '3_month_return', '12_month_return']], on=['date', 'permno'], how='left')\n",
    "price_data.drop(columns=['3_month_return', '12_month_return'], inplace=True)"
   ]
  },
  {
   "cell_type": "code",
   "execution_count": 27,
   "metadata": {},
   "outputs": [
    {
     "name": "stderr",
     "output_type": "stream",
     "text": [
      "C:\\Users\\Asus\\AppData\\Local\\Temp\\ipykernel_3248\\2639471054.py:13: DeprecationWarning: DataFrameGroupBy.apply operated on the grouping columns. This behavior is deprecated, and in a future version of pandas the grouping columns will be excluded from the operation. Either pass `include_groups=False` to exclude the groupings or explicitly select the grouping columns after groupby to silence this warning.\n",
      "  price_data = price_data.groupby('permno').apply(calculate_macd)\n"
     ]
    }
   ],
   "source": [
    "# calculate the macd_index for price_data\n",
    "\n",
    "def calculate_macd(group, short_window=12, long_window=26, signal_window=9):\n",
    "    group.sort_values('date', inplace=True)\n",
    "    short_ema = group['adj_prc'].ewm(span=short_window, min_periods=1, adjust=False).mean()\n",
    "    long_ema = group['adj_prc'].ewm(span=long_window, min_periods=1, adjust=False).mean()\n",
    "    macd_line = short_ema - long_ema\n",
    "    signal_line = macd_line.ewm(span=signal_window, min_periods=1, adjust=False).mean()\n",
    "    group['MACD_index'] = signal_line\n",
    "\n",
    "    return group\n",
    "\n",
    "price_data = price_data.groupby('permno').apply(calculate_macd)\n",
    "# drop the multiindex\n",
    "price_data.reset_index(drop=True, inplace=True)\n",
    "\n",
    "# merge price_data with definitive_dataset on 'date' and 'permno'\n",
    "definitive_dataset = pd.merge(definitive_dataset, price_data[['date', 'permno', 'MACD_index']], on=['date', 'permno'], how='left')"
   ]
  },
  {
   "cell_type": "code",
   "execution_count": 28,
   "metadata": {},
   "outputs": [
    {
     "name": "stderr",
     "output_type": "stream",
     "text": [
      "C:\\Users\\Asus\\AppData\\Local\\Temp\\ipykernel_3248\\31253726.py:24: DeprecationWarning: DataFrameGroupBy.apply operated on the grouping columns. This behavior is deprecated, and in a future version of pandas the grouping columns will be excluded from the operation. Either pass `include_groups=False` to exclude the groupings or explicitly select the grouping columns after groupby to silence this warning.\n",
      "  price_data = price_data.groupby('permno').apply(calculate_RSI, price_col='adj_prc', window=14)\n"
     ]
    }
   ],
   "source": [
    "# calculate the RSI for price_data\n",
    "def calculate_RSI(data: pd.DataFrame, price_col: str, window: int):\n",
    "    data.sort_values('date', inplace=True)\n",
    "    # calculate the change up and change down\n",
    "    change = data[price_col].diff()\n",
    "    change_up, change_down = change.copy(), change.copy()\n",
    "    change_up[change_up < 0] = 0\n",
    "    change_down[change_down > 0] = 0\n",
    "\n",
    "    # check we did not make mistakes\n",
    "    assert change.equals(change_up + change_down)\n",
    "\n",
    "    # calculate EWMAs\n",
    "    avg_up = change_up.ewm(span=window, adjust=False).mean()\n",
    "    avg_down = change_down.ewm(span=window, adjust=False).mean().abs()\n",
    "\n",
    "    # calculate RSI\n",
    "    rsi = 100 * avg_up / (avg_up + avg_down)\n",
    "    data[\"rsi\"] = rsi\n",
    "    # mask = data[\"permno\"] != data[\"permno\"].shift(1)\n",
    "    # data.loc[mask, \"rsi\"] = np.nan\n",
    "    return data\n",
    "\n",
    "price_data = price_data.groupby('permno').apply(calculate_RSI, price_col='adj_prc', window=14)\n",
    "price_data.reset_index(drop=True, inplace=True)\n",
    "\n",
    "# merge price_data with definitive_dataset on 'date' and 'permno'\n",
    "definitive_dataset = pd.merge(definitive_dataset, price_data[['date', 'permno', 'rsi']], on=['date', 'permno'], how='left')"
   ]
  },
  {
   "cell_type": "code",
   "execution_count": 29,
   "metadata": {},
   "outputs": [],
   "source": [
    "# add prc_adj and prc to definitive_dataset\n",
    "definitive_dataset = pd.merge(definitive_dataset, price_data[['date', 'permno', 'adj_prc', 'prc']], on=['date', 'permno'], how='left')"
   ]
  },
  {
   "cell_type": "code",
   "execution_count": 30,
   "metadata": {},
   "outputs": [],
   "source": [
    "# Run .diff() on columns_to_drop\n",
    "definitive_dataset.rename(columns={'adj_prc': 'prc_adj'}, inplace=True)\n",
    "definitive_dataset[columns_to_drop] = definitive_dataset[columns_to_drop].diff()"
   ]
  },
  {
   "cell_type": "code",
   "execution_count": 31,
   "metadata": {},
   "outputs": [],
   "source": [
    "def diff_columns(group, columns_to_diff, key='permno'):\n",
    "    group.sort_values('date', inplace=True)\n",
    "    group[columns_to_diff] = group[columns_to_diff].diff()\n",
    "    return group"
   ]
  },
  {
   "cell_type": "code",
   "execution_count": 32,
   "metadata": {},
   "outputs": [
    {
     "name": "stderr",
     "output_type": "stream",
     "text": [
      "C:\\Users\\Asus\\AppData\\Local\\Temp\\ipykernel_3248\\3123363380.py:1: DeprecationWarning: DataFrameGroupBy.apply operated on the grouping columns. This behavior is deprecated, and in a future version of pandas the grouping columns will be excluded from the operation. Either pass `include_groups=False` to exclude the groupings or explicitly select the grouping columns after groupby to silence this warning.\n",
      "  definitive_dataset = definitive_dataset.groupby('permno').apply(diff_columns, columns_to_diff=columns_to_drop)\n"
     ]
    }
   ],
   "source": [
    "definitive_dataset = definitive_dataset.groupby('permno').apply(diff_columns, columns_to_diff=columns_to_drop)\n",
    "definitive_dataset.reset_index(drop=True, inplace=True)"
   ]
  },
  {
   "cell_type": "code",
   "execution_count": 37,
   "metadata": {},
   "outputs": [
    {
     "data": {
      "text/html": [
       "<div>\n",
       "<style scoped>\n",
       "    .dataframe tbody tr th:only-of-type {\n",
       "        vertical-align: middle;\n",
       "    }\n",
       "\n",
       "    .dataframe tbody tr th {\n",
       "        vertical-align: top;\n",
       "    }\n",
       "\n",
       "    .dataframe thead th {\n",
       "        text-align: right;\n",
       "    }\n",
       "</style>\n",
       "<table border=\"1\" class=\"dataframe\">\n",
       "  <thead>\n",
       "    <tr style=\"text-align: right;\">\n",
       "      <th></th>\n",
       "      <th>date</th>\n",
       "      <th>permno</th>\n",
       "      <th>prc</th>\n",
       "      <th>cfacpr</th>\n",
       "      <th>cfacshr</th>\n",
       "      <th>divamt</th>\n",
       "      <th>adj_prc</th>\n",
       "      <th>adj_prc_w_dividend</th>\n",
       "      <th>Ticker</th>\n",
       "      <th>MACD_index</th>\n",
       "      <th>rsi</th>\n",
       "    </tr>\n",
       "  </thead>\n",
       "  <tbody>\n",
       "    <tr>\n",
       "      <th>2672571</th>\n",
       "      <td>2010-06-29</td>\n",
       "      <td>93436</td>\n",
       "      <td>23.89000</td>\n",
       "      <td>15.0</td>\n",
       "      <td>15.0</td>\n",
       "      <td>0.0</td>\n",
       "      <td>1.592667</td>\n",
       "      <td>1.592667</td>\n",
       "      <td>TSLA</td>\n",
       "      <td>0.000000</td>\n",
       "      <td>NaN</td>\n",
       "    </tr>\n",
       "    <tr>\n",
       "      <th>2672572</th>\n",
       "      <td>2010-06-29</td>\n",
       "      <td>93436</td>\n",
       "      <td>23.89000</td>\n",
       "      <td>15.0</td>\n",
       "      <td>15.0</td>\n",
       "      <td>0.0</td>\n",
       "      <td>1.592667</td>\n",
       "      <td>1.592667</td>\n",
       "      <td>TSLA</td>\n",
       "      <td>0.000000</td>\n",
       "      <td>NaN</td>\n",
       "    </tr>\n",
       "    <tr>\n",
       "      <th>2672573</th>\n",
       "      <td>2010-06-29</td>\n",
       "      <td>93436</td>\n",
       "      <td>23.89000</td>\n",
       "      <td>15.0</td>\n",
       "      <td>15.0</td>\n",
       "      <td>0.0</td>\n",
       "      <td>1.592667</td>\n",
       "      <td>1.592667</td>\n",
       "      <td>TSLA</td>\n",
       "      <td>0.000000</td>\n",
       "      <td>NaN</td>\n",
       "    </tr>\n",
       "    <tr>\n",
       "      <th>2672574</th>\n",
       "      <td>2010-06-30</td>\n",
       "      <td>93436</td>\n",
       "      <td>23.83000</td>\n",
       "      <td>15.0</td>\n",
       "      <td>15.0</td>\n",
       "      <td>0.0</td>\n",
       "      <td>1.588667</td>\n",
       "      <td>1.588667</td>\n",
       "      <td>TSLA</td>\n",
       "      <td>-0.000064</td>\n",
       "      <td>0.000000</td>\n",
       "    </tr>\n",
       "    <tr>\n",
       "      <th>2672575</th>\n",
       "      <td>2010-06-30</td>\n",
       "      <td>93436</td>\n",
       "      <td>23.83000</td>\n",
       "      <td>15.0</td>\n",
       "      <td>15.0</td>\n",
       "      <td>0.0</td>\n",
       "      <td>1.588667</td>\n",
       "      <td>1.588667</td>\n",
       "      <td>TSLA</td>\n",
       "      <td>-0.000164</td>\n",
       "      <td>0.000000</td>\n",
       "    </tr>\n",
       "    <tr>\n",
       "      <th>...</th>\n",
       "      <td>...</td>\n",
       "      <td>...</td>\n",
       "      <td>...</td>\n",
       "      <td>...</td>\n",
       "      <td>...</td>\n",
       "      <td>...</td>\n",
       "      <td>...</td>\n",
       "      <td>...</td>\n",
       "      <td>...</td>\n",
       "      <td>...</td>\n",
       "      <td>...</td>\n",
       "    </tr>\n",
       "    <tr>\n",
       "      <th>2675492</th>\n",
       "      <td>2021-12-27</td>\n",
       "      <td>93436</td>\n",
       "      <td>1093.93994</td>\n",
       "      <td>3.0</td>\n",
       "      <td>3.0</td>\n",
       "      <td>0.0</td>\n",
       "      <td>364.646647</td>\n",
       "      <td>364.646647</td>\n",
       "      <td>TSLA</td>\n",
       "      <td>-5.787332</td>\n",
       "      <td>67.448767</td>\n",
       "    </tr>\n",
       "    <tr>\n",
       "      <th>2675493</th>\n",
       "      <td>2021-12-28</td>\n",
       "      <td>93436</td>\n",
       "      <td>1088.46997</td>\n",
       "      <td>3.0</td>\n",
       "      <td>3.0</td>\n",
       "      <td>0.0</td>\n",
       "      <td>362.823323</td>\n",
       "      <td>362.823323</td>\n",
       "      <td>TSLA</td>\n",
       "      <td>-4.808797</td>\n",
       "      <td>65.954489</td>\n",
       "    </tr>\n",
       "    <tr>\n",
       "      <th>2675494</th>\n",
       "      <td>2021-12-29</td>\n",
       "      <td>93436</td>\n",
       "      <td>1086.18994</td>\n",
       "      <td>3.0</td>\n",
       "      <td>3.0</td>\n",
       "      <td>0.0</td>\n",
       "      <td>362.063313</td>\n",
       "      <td>362.063313</td>\n",
       "      <td>TSLA</td>\n",
       "      <td>-3.664446</td>\n",
       "      <td>65.259141</td>\n",
       "    </tr>\n",
       "    <tr>\n",
       "      <th>2675495</th>\n",
       "      <td>2021-12-30</td>\n",
       "      <td>93436</td>\n",
       "      <td>1070.33997</td>\n",
       "      <td>3.0</td>\n",
       "      <td>3.0</td>\n",
       "      <td>0.0</td>\n",
       "      <td>356.779990</td>\n",
       "      <td>356.779990</td>\n",
       "      <td>TSLA</td>\n",
       "      <td>-2.552095</td>\n",
       "      <td>60.170766</td>\n",
       "    </tr>\n",
       "    <tr>\n",
       "      <th>2675496</th>\n",
       "      <td>2021-12-31</td>\n",
       "      <td>93436</td>\n",
       "      <td>1056.78003</td>\n",
       "      <td>3.0</td>\n",
       "      <td>3.0</td>\n",
       "      <td>0.0</td>\n",
       "      <td>352.260010</td>\n",
       "      <td>352.260010</td>\n",
       "      <td>TSLA</td>\n",
       "      <td>-1.584409</td>\n",
       "      <td>55.870479</td>\n",
       "    </tr>\n",
       "  </tbody>\n",
       "</table>\n",
       "<p>2926 rows × 11 columns</p>\n",
       "</div>"
      ],
      "text/plain": [
       "              date  permno         prc  cfacpr  cfacshr  divamt     adj_prc  \\\n",
       "2672571 2010-06-29   93436    23.89000    15.0     15.0     0.0    1.592667   \n",
       "2672572 2010-06-29   93436    23.89000    15.0     15.0     0.0    1.592667   \n",
       "2672573 2010-06-29   93436    23.89000    15.0     15.0     0.0    1.592667   \n",
       "2672574 2010-06-30   93436    23.83000    15.0     15.0     0.0    1.588667   \n",
       "2672575 2010-06-30   93436    23.83000    15.0     15.0     0.0    1.588667   \n",
       "...            ...     ...         ...     ...      ...     ...         ...   \n",
       "2675492 2021-12-27   93436  1093.93994     3.0      3.0     0.0  364.646647   \n",
       "2675493 2021-12-28   93436  1088.46997     3.0      3.0     0.0  362.823323   \n",
       "2675494 2021-12-29   93436  1086.18994     3.0      3.0     0.0  362.063313   \n",
       "2675495 2021-12-30   93436  1070.33997     3.0      3.0     0.0  356.779990   \n",
       "2675496 2021-12-31   93436  1056.78003     3.0      3.0     0.0  352.260010   \n",
       "\n",
       "         adj_prc_w_dividend Ticker  MACD_index        rsi  \n",
       "2672571            1.592667   TSLA    0.000000        NaN  \n",
       "2672572            1.592667   TSLA    0.000000        NaN  \n",
       "2672573            1.592667   TSLA    0.000000        NaN  \n",
       "2672574            1.588667   TSLA   -0.000064   0.000000  \n",
       "2672575            1.588667   TSLA   -0.000164   0.000000  \n",
       "...                     ...    ...         ...        ...  \n",
       "2675492          364.646647   TSLA   -5.787332  67.448767  \n",
       "2675493          362.823323   TSLA   -4.808797  65.954489  \n",
       "2675494          362.063313   TSLA   -3.664446  65.259141  \n",
       "2675495          356.779990   TSLA   -2.552095  60.170766  \n",
       "2675496          352.260010   TSLA   -1.584409  55.870479  \n",
       "\n",
       "[2926 rows x 11 columns]"
      ]
     },
     "execution_count": 37,
     "metadata": {},
     "output_type": "execute_result"
    }
   ],
   "source": [
    "price_data[price_data['permno'] == 93436]"
   ]
  },
  {
   "cell_type": "code",
   "execution_count": 45,
   "metadata": {},
   "outputs": [],
   "source": [
    "definitive_dataset.dropna(inplace=True)"
   ]
  },
  {
   "cell_type": "code",
   "execution_count": 47,
   "metadata": {},
   "outputs": [],
   "source": [
    "definitive_dataset.to_csv('../../data/definitive_dataset.csv', index=False)"
   ]
  }
 ],
 "metadata": {
  "kernelspec": {
   "display_name": "base",
   "language": "python",
   "name": "python3"
  },
  "language_info": {
   "codemirror_mode": {
    "name": "ipython",
    "version": 3
   },
   "file_extension": ".py",
   "mimetype": "text/x-python",
   "name": "python",
   "nbconvert_exporter": "python",
   "pygments_lexer": "ipython3",
   "version": "3.11.7"
  }
 },
 "nbformat": 4,
 "nbformat_minor": 2
}

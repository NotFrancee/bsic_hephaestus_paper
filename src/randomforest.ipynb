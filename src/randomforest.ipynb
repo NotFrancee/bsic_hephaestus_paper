{
 "cells": [
  {
   "cell_type": "code",
   "execution_count": 2,
   "metadata": {},
   "outputs": [
    {
     "name": "stderr",
     "output_type": "stream",
     "text": [
      "/Users/filipporonzino/anaconda3/lib/python3.11/site-packages/pandas/core/arrays/masked.py:60: UserWarning: Pandas requires version '1.3.6' or newer of 'bottleneck' (version '1.3.5' currently installed).\n",
      "  from pandas.core import (\n"
     ]
    }
   ],
   "source": [
    "import pandas as pd\n",
    "import numpy as np\n",
    "from sklearn.ensemble import RandomForestClassifier\n",
    "from sklearn.model_selection import train_test_split\n",
    "from sklearn.metrics import accuracy_score\n",
    "from sklearn.metrics import confusion_matrix\n",
    "from sklearn.metrics import classification_report\n",
    "from sklearn.metrics import roc_auc_score\n",
    "from sklearn.metrics import roc_curve\n",
    "import matplotlib.pyplot as plt"
   ]
  },
  {
   "cell_type": "code",
   "execution_count": 3,
   "metadata": {},
   "outputs": [],
   "source": [
    "# import csv\n",
    "df = pd.read_csv('/Users/filipporonzino/Downloads/datasetlabel.csv')"
   ]
  },
  {
   "cell_type": "code",
   "execution_count": 4,
   "metadata": {},
   "outputs": [
    {
     "data": {
      "text/plain": [
       "Index(['permno', 'CAPEI', 'bm', 'evm', 'pe_op_basic', 'pe_op_dil', 'pe_exi',\n",
       "       'pe_inc', 'ps', 'pcf', 'npm', 'opmbd', 'opmad', 'gpm', 'ptpm', 'cfm',\n",
       "       'roa', 'roe', 'roce', 'aftret_eq', 'aftret_invcapx', 'aftret_equity',\n",
       "       'GProf', 'equity_invcap', 'debt_invcap', 'totdebt_invcap',\n",
       "       'capital_ratio', 'cash_lt', 'debt_at', 'debt_ebitda', 'short_debt',\n",
       "       'lt_debt', 'cash_debt', 'fcf_ocf', 'lt_ppent', 'dltt_be', 'debt_assets',\n",
       "       'debt_capital', 'de_ratio', 'at_turn', 'rect_turn', 'pay_turn',\n",
       "       'sale_invcap', 'sale_equity', 'rd_sale', 'adv_sale', 'staff_sale',\n",
       "       'accrual', 'ptb', 'divyield', 'date', 'prc', 'vol', 'ret', 'retx',\n",
       "       'mktcap', 'prc_adj', 'naics_processed', 'ret_industry_tot',\n",
       "       'ret_industry_relative', 'MACD_index', 'rsi', 'stat_divyeld', 'target'],\n",
       "      dtype='object')"
      ]
     },
     "execution_count": 4,
     "metadata": {},
     "output_type": "execute_result"
    }
   ],
   "source": [
    "df.columns"
   ]
  },
  {
   "cell_type": "code",
   "execution_count": 6,
   "metadata": {},
   "outputs": [],
   "source": [
    "df.dropna(inplace=True)"
   ]
  },
  {
   "cell_type": "code",
   "execution_count": 7,
   "metadata": {},
   "outputs": [],
   "source": [
    "# Selecting the features and the target\n",
    "X = df[['MACD_index', 'rsi',  'mktcap', 'vol', 'ret_industry_tot']]\n",
    "y = df['target']\n",
    "# Splitting the dataset into the Training set and Test set\n",
    "X_train, X_test, y_train, y_test = train_test_split(X, y, test_size = 0.2, random_state = 42)\n",
    "# Create Random Forest object\n",
    "random_forest = RandomForestClassifier(n_estimators = 100, max_features = 3, random_state = 42, bootstrap=True)\n",
    "# Train model\n",
    "random_forest.fit(X_train, y_train)\n",
    "# Predicting the Test set results\n",
    "y_pred = random_forest.predict(X_test)\n",
    "# Check accuracy score\n",
    "accuracy_score(y_test, y_pred)\n",
    "# Confusion matrix\n",
    "confusion_matrix(y_test, y_pred)\n",
    "# Classification report\n",
    "print(classification_report(y_test, y_pred))\n",
    "# ROC AUC score\n",
    "roc_auc_score(y_test, y_pred)\n",
    "# ROC curve\n",
    "fpr, tpr, thresholds = roc_curve(y_test, y_pred)\n",
    "plt.plot(fpr, tpr)\n",
    "\n"
   ]
  }
 ],
 "metadata": {
  "kernelspec": {
   "display_name": "base",
   "language": "python",
   "name": "python3"
  },
  "language_info": {
   "codemirror_mode": {
    "name": "ipython",
    "version": 3
   },
   "file_extension": ".py",
   "mimetype": "text/x-python",
   "name": "python",
   "nbconvert_exporter": "python",
   "pygments_lexer": "ipython3",
   "version": "3.11.0"
  },
  "orig_nbformat": 4,
  "vscode": {
   "interpreter": {
    "hash": "7f217336c97d15ce4a94207d0500046615b0bc55fbf2d342e9c35c59defb6831"
   }
  }
 },
 "nbformat": 4,
 "nbformat_minor": 2
}

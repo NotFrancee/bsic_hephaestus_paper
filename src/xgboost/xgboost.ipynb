{
 "cells": [
  {
   "cell_type": "code",
   "execution_count": 1,
   "metadata": {},
   "outputs": [],
   "source": [
    "# Import packages\n",
    "import pandas as pd       \n",
    "from sklearn.model_selection import train_test_split  \n",
    "import matplotlib.pyplot as plt \n",
    "import numpy as np\n",
    "import xgboost as xgb\n"
   ]
  },
  {
   "cell_type": "code",
   "execution_count": null,
   "metadata": {},
   "outputs": [],
   "source": [
    "# When the data is ready we put it here\n",
    "\n"
   ]
  },
  {
   "cell_type": "code",
   "execution_count": null,
   "metadata": {},
   "outputs": [],
   "source": [
    "def xgboost_model(X_train, y_train, X_test, y_test):\n",
    "    # XGBoost (different learning rate) -- WE HAVE TO CHOOSE OVER WHICH PARAMETERS WE CROSS VALIDATE\n",
    "    learning_rate_range = np.arange(0.01, 1, 0.05)\n",
    "    n_estimators_range = np.arange(100, 1100, 100)\n",
    "    test_XG = [] \n",
    "    train_XG = []\n",
    "    max_score = 0\n",
    "    for lr in learning_rate_range:\n",
    "        for n_est in n_estimators_range:\n",
    "            xgb_classifier = xgb.XGBClassifier(eta = lr, objective = 'binary:logistic', n_estimators = n_est, device = 'cuda') \n",
    "            xgb_classifier.fit(X_train, y_train)\n",
    "            train_XG.append(xgb_classifier.score(X_train, y_train))\n",
    "            test_XG.append(xgb_classifier.score(X_test, y_test))\n",
    "            if test_XG[-1] > max_score:\n",
    "                max_score = test_XG[-1]\n",
    "                bst = xgb_classifier\n",
    "    \n",
    "    return bst"
   ]
  }
 ],
 "metadata": {
  "kernelspec": {
   "display_name": "Python 3",
   "language": "python",
   "name": "python3"
  },
  "language_info": {
   "codemirror_mode": {
    "name": "ipython",
    "version": 3
   },
   "file_extension": ".py",
   "mimetype": "text/x-python",
   "name": "python",
   "nbconvert_exporter": "python",
   "pygments_lexer": "ipython3",
   "version": "3.11.6"
  }
 },
 "nbformat": 4,
 "nbformat_minor": 2
}

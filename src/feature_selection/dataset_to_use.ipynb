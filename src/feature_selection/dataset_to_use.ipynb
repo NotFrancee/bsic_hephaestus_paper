{
 "cells": [
  {
   "cell_type": "code",
   "execution_count": 123,
   "metadata": {},
   "outputs": [],
   "source": [
    "import numpy as np\n",
    "import matplotlib.pyplot as plt\n",
    "import pandas as pd"
   ]
  },
  {
   "cell_type": "code",
   "execution_count": 124,
   "metadata": {},
   "outputs": [],
   "source": [
    "datasetlabel = pd.read_csv('../../data/datasetlabel.csv') # non stationary data\n",
    "fed_funds = pd.read_csv('../../data/1m-fed_fund_futures.csv') # fed funds data\n",
    "other_macro = pd.read_csv('../../data/mdpurg9fqkqhobkm.csv') # CPI and yields\n",
    "fracdiff_data = pd.read_csv('../../data/DATA_FINAL.csv') # fracdiff data\n",
    "alternative_dataset = pd.read_csv('../../data/fixed_divyield.csv') # Ettore's data"
   ]
  },
  {
   "cell_type": "markdown",
   "metadata": {},
   "source": [
    "The base is fracdiff_data, which contains the fractionally differentiated data. From that we add the features from fed_funds, other_macro and alternative_dataset. We then .diff() all the features which are not differentiated. "
   ]
  },
  {
   "cell_type": "code",
   "execution_count": 125,
   "metadata": {},
   "outputs": [
    {
     "name": "stderr",
     "output_type": "stream",
     "text": [
      "C:\\Users\\Asus\\AppData\\Local\\Temp\\ipykernel_1504\\926487017.py:4: FutureWarning: DataFrame.interpolate with object dtype is deprecated and will raise in a future version. Call obj.infer_objects(copy=False) before interpolating instead.\n",
      "  fracdiff_data = fracdiff_data.interpolate(method='linear')\n"
     ]
    }
   ],
   "source": [
    "# Interpolating the data from fracdiff_data \n",
    "\n",
    "fracdiff_data = fracdiff_data[fracdiff_data['date'] >= '2008-01-01']\n",
    "fracdiff_data = fracdiff_data.interpolate(method='linear')"
   ]
  },
  {
   "cell_type": "code",
   "execution_count": 126,
   "metadata": {},
   "outputs": [
    {
     "data": {
      "text/plain": [
       "0"
      ]
     },
     "execution_count": 126,
     "metadata": {},
     "output_type": "execute_result"
    }
   ],
   "source": [
    "# test to see if the interpolation worked\n",
    "np.sum(fracdiff_data.isna().sum(axis=1) > 0)"
   ]
  },
  {
   "cell_type": "markdown",
   "metadata": {},
   "source": [
    "We first merge all the non differentiated features into one and then run .diff() on them "
   ]
  },
  {
   "cell_type": "code",
   "execution_count": 127,
   "metadata": {},
   "outputs": [],
   "source": [
    "# convert every 'Date' to datetime\n",
    "datasetlabel['date'] = pd.to_datetime(datasetlabel['date'])\n",
    "fed_funds['Date'] = pd.to_datetime(fed_funds['Date'])\n",
    "fed_funds.rename(columns={'Date': 'date'}, inplace=True)\n",
    "other_macro['caldt'] = pd.to_datetime(other_macro['caldt'])\n",
    "other_macro.rename(columns={'caldt': 'date'}, inplace=True)\n",
    "fracdiff_data['date'] = pd.to_datetime(fracdiff_data['date'])\n",
    "alternative_dataset['date'] = pd.to_datetime(alternative_dataset['date'])\n",
    "alternative_dataset['date'] = pd.to_datetime(alternative_dataset['date'])"
   ]
  },
  {
   "cell_type": "code",
   "execution_count": 128,
   "metadata": {},
   "outputs": [],
   "source": [
    "fed_funds = fed_funds[['date', 'Adj Close', 'Volume']]\n",
    "fed_funds.rename(columns={'Adj Close': 'fed_funds_adj_close', 'Volume': 'fed_funds_volume'}, inplace=True)\n",
    "\n",
    "# merge fed_funds with other_macro\n",
    "\n",
    "# CAN'T USE OTHER_MACRO BECAUSE IT STARTS IN 2009\n",
    "#macro_data = pd.merge(fed_funds, other_macro, on='date', how='inner')"
   ]
  },
  {
   "cell_type": "code",
   "execution_count": 129,
   "metadata": {},
   "outputs": [
    {
     "data": {
      "text/plain": [
       "{'stat_divyeld', 'target'}"
      ]
     },
     "execution_count": 129,
     "metadata": {},
     "output_type": "execute_result"
    }
   ],
   "source": [
    "set(datasetlabel.columns) - set(fracdiff_data.columns)"
   ]
  },
  {
   "cell_type": "code",
   "execution_count": 130,
   "metadata": {},
   "outputs": [],
   "source": [
    "alternative_dataset = pd.read_csv('../../data/fixed_divyield.csv') # Ettore's data"
   ]
  },
  {
   "cell_type": "code",
   "execution_count": 131,
   "metadata": {},
   "outputs": [
    {
     "data": {
      "text/plain": [
       "Index(['date', 'permno', '12_month_return', '3_month_return'], dtype='object')"
      ]
     },
     "execution_count": 131,
     "metadata": {},
     "output_type": "execute_result"
    }
   ],
   "source": [
    "# keep only the columns of alternative_dataset that are not in fracdiff_data\n",
    "cols_to_keep = ['date', 'permno', '12_month_return', '3_month_return']\n",
    "alternative_dataset = alternative_dataset[cols_to_keep]\n",
    "alternative_dataset.columns"
   ]
  },
  {
   "cell_type": "code",
   "execution_count": 132,
   "metadata": {},
   "outputs": [
    {
     "name": "stdout",
     "output_type": "stream",
     "text": [
      "27090\n"
     ]
    },
    {
     "data": {
      "text/plain": [
       "12_month_return    27090\n",
       "3_month_return      6679\n",
       "date                   0\n",
       "permno                 0\n",
       "dtype: int64"
      ]
     },
     "execution_count": 132,
     "metadata": {},
     "output_type": "execute_result"
    }
   ],
   "source": [
    "print(np.sum(alternative_dataset[alternative_dataset['date']>='2008-01-01'].isna().sum(axis=1) > 0))\n",
    "\n",
    "# find out the columsn that have the most missing values in alternative_dataset[alternative_dataset['date']>='2008-01-01']\n",
    "alternative_dataset[alternative_dataset['date']>='2008-01-01'].isna().sum().sort_values(ascending=False)"
   ]
  },
  {
   "cell_type": "code",
   "execution_count": 136,
   "metadata": {},
   "outputs": [],
   "source": [
    "datasetlabel = datasetlabel[['date', 'permno', 'stat_divyeld']]\n",
    "datasetlabel['date'] = pd.to_datetime(datasetlabel['date'])\n",
    "alternative_dataset['date'] = pd.to_datetime(alternative_dataset['date'])"
   ]
  },
  {
   "cell_type": "code",
   "execution_count": 137,
   "metadata": {},
   "outputs": [],
   "source": [
    "# join the single feature of datasetlabel with alternative_dataset on 'date' and 'permno'\n",
    "non_diff_dataset = pd.merge(datasetlabel, alternative_dataset, on=['date', 'permno'], how='inner')"
   ]
  },
  {
   "cell_type": "code",
   "execution_count": 138,
   "metadata": {},
   "outputs": [],
   "source": [
    "# merge non_diff_dataset with fed_funds on date\n",
    "non_diff_dataset = pd.merge(non_diff_dataset, fed_funds, on='date', how='inner')\n",
    "\n",
    "# interpolate the missing values in non_diff_dataset\n",
    "non_diff_dataset = non_diff_dataset.interpolate(method='linear')"
   ]
  },
  {
   "cell_type": "code",
   "execution_count": 139,
   "metadata": {},
   "outputs": [],
   "source": [
    "# run .diff() on the columns that are not 'date' and 'permno' of non_diff_dataset\n",
    "diff_dataset = non_diff_dataset.copy()\n",
    "diff_dataset[diff_dataset.columns.difference(['date', 'permno'])] = non_diff_dataset[non_diff_dataset.columns.difference(['date', 'permno'])].diff()"
   ]
  },
  {
   "cell_type": "code",
   "execution_count": 140,
   "metadata": {},
   "outputs": [],
   "source": [
    "diff_dataset.dropna(inplace=True) # drop the first row of NaNs since it's not possible to calculate the difference"
   ]
  },
  {
   "cell_type": "code",
   "execution_count": 147,
   "metadata": {},
   "outputs": [],
   "source": [
    "# merge diff_dataset with fracdiff_data on 'date' and 'permno'\n",
    "definitive_dataset = pd.merge(diff_dataset, fracdiff_data, on=['date', 'permno'], how='inner')"
   ]
  },
  {
   "cell_type": "code",
   "execution_count": null,
   "metadata": {},
   "outputs": [],
   "source": [
    "# adding the target variable to the definitive_dataset"
   ]
  },
  {
   "cell_type": "code",
   "execution_count": 149,
   "metadata": {},
   "outputs": [],
   "source": [
    "definitive_dataset.to_csv('../../data/definitive_dataset.csv', index=False)"
   ]
  },
  {
   "cell_type": "code",
   "execution_count": null,
   "metadata": {},
   "outputs": [],
   "source": []
  }
 ],
 "metadata": {
  "kernelspec": {
   "display_name": "base",
   "language": "python",
   "name": "python3"
  },
  "language_info": {
   "codemirror_mode": {
    "name": "ipython",
    "version": 3
   },
   "file_extension": ".py",
   "mimetype": "text/x-python",
   "name": "python",
   "nbconvert_exporter": "python",
   "pygments_lexer": "ipython3",
   "version": "3.11.7"
  }
 },
 "nbformat": 4,
 "nbformat_minor": 2
}

{
 "cells": [
  {
   "cell_type": "code",
   "execution_count": 10,
   "metadata": {},
   "outputs": [],
   "source": [
    "import pandas as pd\n",
    "import numpy as np"
   ]
  },
  {
   "cell_type": "code",
   "execution_count": 11,
   "metadata": {},
   "outputs": [],
   "source": [
    "data = pd.read_csv('../../data/stationary_data.csv')\n",
    "data['date'] = pd.to_datetime(data['date'])\n",
    "\n",
    "# keep only the date and not the time of the day\n",
    "data['date'] = data['date'].dt.date\n",
    "\n",
    "# add a column of nans\n",
    "data['target'] = np.nan"
   ]
  },
  {
   "cell_type": "code",
   "execution_count": 12,
   "metadata": {},
   "outputs": [],
   "source": [
    "subset_date = '2007-12-31'\n",
    "subset_date = pd.to_datetime(subset_date).date()\n",
    "\n",
    "# subset the data after the date\n",
    "data_subset = data[data['date'] > subset_date]"
   ]
  },
  {
   "cell_type": "code",
   "execution_count": 13,
   "metadata": {},
   "outputs": [
    {
     "data": {
      "text/plain": [
       "1123866    2008-01-02\n",
       "1123867    2008-01-02\n",
       "1123868    2008-01-02\n",
       "1123869    2008-01-02\n",
       "1123870    2008-01-02\n",
       "              ...    \n",
       "3483629    2023-12-29\n",
       "3483630    2023-12-29\n",
       "3483631    2023-12-29\n",
       "3483632    2023-12-29\n",
       "3483633    2023-12-29\n",
       "Name: date, Length: 2359768, dtype: object"
      ]
     },
     "execution_count": 13,
     "metadata": {},
     "output_type": "execute_result"
    }
   ],
   "source": [
    "data_subset['date']"
   ]
  },
  {
   "cell_type": "code",
   "execution_count": 14,
   "metadata": {},
   "outputs": [
    {
     "name": "stdout",
     "output_type": "stream",
     "text": [
      "DatetimeIndex(['2008-01-02', '2008-01-03', '2008-01-04', '2008-01-07',\n",
      "               '2008-01-08', '2008-01-09', '2008-01-10', '2008-01-11',\n",
      "               '2008-01-14', '2008-01-15',\n",
      "               ...\n",
      "               '2023-12-15', '2023-12-18', '2023-12-19', '2023-12-20',\n",
      "               '2023-12-21', '2023-12-22', '2023-12-26', '2023-12-27',\n",
      "               '2023-12-28', '2023-12-29'],\n",
      "              dtype='datetime64[ns]', length=4027, freq=None)\n",
      "4027\n"
     ]
    }
   ],
   "source": [
    "# find the unique values of the date column\n",
    "unique_dates = data_subset['date'].unique()\n",
    "\n",
    "unique_dates = pd.to_datetime(unique_dates)\n",
    "\n",
    "print(unique_dates)\n",
    "\n",
    "n_dates = len(unique_dates)\n",
    "print(n_dates)"
   ]
  },
  {
   "cell_type": "code",
   "execution_count": 15,
   "metadata": {},
   "outputs": [
    {
     "name": "stdout",
     "output_type": "stream",
     "text": [
      "1123866    2008-01-02_89954\n",
      "1123867    2008-01-02_60943\n",
      "1123868    2008-01-02_24643\n",
      "1123869    2008-01-02_60206\n",
      "1123870    2008-01-02_75186\n",
      "                 ...       \n",
      "3483629    2023-12-29_32803\n",
      "3483630    2023-12-29_32870\n",
      "3483631    2023-12-29_32942\n",
      "3483632    2023-12-29_60986\n",
      "3483633    2023-12-29_93436\n",
      "Name: date_permno, Length: 2359768, dtype: object\n"
     ]
    },
    {
     "name": "stderr",
     "output_type": "stream",
     "text": [
      "/var/folders/bn/prwtql5x5sg0mbkxc6508fqm0000gn/T/ipykernel_55399/3696400753.py:2: SettingWithCopyWarning: \n",
      "A value is trying to be set on a copy of a slice from a DataFrame.\n",
      "Try using .loc[row_indexer,col_indexer] = value instead\n",
      "\n",
      "See the caveats in the documentation: https://pandas.pydata.org/pandas-docs/stable/user_guide/indexing.html#returning-a-view-versus-a-copy\n",
      "  data_subset['date_permno'] = data_subset['date'].astype(str) + '_' + data_subset['permno'].astype(str)\n"
     ]
    }
   ],
   "source": [
    "# add a column to the data_subset that contains the date and the permno\n",
    "data_subset['date_permno'] = data_subset['date'].astype(str) + '_' + data_subset['permno'].astype(str)"
   ]
  },
  {
   "cell_type": "code",
   "execution_count": 16,
   "metadata": {},
   "outputs": [
    {
     "name": "stdout",
     "output_type": "stream",
     "text": [
      "2/4027 dates processed\r"
     ]
    },
    {
     "name": "stderr",
     "output_type": "stream",
     "text": [
      "/var/folders/bn/prwtql5x5sg0mbkxc6508fqm0000gn/T/ipykernel_55399/3164867070.py:43: FutureWarning: The behavior of DataFrame concatenation with empty or all-NA entries is deprecated. In a future version, this will no longer exclude empty or all-NA columns when determining the result dtypes. To retain the old behavior, exclude the relevant entries before the concat operation.\n",
      "  lagged_data = pd.concat([lagged_data, pd.DataFrame({'date_permno': date_permnos.values, 'lagged_price': lagged_price})])\n"
     ]
    },
    {
     "name": "stdout",
     "output_type": "stream",
     "text": [
      "4027/4027 dates processed\r"
     ]
    }
   ],
   "source": [
    "lagged_data = pd.DataFrame(columns=['date_permno', 'lagged_price'])\n",
    "\n",
    "# loop through the unique dates\n",
    "for i in range(n_dates):\n",
    "    # get the date\n",
    "    date = unique_dates[i].date()\n",
    "\n",
    "    #print('Date:', date)\n",
    "\n",
    "    # get the return date\n",
    "    return_date = date + pd.DateOffset(days=90)\n",
    "    return_date = return_date.date()\n",
    "\n",
    "    # find the return date if it wasn't a trading day going back 1 day at a time\n",
    "    while return_date not in unique_dates:\n",
    "        return_date = return_date - pd.DateOffset(days=1)\n",
    "    \n",
    "    return_date = return_date.date()\n",
    "    \n",
    "    # find the indexes the return date\n",
    "    return_date_mask = data_subset['date'] == return_date\n",
    "\n",
    "    # get the lagged price\n",
    "    lagged_price = data_subset[return_date_mask]['prc'].values\n",
    "\n",
    "    # get the permno at the return date\n",
    "    lagged_permnos = data_subset[return_date_mask]['permno'].copy()\n",
    "\n",
    "    # find the lagged date_permno\n",
    "    date_permnos = str(date) + '_' + lagged_permnos.astype(str)\n",
    "\n",
    "    # add to the lagged_data dataframe\n",
    "    lagged_data = pd.concat([lagged_data, pd.DataFrame({'date_permno': date_permnos.values, 'lagged_price': lagged_price})])\n",
    "\n",
    "    # print the progress deleting the previous line\n",
    "    print(f'{i+1}/{n_dates} dates processed', end='\\r', flush=True)"
   ]
  },
  {
   "cell_type": "code",
   "execution_count": 17,
   "metadata": {},
   "outputs": [],
   "source": [
    "# merge the lagged data with the data_subset on the date_permno\n",
    "data_merged = data_subset.merge(lagged_data, on='date_permno', how='left')"
   ]
  },
  {
   "cell_type": "code",
   "execution_count": 18,
   "metadata": {},
   "outputs": [
    {
     "data": {
      "text/html": [
       "<div>\n",
       "<style scoped>\n",
       "    .dataframe tbody tr th:only-of-type {\n",
       "        vertical-align: middle;\n",
       "    }\n",
       "\n",
       "    .dataframe tbody tr th {\n",
       "        vertical-align: top;\n",
       "    }\n",
       "\n",
       "    .dataframe thead th {\n",
       "        text-align: right;\n",
       "    }\n",
       "</style>\n",
       "<table border=\"1\" class=\"dataframe\">\n",
       "  <thead>\n",
       "    <tr style=\"text-align: right;\">\n",
       "      <th></th>\n",
       "      <th>date</th>\n",
       "      <th>permno</th>\n",
       "      <th>CAPEI</th>\n",
       "      <th>bm</th>\n",
       "      <th>evm</th>\n",
       "      <th>pe_op_basic</th>\n",
       "      <th>pe_op_dil</th>\n",
       "      <th>pe_exi</th>\n",
       "      <th>pe_inc</th>\n",
       "      <th>ps</th>\n",
       "      <th>...</th>\n",
       "      <th>naics_processed</th>\n",
       "      <th>ret_industry_tot</th>\n",
       "      <th>ret_industry_relative</th>\n",
       "      <th>MACD_index</th>\n",
       "      <th>rsi</th>\n",
       "      <th>12_month_return</th>\n",
       "      <th>3_month_return</th>\n",
       "      <th>target</th>\n",
       "      <th>date_permno</th>\n",
       "      <th>lagged_price</th>\n",
       "    </tr>\n",
       "  </thead>\n",
       "  <tbody>\n",
       "    <tr>\n",
       "      <th>0</th>\n",
       "      <td>2008-01-02</td>\n",
       "      <td>89954</td>\n",
       "      <td>-11.591</td>\n",
       "      <td>0.0</td>\n",
       "      <td>0.0</td>\n",
       "      <td>-1.495</td>\n",
       "      <td>-1.495</td>\n",
       "      <td>-1.470</td>\n",
       "      <td>-1.458</td>\n",
       "      <td>-0.136</td>\n",
       "      <td>...</td>\n",
       "      <td>0.0</td>\n",
       "      <td>-0.104223</td>\n",
       "      <td>-0.670402</td>\n",
       "      <td>-0.021730</td>\n",
       "      <td>-7.976799</td>\n",
       "      <td>0.009346</td>\n",
       "      <td>-0.084295</td>\n",
       "      <td>NaN</td>\n",
       "      <td>2008-01-02_89954</td>\n",
       "      <td>0.15</td>\n",
       "    </tr>\n",
       "    <tr>\n",
       "      <th>1</th>\n",
       "      <td>2008-01-02</td>\n",
       "      <td>60943</td>\n",
       "      <td>-2.102</td>\n",
       "      <td>0.0</td>\n",
       "      <td>0.0</td>\n",
       "      <td>-2.397</td>\n",
       "      <td>-2.416</td>\n",
       "      <td>-2.308</td>\n",
       "      <td>-2.107</td>\n",
       "      <td>-0.118</td>\n",
       "      <td>...</td>\n",
       "      <td>0.0</td>\n",
       "      <td>-0.614095</td>\n",
       "      <td>-1.779303</td>\n",
       "      <td>-0.047955</td>\n",
       "      <td>-6.054644</td>\n",
       "      <td>0.025210</td>\n",
       "      <td>-0.007067</td>\n",
       "      <td>NaN</td>\n",
       "      <td>2008-01-02_60943</td>\n",
       "      <td>0.37</td>\n",
       "    </tr>\n",
       "    <tr>\n",
       "      <th>2</th>\n",
       "      <td>2008-01-02</td>\n",
       "      <td>24643</td>\n",
       "      <td>0.109</td>\n",
       "      <td>0.0</td>\n",
       "      <td>0.0</td>\n",
       "      <td>0.206</td>\n",
       "      <td>0.209</td>\n",
       "      <td>0.215</td>\n",
       "      <td>0.206</td>\n",
       "      <td>0.005</td>\n",
       "      <td>...</td>\n",
       "      <td>0.0</td>\n",
       "      <td>-0.614095</td>\n",
       "      <td>0.469282</td>\n",
       "      <td>0.081724</td>\n",
       "      <td>-5.632758</td>\n",
       "      <td>-0.012389</td>\n",
       "      <td>-0.009388</td>\n",
       "      <td>NaN</td>\n",
       "      <td>2008-01-02_24643</td>\n",
       "      <td>-0.05</td>\n",
       "    </tr>\n",
       "    <tr>\n",
       "      <th>3</th>\n",
       "      <td>2008-01-02</td>\n",
       "      <td>60206</td>\n",
       "      <td>-0.381</td>\n",
       "      <td>0.0</td>\n",
       "      <td>0.0</td>\n",
       "      <td>-0.202</td>\n",
       "      <td>-0.205</td>\n",
       "      <td>-0.222</td>\n",
       "      <td>-0.233</td>\n",
       "      <td>-0.013</td>\n",
       "      <td>...</td>\n",
       "      <td>0.0</td>\n",
       "      <td>-0.614095</td>\n",
       "      <td>-0.770565</td>\n",
       "      <td>0.021984</td>\n",
       "      <td>-14.848607</td>\n",
       "      <td>0.012122</td>\n",
       "      <td>-0.050671</td>\n",
       "      <td>NaN</td>\n",
       "      <td>2008-01-02_60206</td>\n",
       "      <td>1.86</td>\n",
       "    </tr>\n",
       "    <tr>\n",
       "      <th>4</th>\n",
       "      <td>2008-01-02</td>\n",
       "      <td>75186</td>\n",
       "      <td>2.650</td>\n",
       "      <td>0.0</td>\n",
       "      <td>0.0</td>\n",
       "      <td>1.477</td>\n",
       "      <td>1.477</td>\n",
       "      <td>1.477</td>\n",
       "      <td>0.602</td>\n",
       "      <td>0.285</td>\n",
       "      <td>...</td>\n",
       "      <td>0.0</td>\n",
       "      <td>-1.656499</td>\n",
       "      <td>-1.138517</td>\n",
       "      <td>0.006348</td>\n",
       "      <td>-19.941739</td>\n",
       "      <td>0.029637</td>\n",
       "      <td>-0.067404</td>\n",
       "      <td>NaN</td>\n",
       "      <td>2008-01-02_75186</td>\n",
       "      <td>0.79</td>\n",
       "    </tr>\n",
       "  </tbody>\n",
       "</table>\n",
       "<p>5 rows × 84 columns</p>\n",
       "</div>"
      ],
      "text/plain": [
       "         date  permno   CAPEI   bm  evm  pe_op_basic  pe_op_dil  pe_exi  \\\n",
       "0  2008-01-02   89954 -11.591  0.0  0.0       -1.495     -1.495  -1.470   \n",
       "1  2008-01-02   60943  -2.102  0.0  0.0       -2.397     -2.416  -2.308   \n",
       "2  2008-01-02   24643   0.109  0.0  0.0        0.206      0.209   0.215   \n",
       "3  2008-01-02   60206  -0.381  0.0  0.0       -0.202     -0.205  -0.222   \n",
       "4  2008-01-02   75186   2.650  0.0  0.0        1.477      1.477   1.477   \n",
       "\n",
       "   pe_inc     ps  ...  naics_processed  ret_industry_tot  \\\n",
       "0  -1.458 -0.136  ...              0.0         -0.104223   \n",
       "1  -2.107 -0.118  ...              0.0         -0.614095   \n",
       "2   0.206  0.005  ...              0.0         -0.614095   \n",
       "3  -0.233 -0.013  ...              0.0         -0.614095   \n",
       "4   0.602  0.285  ...              0.0         -1.656499   \n",
       "\n",
       "   ret_industry_relative  MACD_index        rsi  12_month_return  \\\n",
       "0              -0.670402   -0.021730  -7.976799         0.009346   \n",
       "1              -1.779303   -0.047955  -6.054644         0.025210   \n",
       "2               0.469282    0.081724  -5.632758        -0.012389   \n",
       "3              -0.770565    0.021984 -14.848607         0.012122   \n",
       "4              -1.138517    0.006348 -19.941739         0.029637   \n",
       "\n",
       "   3_month_return  target       date_permno  lagged_price  \n",
       "0       -0.084295     NaN  2008-01-02_89954          0.15  \n",
       "1       -0.007067     NaN  2008-01-02_60943          0.37  \n",
       "2       -0.009388     NaN  2008-01-02_24643         -0.05  \n",
       "3       -0.050671     NaN  2008-01-02_60206          1.86  \n",
       "4       -0.067404     NaN  2008-01-02_75186          0.79  \n",
       "\n",
       "[5 rows x 84 columns]"
      ]
     },
     "execution_count": 18,
     "metadata": {},
     "output_type": "execute_result"
    }
   ],
   "source": [
    "data_merged.head()"
   ]
  },
  {
   "cell_type": "code",
   "execution_count": 19,
   "metadata": {},
   "outputs": [],
   "source": [
    "# calculate the difference between the lagged price and the price\n",
    "data_merged['return'] = data_merged['lagged_price'] - data_merged['prc']\n",
    "\n",
    "# set the target to 1 if the return is greater than 0, to 0 if the return is less than 0\n",
    "data_merged['target'] = np.where(data_merged['return'] > 0, 1, data_merged['target'])\n",
    "data_merged['target'] = np.where(data_merged['return'] < 0, 0, data_merged['target'])"
   ]
  },
  {
   "cell_type": "code",
   "execution_count": 20,
   "metadata": {},
   "outputs": [
    {
     "name": "stdout",
     "output_type": "stream",
     "text": [
      "         permno        date      prc  lagged_price   return  target\n",
      "1663369   90454  2018-11-20  2.38001          2.75  0.36999     1.0\n",
      "825904    15560  2013-04-18  0.02000         -0.07 -0.09000     0.0\n",
      "2246808   91233  2023-02-24 -2.41000         -5.25 -2.84000     0.0\n",
      "1710371   42200  2019-03-26  1.45000         -0.71 -2.16000     0.0\n",
      "2294678   77606  2023-07-06 -0.24000         -0.81 -0.57000     0.0\n",
      "...         ...         ...      ...           ...      ...     ...\n",
      "1329550   13688  2016-08-01  0.21000          0.29  0.08000     1.0\n",
      "2332479   36003  2023-10-17  0.07000         -0.10 -0.17000     0.0\n",
      "687869    88860  2012-05-25  0.34000         -0.29 -0.63000     0.0\n",
      "892184    38093  2013-09-20  0.13000          0.32  0.19000     1.0\n",
      "1157086   66800  2015-06-10  1.69000         -1.37 -3.06000     0.0\n",
      "\n",
      "[100 rows x 6 columns]\n"
     ]
    }
   ],
   "source": [
    "# remove printing limits\n",
    "pd.set_option('display.max_columns', None)\n",
    "\n",
    "# select n random rows\n",
    "n = 100\n",
    "columns_to_print = ['permno', 'date', 'prc', 'lagged_price', 'return', 'target']\n",
    "\n",
    "# print the random rows\n",
    "print(data_merged[columns_to_print].sample(n))"
   ]
  },
  {
   "cell_type": "code",
   "execution_count": null,
   "metadata": {},
   "outputs": [],
   "source": [
    "# drop the date_permno column\n",
    "data_merged.drop('date_permno', axis=1, inplace=True)\n",
    "\n",
    "# save the data to a csv file\n",
    "data_merged.to_csv('../../data/data_stationary_labeled.csv', index=False)"
   ]
  }
 ],
 "metadata": {
  "kernelspec": {
   "display_name": "venv",
   "language": "python",
   "name": "python3"
  },
  "language_info": {
   "codemirror_mode": {
    "name": "ipython",
    "version": 3
   },
   "file_extension": ".py",
   "mimetype": "text/x-python",
   "name": "python",
   "nbconvert_exporter": "python",
   "pygments_lexer": "ipython3",
   "version": "3.12.2"
  }
 },
 "nbformat": 4,
 "nbformat_minor": 2
}

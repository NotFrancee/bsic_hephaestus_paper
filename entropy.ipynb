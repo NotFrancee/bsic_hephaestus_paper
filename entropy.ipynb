{
 "cells": [
  {
   "cell_type": "code",
   "execution_count": 162,
   "metadata": {},
   "outputs": [],
   "source": [
    "import pandas as pd\n",
    "from scipy.stats import gaussian_kde\n",
    "import numpy as np\n",
    "import matplotlib.pyplot as plt\n",
    "from scipy.stats import gaussian_kde\n",
    "from pypfopt.efficient_frontier import EfficientFrontier\n",
    "from pypfopt import risk_models\n",
    "from pypfopt import expected_returns\n",
    "import pypfopt\n",
    "import cvxpy as cp\n"
   ]
  },
  {
   "cell_type": "code",
   "execution_count": 75,
   "metadata": {},
   "outputs": [],
   "source": [
    "df = pd.read_csv('/Users/filipporonzino/Downloads/datasetlabel.csv')"
   ]
  },
  {
   "cell_type": "code",
   "execution_count": 76,
   "metadata": {},
   "outputs": [],
   "source": [
    "# drop na for ret column\n",
    "df = df.dropna(subset=['ret'])"
   ]
  },
  {
   "cell_type": "code",
   "execution_count": 77,
   "metadata": {},
   "outputs": [
    {
     "data": {
      "text/plain": [
       "Index(['permno', 'CAPEI', 'bm', 'evm', 'pe_op_basic', 'pe_op_dil', 'pe_exi',\n",
       "       'pe_inc', 'ps', 'pcf', 'npm', 'opmbd', 'opmad', 'gpm', 'ptpm', 'cfm',\n",
       "       'roa', 'roe', 'roce', 'aftret_eq', 'aftret_invcapx', 'aftret_equity',\n",
       "       'GProf', 'equity_invcap', 'debt_invcap', 'totdebt_invcap',\n",
       "       'capital_ratio', 'cash_lt', 'debt_at', 'debt_ebitda', 'short_debt',\n",
       "       'lt_debt', 'cash_debt', 'fcf_ocf', 'lt_ppent', 'dltt_be', 'debt_assets',\n",
       "       'debt_capital', 'de_ratio', 'at_turn', 'rect_turn', 'pay_turn',\n",
       "       'sale_invcap', 'sale_equity', 'rd_sale', 'adv_sale', 'staff_sale',\n",
       "       'accrual', 'ptb', 'divyield', 'date', 'prc', 'vol', 'ret', 'retx',\n",
       "       'mktcap', 'prc_adj', 'naics_processed', 'ret_industry_tot',\n",
       "       'ret_industry_relative', 'MACD_index', 'rsi', 'stat_divyeld', 'target'],\n",
       "      dtype='object')"
      ]
     },
     "execution_count": 77,
     "metadata": {},
     "output_type": "execute_result"
    }
   ],
   "source": [
    "df.columns"
   ]
  },
  {
   "cell_type": "code",
   "execution_count": 108,
   "metadata": {},
   "outputs": [
    {
     "name": "stdout",
     "output_type": "stream",
     "text": [
      "[10078 10104 10107 10137 10138 10145 10147 10225 10299 10324 10516 10696\n",
      " 10909 11081 11308 11403 11404 11533 11552 11600 11618 11674 11703 11754\n",
      " 11762 11786 11850 11891 11896 11955 11976 12052 12060 12062 12067 12073\n",
      " 12140 12308 12369 12431 12448 12449 12456 12476 12490 12558 12570 12622\n",
      " 12623 12650 12872 12981 13035 13141 13168 13210 13323 13356 13407 13447\n",
      " 13511 13567 13598 13641 13688 13721 13788 13856 13901 13911 13928 13936\n",
      " 13949 13963 13983 14008 14295 14338 14541 14579 14593 14601 14656 14702\n",
      " 14714 14763 14776 14882 14889 14939 15069 15202 15272 15291 15401 15404\n",
      " 15408 15456 15488 15553 15560 15579 15707 15720 15797 15850 16044 16087\n",
      " 16276 16279 16343 16347 16431 16432 16544 16600 16678 16692 16816 16851\n",
      " 17005 17144 17279 17478 17700 17743 17750 17783 17830 17942 18065 18142\n",
      " 18163 18312 18327 18403 18411 18420 18428 18542 18576 18578 18592 18729\n",
      " 19166 19285 19286 19350 19393 19502 19561 19807 20057 20190 20220 20415\n",
      " 20482 20626 21020 21124 21178 21186 21207 21371 21573 21776 21792 21936\n",
      " 21979 22103 22111 22293 22509 22517 22592 22623 22752 22779 22840 22976\n",
      " 23026 23077 23085 23114 23229 23393 23473 23501 23536 23570 23579 23660\n",
      " 23712 23819 23876 23887 23931 24010 24053 24109 24205 24221 24328 24459\n",
      " 24643 24766 24942 24985 25081 25099 25232 25320 25419 25582 25778 25785\n",
      " 25953 26382 26403 26710 26825 27043 27422 27633 27756 27828 27887 27959\n",
      " 27983 27991 28222 28345 28484 28804 29102 29946 30681 30940 32707 32803\n",
      " 32870 32942 32986 34032 34746 34817 34833 35044 35051 35554 36003 36397\n",
      " 36468 37161 37284 37584 38093 38156 38682 38703 38762 39087 39490 39538\n",
      " 39642 39917 40125 40272 40416 40539 41080 41355 42200 42534 42585 42796\n",
      " 42877 42906 43123 43350 43449 43553 43772 44206 44329 44601 44644 44951\n",
      " 45241 45277 45495 45751 45794 45911 46578 46674 46877 46886 47466 47896\n",
      " 47941 48267 48274 48486 48506 48653 48725 49015 49154 49373 49656 49680\n",
      " 50017 50227 50876 51369 51377 51706 52038 52090 52230 52329 52337 52476\n",
      " 52695 52708 52978 53065 53225 53613 53866 54148 54181 54827 55976 56274\n",
      " 56573 57568 57665 57809 57817 57904 58246 58683 58819 59010 59176 59192\n",
      " 59248 59328 59408 59459 60097 60206 60442 60506 60599 60628 60871 60943\n",
      " 60986 61241 61399 61516 61621 61735 61815 62092 62148 62308 62498 63467\n",
      " 63765 63830 64186 64282 64311 64390 64936 64995 65330 65402 65541 65875\n",
      " 66093 66157 66181 66325 66384 66800 67467 68144 68591 68857 69032 69550\n",
      " 69649 69796 70033 70308 70332 70500 70519 70536 70578 71175 71563 72726\n",
      " 73139 75034 75100 75107 75186 75224 75241 75257 75489 75510 75573 75577\n",
      " 75591 75607 75646 75694 75825 75828 75912 76076 76082 76095 76149 76185\n",
      " 76201 76226 76230 76240 76282 76605 76614 76619 76625 76639 76644 76708\n",
      " 76709 76712 76744 76795 76841 77037 77157 77178 77182 77274 77281 77338\n",
      " 77357 77418 77462 77481 77496 77605 77606 77649 77659 77661 77668 77702\n",
      " 77730 77768 77976 78034 78139 78877 78916 78975 78987 79089 79094 79103\n",
      " 79212 79265 79323 79411 79545 79588 79637 79678 79698 79785 79879 79881\n",
      " 79906 79915 80080 80191 80204 80266 80286 80303 80320 80539 80563 80913\n",
      " 81055 81061 81138 81481 81540 81655 81677 81696 81736 81774 81776 81857\n",
      " 82196 82276 82298 82307 82515 82581 82598 82618 82642 82643 82651 82686\n",
      " 82775 83111 83143 83421 83435 83443 83597 83621 83699 83862 83906 83976\n",
      " 84020 84032 84129 84262 84342 84373 84381 84761 84769 84788 85032 85035\n",
      " 85072 85257 85269 85348 85459 85593 85621 85631 85663 85675 85753 85792\n",
      " 85913 85914 85926 85963 85991 86021 86102 86111 86136 86158 86176 86228\n",
      " 86288 86339 86356 86580 86725 86756 86783 86799 86868 86946 86964 86979\n",
      " 86996 87055 87070 87137 87184 87267 87292 87299 87432 87445 87447 87541\n",
      " 87657 87717 87842 88031 88182 88281 88313 88352 88436 88446 88590 88661\n",
      " 88664 88668 88845 88853 88860 88873 88991 89002 89003 89004 89006 89014\n",
      " 89031 89070 89105 89179 89195 89216 89217 89258 89269 89301 89393 89508\n",
      " 89509 89525 89533 89617 89626 89757 89781 89813 89866 89954 90038 90071\n",
      " 90090 90110 90162 90199 90215 90248 90272 90319 90386 90441 90454 90455\n",
      " 90505 90520 90537 90547 90601 90609 90664 90720 90805 90808 90829 90880\n",
      " 90979 90993 91041 91063 91068 91103 91143 91152 91207 91233 91391 91392\n",
      " 91416 91461 91547 91556 91611 91650 91668 91849 91883 91926 91937 92050\n",
      " 92108 92121 92203 92239 92293 92322 92402 92602 92611 92614 92618 92655\n",
      " 92709 92772 92890 92988 93002 93089 93096 93132 93246 93422 93429 93436]\n"
     ]
    }
   ],
   "source": [
    "from enum import unique\n",
    "\n",
    "\n",
    "list(df['permno'].values)\n",
    "print(df['permno'].unique())"
   ]
  },
  {
   "cell_type": "code",
   "execution_count": 79,
   "metadata": {},
   "outputs": [],
   "source": [
    "# create subset of dates filtering by permno\n",
    "df_10078 = df[df['permno'] == 10078]\n",
    "# Drop all columns except date\n",
    "df_10078.columns \n",
    "df_10078 = df_10078[['date', 'prc_adj']]"
   ]
  },
  {
   "cell_type": "code",
   "execution_count": 109,
   "metadata": {},
   "outputs": [
    {
     "name": "stdout",
     "output_type": "stream",
     "text": [
      "Index(['permno', 'CAPEI', 'bm', 'evm', 'pe_op_basic', 'pe_op_dil', 'pe_exi',\n",
      "       'pe_inc', 'ps', 'pcf', 'npm', 'opmbd', 'opmad', 'gpm', 'ptpm', 'cfm',\n",
      "       'roa', 'roe', 'roce', 'aftret_eq', 'aftret_invcapx', 'aftret_equity',\n",
      "       'GProf', 'equity_invcap', 'debt_invcap', 'totdebt_invcap',\n",
      "       'capital_ratio', 'cash_lt', 'debt_at', 'debt_ebitda', 'short_debt',\n",
      "       'lt_debt', 'cash_debt', 'fcf_ocf', 'lt_ppent', 'dltt_be', 'debt_assets',\n",
      "       'debt_capital', 'de_ratio', 'at_turn', 'rect_turn', 'pay_turn',\n",
      "       'sale_invcap', 'sale_equity', 'rd_sale', 'adv_sale', 'staff_sale',\n",
      "       'accrual', 'ptb', 'divyield', 'date', 'prc', 'vol', 'ret', 'retx',\n",
      "       'mktcap', 'prc_adj', 'naics_processed', 'ret_industry_tot',\n",
      "       'ret_industry_relative', 'MACD_index', 'rsi', 'stat_divyeld', 'target'],\n",
      "      dtype='object')\n",
      "            date    prc_adj\n",
      "2402  2000-06-27   9.795552\n",
      "2403  2000-06-28  12.022602\n",
      "2404  2000-06-29  11.396186\n",
      "2405  2000-06-30  11.755384\n",
      "2406  2000-07-03  10.570689\n",
      "...          ...        ...\n",
      "8312  2023-12-22  27.741732\n",
      "8313  2023-12-26  30.131982\n",
      "8314  2023-12-27  29.997176\n",
      "8315  2023-12-28  29.791023\n",
      "8316  2023-12-29  29.517866\n",
      "\n",
      "[5915 rows x 2 columns]\n"
     ]
    }
   ],
   "source": [
    "df_93436 = df[df['permno'] == 10104]\n",
    "# Drop all columns except date\n",
    "print(df_93436.columns )\n",
    "df_93436 = df_93436[['date', 'prc_adj']]\n",
    "print(df_93436)"
   ]
  },
  {
   "cell_type": "code",
   "execution_count": 119,
   "metadata": {},
   "outputs": [],
   "source": [
    "# merge them by date\n",
    "df_merged = df_10078.merge(df_93436, on='date', how='inner')"
   ]
  },
  {
   "cell_type": "code",
   "execution_count": 120,
   "metadata": {},
   "outputs": [
    {
     "data": {
      "text/html": [
       "<div>\n",
       "<style scoped>\n",
       "    .dataframe tbody tr th:only-of-type {\n",
       "        vertical-align: middle;\n",
       "    }\n",
       "\n",
       "    .dataframe tbody tr th {\n",
       "        vertical-align: top;\n",
       "    }\n",
       "\n",
       "    .dataframe thead th {\n",
       "        text-align: right;\n",
       "    }\n",
       "</style>\n",
       "<table border=\"1\" class=\"dataframe\">\n",
       "  <thead>\n",
       "    <tr style=\"text-align: right;\">\n",
       "      <th></th>\n",
       "      <th>date</th>\n",
       "      <th>prc_adj_x</th>\n",
       "      <th>prc_adj_y</th>\n",
       "    </tr>\n",
       "  </thead>\n",
       "  <tbody>\n",
       "    <tr>\n",
       "      <th>0</th>\n",
       "      <td>2000-07-07</td>\n",
       "      <td>64.491355</td>\n",
       "      <td>6.750276</td>\n",
       "    </tr>\n",
       "    <tr>\n",
       "      <th>1</th>\n",
       "      <td>2000-07-10</td>\n",
       "      <td>68.890169</td>\n",
       "      <td>10.168567</td>\n",
       "    </tr>\n",
       "    <tr>\n",
       "      <th>2</th>\n",
       "      <td>2000-07-11</td>\n",
       "      <td>74.272210</td>\n",
       "      <td>10.194193</td>\n",
       "    </tr>\n",
       "    <tr>\n",
       "      <th>3</th>\n",
       "      <td>2000-07-12</td>\n",
       "      <td>76.452780</td>\n",
       "      <td>9.399446</td>\n",
       "    </tr>\n",
       "    <tr>\n",
       "      <th>4</th>\n",
       "      <td>2000-07-13</td>\n",
       "      <td>71.963370</td>\n",
       "      <td>8.901377</td>\n",
       "    </tr>\n",
       "  </tbody>\n",
       "</table>\n",
       "</div>"
      ],
      "text/plain": [
       "         date  prc_adj_x  prc_adj_y\n",
       "0  2000-07-07  64.491355   6.750276\n",
       "1  2000-07-10  68.890169  10.168567\n",
       "2  2000-07-11  74.272210  10.194193\n",
       "3  2000-07-12  76.452780   9.399446\n",
       "4  2000-07-13  71.963370   8.901377"
      ]
     },
     "execution_count": 120,
     "metadata": {},
     "output_type": "execute_result"
    }
   ],
   "source": [
    "df_merged.head()"
   ]
  },
  {
   "cell_type": "code",
   "execution_count": 82,
   "metadata": {},
   "outputs": [
    {
     "data": {
      "text/plain": [
       "<Axes: >"
      ]
     },
     "execution_count": 82,
     "metadata": {},
     "output_type": "execute_result"
    },
    {
     "data": {
      "image/png": "[encoded data removed]",
      "text/plain": [
       "<Figure size 640x480 with 1 Axes>"
      ]
     },
     "metadata": {},
     "output_type": "display_data"
    }
   ],
   "source": [
    "# Now we want the histogram of returns of a certain permno\n",
    "df['ret'][df['permno'] == 10078].hist(bins=100)"
   ]
  },
  {
   "cell_type": "code",
   "execution_count": 83,
   "metadata": {},
   "outputs": [],
   "source": [
    "# I want now a kde estimation of the histogram\n"
   ]
  },
  {
   "cell_type": "code",
   "execution_count": 84,
   "metadata": {},
   "outputs": [
    {
     "data": {
      "image/png": "[encoded data removed]",
      "text/plain": [
       "<Figure size 800x600 with 1 Axes>"
      ]
     },
     "metadata": {},
     "output_type": "display_data"
    }
   ],
   "source": [
    "# Compute kernel density estimate\n",
    "subset_df = df[df['permno'] == 10078]\n",
    "onestock = subset_df['ret']\n",
    "\n",
    "kde = gaussian_kde(onestock)\n",
    "\n",
    "# Evaluate the KDE at specific points\n",
    "# For example, to evaluate at x=0.5\n",
    "# Generate points to evaluate the KDE\n",
    "x = np.linspace(onestock.min(), onestock.max(), 1000)\n",
    "\n",
    "# Evaluate the KDE at these points\n",
    "kde_values = kde(x)\n",
    "\n",
    "# Plot the kernel density estimate\n",
    "plt.figure(figsize=(8, 6))\n",
    "plt.plot(x, kde_values, label='Kernel Density Estimate')\n",
    "plt.xlabel('Value')\n",
    "plt.ylabel('Density')\n",
    "plt.title('Kernel Density Estimate')\n",
    "plt.legend()\n",
    "plt.show()"
   ]
  },
  {
   "cell_type": "code",
   "execution_count": 85,
   "metadata": {},
   "outputs": [
    {
     "data": {
      "image/png": "[encoded data removed]",
      "text/plain": [
       "<Figure size 800x600 with 1 Axes>"
      ]
     },
     "metadata": {},
     "output_type": "display_data"
    },
    {
     "data": {
      "image/png": "[encoded data removed]",
      "text/plain": [
       "<Figure size 800x600 with 1 Axes>"
      ]
     },
     "metadata": {},
     "output_type": "display_data"
    }
   ],
   "source": [
    "# Compute kernel density estimates for X and Y\n",
    "subset_df = df[df['permno'] == 93436]\n",
    "twostock = subset_df['ret']\n",
    "\n",
    "kde_x = gaussian_kde(onestock)\n",
    "kde_y = gaussian_kde(twostock)\n",
    "\n",
    "# Generate points to evaluate the KDE\n",
    "x = np.linspace(onestock.min(), onestock.max(), 1000)\n",
    "\n",
    "# Evaluate the KDE at these points\n",
    "kde_values = kde_y(x)\n",
    "\n",
    "# Plot the kernel density estimate\n",
    "plt.figure(figsize=(8, 6))\n",
    "plt.plot(x, kde_values, label='Kernel Density Estimate')\n",
    "plt.xlabel('Value')\n",
    "plt.ylabel('Density')\n",
    "plt.title('Kernel Density Estimate')\n",
    "plt.legend()\n",
    "plt.show()\n",
    "\n",
    "\n",
    "# Generate points to evaluate the convolution\n",
    "min_val = min(onestock.min(), twostock.min())\n",
    "max_val = max(onestock.max(), twostock.max())\n",
    "x = np.linspace(min_val, max_val, 1000)\n",
    "\n",
    "# Compute the convolution of the kernel density estimates\n",
    "convolution = np.convolve(kde_x(x), kde_y(x), mode='full') * (max_val - min_val) / len(x)\n",
    "\n",
    "# Adjust the x values for the resulting distribution\n",
    "x_conv = np.linspace(2*min_val, 2*max_val, len(convolution))\n",
    "\n",
    "# Plot the resulting distribution\n",
    "plt.figure(figsize=(8, 6))\n",
    "plt.plot(x_conv, convolution, label='Convolution of X and Y')\n",
    "plt.xlabel('Value')\n",
    "plt.ylabel('Density')\n",
    "plt.title('Distribution of X + Y')\n",
    "plt.legend()\n",
    "plt.show()"
   ]
  },
  {
   "cell_type": "code",
   "execution_count": 86,
   "metadata": {},
   "outputs": [
    {
     "name": "stdout",
     "output_type": "stream",
     "text": [
      "False\n",
      "False\n"
     ]
    }
   ],
   "source": [
    "print(np.isnan(kde_x(x)).any())\n",
    "print(np.isnan(kde_y(x)).any())"
   ]
  },
  {
   "cell_type": "code",
   "execution_count": 87,
   "metadata": {},
   "outputs": [
    {
     "data": {
      "text/html": [
       "<div>\n",
       "<style scoped>\n",
       "    .dataframe tbody tr th:only-of-type {\n",
       "        vertical-align: middle;\n",
       "    }\n",
       "\n",
       "    .dataframe tbody tr th {\n",
       "        vertical-align: top;\n",
       "    }\n",
       "\n",
       "    .dataframe thead th {\n",
       "        text-align: right;\n",
       "    }\n",
       "</style>\n",
       "<table border=\"1\" class=\"dataframe\">\n",
       "  <thead>\n",
       "    <tr style=\"text-align: right;\">\n",
       "      <th></th>\n",
       "      <th>date</th>\n",
       "      <th>prc_adj</th>\n",
       "    </tr>\n",
       "  </thead>\n",
       "  <tbody>\n",
       "    <tr>\n",
       "      <th>0</th>\n",
       "      <td>2000-07-07</td>\n",
       "      <td>64.491355</td>\n",
       "    </tr>\n",
       "    <tr>\n",
       "      <th>1</th>\n",
       "      <td>2000-07-10</td>\n",
       "      <td>68.890169</td>\n",
       "    </tr>\n",
       "    <tr>\n",
       "      <th>2</th>\n",
       "      <td>2000-07-11</td>\n",
       "      <td>74.272210</td>\n",
       "    </tr>\n",
       "    <tr>\n",
       "      <th>3</th>\n",
       "      <td>2000-07-12</td>\n",
       "      <td>76.452780</td>\n",
       "    </tr>\n",
       "    <tr>\n",
       "      <th>4</th>\n",
       "      <td>2000-07-13</td>\n",
       "      <td>71.963370</td>\n",
       "    </tr>\n",
       "  </tbody>\n",
       "</table>\n",
       "</div>"
      ],
      "text/plain": [
       "         date    prc_adj\n",
       "0  2000-07-07  64.491355\n",
       "1  2000-07-10  68.890169\n",
       "2  2000-07-11  74.272210\n",
       "3  2000-07-12  76.452780\n",
       "4  2000-07-13  71.963370"
      ]
     },
     "execution_count": 87,
     "metadata": {},
     "output_type": "execute_result"
    }
   ],
   "source": [
    "df_10078.head()"
   ]
  },
  {
   "cell_type": "code",
   "execution_count": 113,
   "metadata": {},
   "outputs": [
    {
     "data": {
      "text/html": [
       "<div>\n",
       "<style scoped>\n",
       "    .dataframe tbody tr th:only-of-type {\n",
       "        vertical-align: middle;\n",
       "    }\n",
       "\n",
       "    .dataframe tbody tr th {\n",
       "        vertical-align: top;\n",
       "    }\n",
       "\n",
       "    .dataframe thead th {\n",
       "        text-align: right;\n",
       "    }\n",
       "</style>\n",
       "<table border=\"1\" class=\"dataframe\">\n",
       "  <thead>\n",
       "    <tr style=\"text-align: right;\">\n",
       "      <th></th>\n",
       "      <th>date</th>\n",
       "      <th>prc_adj_x</th>\n",
       "      <th>prc_adj_y</th>\n",
       "    </tr>\n",
       "  </thead>\n",
       "  <tbody>\n",
       "    <tr>\n",
       "      <th>0</th>\n",
       "      <td>2000-07-07</td>\n",
       "      <td>64.491355</td>\n",
       "      <td>6.750276</td>\n",
       "    </tr>\n",
       "    <tr>\n",
       "      <th>1</th>\n",
       "      <td>2000-07-10</td>\n",
       "      <td>68.890169</td>\n",
       "      <td>10.168567</td>\n",
       "    </tr>\n",
       "    <tr>\n",
       "      <th>2</th>\n",
       "      <td>2000-07-11</td>\n",
       "      <td>74.272210</td>\n",
       "      <td>10.194193</td>\n",
       "    </tr>\n",
       "    <tr>\n",
       "      <th>3</th>\n",
       "      <td>2000-07-12</td>\n",
       "      <td>76.452780</td>\n",
       "      <td>9.399446</td>\n",
       "    </tr>\n",
       "    <tr>\n",
       "      <th>4</th>\n",
       "      <td>2000-07-13</td>\n",
       "      <td>71.963370</td>\n",
       "      <td>8.901377</td>\n",
       "    </tr>\n",
       "  </tbody>\n",
       "</table>\n",
       "</div>"
      ],
      "text/plain": [
       "         date  prc_adj_x  prc_adj_y\n",
       "0  2000-07-07  64.491355   6.750276\n",
       "1  2000-07-10  68.890169  10.168567\n",
       "2  2000-07-11  74.272210  10.194193\n",
       "3  2000-07-12  76.452780   9.399446\n",
       "4  2000-07-13  71.963370   8.901377"
      ]
     },
     "execution_count": 113,
     "metadata": {},
     "output_type": "execute_result"
    }
   ],
   "source": [
    "df_merged.head()"
   ]
  },
  {
   "cell_type": "code",
   "execution_count": 137,
   "metadata": {},
   "outputs": [],
   "source": [
    "from pypfopt.expected_returns import mean_historical_return"
   ]
  },
  {
   "cell_type": "code",
   "execution_count": 171,
   "metadata": {},
   "outputs": [
    {
     "name": "stdout",
     "output_type": "stream",
     "text": [
      "Entropy of stock X: -1835.135874345745\n",
      "Entropy of stock Y: -1883.3974387558062\n",
      "Optimal weights: OrderedDict([('XOM', 0.9800406388148174), ('RRC', 0.0199593611851825)])\n"
     ]
    },
    {
     "name": "stderr",
     "output_type": "stream",
     "text": [
      "/Users/filipporonzino/anaconda3/lib/python3.11/site-packages/pypfopt/expected_returns.py:56: FutureWarning: The default fill_method='pad' in DataFrame.pct_change is deprecated and will be removed in a future version. Either fill in any non-leading NA values prior to calling pct_change or specify 'fill_method=None' to not fill NA values.\n",
      "  returns = prices.pct_change().dropna(how=\"all\")\n"
     ]
    }
   ],
   "source": [
    "# Concatenate KDEs\n",
    "min_val = min(onestock.min(), twostock.min())\n",
    "max_val = max(onestock.max(), twostock.max())\n",
    "x = np.linspace(min_val, max_val, 1000)\n",
    "kde_combined = lambda x: (kde_x(x) + kde_y(x)) / 2\n",
    "# Compute entropy of the kernel density estimates\n",
    "def compute_entropy(kde):\n",
    "    density = kde(x)\n",
    "    # Set very small values to a small positive value to avoid NaN in log calculation\n",
    "    density[density < 1e-10] = 1e-10\n",
    "    return -np.sum(density * np.log(density))\n",
    "\n",
    "entropy_x = compute_entropy(kde_x)\n",
    "entropy_y = compute_entropy(kde_y)\n",
    "\n",
    "print(\"Entropy of stock X:\", entropy_x)\n",
    "print(\"Entropy of stock Y:\", entropy_y)\n",
    "\n",
    "\n",
    "# Compute covariance matrix\n",
    "returns = pd.concat([onestock, twostock], axis=1)\n",
    "cov_matrix = risk_models.sample_cov(returns)\n",
    "# COnvert ret columns to numeric\n",
    "# df_merged['prc_adj_x'] = pd.to_numeric(df_merged['prc_adj_x'], errors='coerce')\n",
    "# df_merged['prc_adj_y'] = pd.to_numeric(df_merged['prc_adj_y'], errors='coerce')\n",
    "# Set the date as index\n",
    "# df_merged['date'] = pd.to_datetime(df_merged['date'])\n",
    "# df_merged = df_merged.set_index('date')\n",
    "mu = mean_historical_return(df_merged)\n",
    "\n",
    "# Compute efficient frontier\n",
    "ef = EfficientFrontier(mu, cov_matrix)\n",
    "ef.add_objective(lambda weights: np.sum(kde_combined(x) * np.log(kde_combined(x))))\n",
    "#ef.add_objective(cp.entr)\n",
    "\n",
    "# Optimize for the maximum expected returns while minimizing entropy\n",
    "#weights = ef.max_sharpe(risk_free_rate=-0.2)\n",
    "weights = ef.min_volatility()\n",
    "\n",
    "\n",
    "print(\"Optimal weights:\", weights)"
   ]
  },
  {
   "cell_type": "code",
   "execution_count": 127,
   "metadata": {},
   "outputs": [
    {
     "data": {
      "text/html": [
       "<div>\n",
       "<style scoped>\n",
       "    .dataframe tbody tr th:only-of-type {\n",
       "        vertical-align: middle;\n",
       "    }\n",
       "\n",
       "    .dataframe tbody tr th {\n",
       "        vertical-align: top;\n",
       "    }\n",
       "\n",
       "    .dataframe thead th {\n",
       "        text-align: right;\n",
       "    }\n",
       "</style>\n",
       "<table border=\"1\" class=\"dataframe\">\n",
       "  <thead>\n",
       "    <tr style=\"text-align: right;\">\n",
       "      <th></th>\n",
       "      <th>prc_adj_x</th>\n",
       "      <th>prc_adj_y</th>\n",
       "    </tr>\n",
       "    <tr>\n",
       "      <th>date</th>\n",
       "      <th></th>\n",
       "      <th></th>\n",
       "    </tr>\n",
       "  </thead>\n",
       "  <tbody>\n",
       "    <tr>\n",
       "      <th>2000-07-07</th>\n",
       "      <td>64.491355</td>\n",
       "      <td>6.750276</td>\n",
       "    </tr>\n",
       "    <tr>\n",
       "      <th>2000-07-10</th>\n",
       "      <td>68.890169</td>\n",
       "      <td>10.168567</td>\n",
       "    </tr>\n",
       "    <tr>\n",
       "      <th>2000-07-11</th>\n",
       "      <td>74.272210</td>\n",
       "      <td>10.194193</td>\n",
       "    </tr>\n",
       "    <tr>\n",
       "      <th>2000-07-12</th>\n",
       "      <td>76.452780</td>\n",
       "      <td>9.399446</td>\n",
       "    </tr>\n",
       "    <tr>\n",
       "      <th>2000-07-13</th>\n",
       "      <td>71.963370</td>\n",
       "      <td>8.901377</td>\n",
       "    </tr>\n",
       "  </tbody>\n",
       "</table>\n",
       "</div>"
      ],
      "text/plain": [
       "            prc_adj_x  prc_adj_y\n",
       "date                            \n",
       "2000-07-07  64.491355   6.750276\n",
       "2000-07-10  68.890169  10.168567\n",
       "2000-07-11  74.272210  10.194193\n",
       "2000-07-12  76.452780   9.399446\n",
       "2000-07-13  71.963370   8.901377"
      ]
     },
     "execution_count": 127,
     "metadata": {},
     "output_type": "execute_result"
    }
   ],
   "source": [
    "df_merged.head()"
   ]
  },
  {
   "cell_type": "code",
   "execution_count": 130,
   "metadata": {},
   "outputs": [],
   "source": [
    "#rename column prc_adj_x to price\n",
    "df_merged.rename(columns={'prc_adj_x': 'XOM'}, inplace=True)\n",
    "df_merged.rename(columns={'prc_adj_y':'RRC'}, inplace=True)"
   ]
  },
  {
   "cell_type": "code",
   "execution_count": 131,
   "metadata": {},
   "outputs": [
    {
     "data": {
      "text/html": [
       "<div>\n",
       "<style scoped>\n",
       "    .dataframe tbody tr th:only-of-type {\n",
       "        vertical-align: middle;\n",
       "    }\n",
       "\n",
       "    .dataframe tbody tr th {\n",
       "        vertical-align: top;\n",
       "    }\n",
       "\n",
       "    .dataframe thead th {\n",
       "        text-align: right;\n",
       "    }\n",
       "</style>\n",
       "<table border=\"1\" class=\"dataframe\">\n",
       "  <thead>\n",
       "    <tr style=\"text-align: right;\">\n",
       "      <th></th>\n",
       "      <th>XOM</th>\n",
       "      <th>RRC</th>\n",
       "    </tr>\n",
       "    <tr>\n",
       "      <th>date</th>\n",
       "      <th></th>\n",
       "      <th></th>\n",
       "    </tr>\n",
       "  </thead>\n",
       "  <tbody>\n",
       "    <tr>\n",
       "      <th>2000-07-07</th>\n",
       "      <td>64.491355</td>\n",
       "      <td>6.750276</td>\n",
       "    </tr>\n",
       "    <tr>\n",
       "      <th>2000-07-10</th>\n",
       "      <td>68.890169</td>\n",
       "      <td>10.168567</td>\n",
       "    </tr>\n",
       "    <tr>\n",
       "      <th>2000-07-11</th>\n",
       "      <td>74.272210</td>\n",
       "      <td>10.194193</td>\n",
       "    </tr>\n",
       "    <tr>\n",
       "      <th>2000-07-12</th>\n",
       "      <td>76.452780</td>\n",
       "      <td>9.399446</td>\n",
       "    </tr>\n",
       "    <tr>\n",
       "      <th>2000-07-13</th>\n",
       "      <td>71.963370</td>\n",
       "      <td>8.901377</td>\n",
       "    </tr>\n",
       "  </tbody>\n",
       "</table>\n",
       "</div>"
      ],
      "text/plain": [
       "                  XOM        RRC\n",
       "date                            \n",
       "2000-07-07  64.491355   6.750276\n",
       "2000-07-10  68.890169  10.168567\n",
       "2000-07-11  74.272210  10.194193\n",
       "2000-07-12  76.452780   9.399446\n",
       "2000-07-13  71.963370   8.901377"
      ]
     },
     "execution_count": 131,
     "metadata": {},
     "output_type": "execute_result"
    }
   ],
   "source": [
    "df_merged.head()"
   ]
  },
  {
   "cell_type": "code",
   "execution_count": 174,
   "metadata": {},
   "outputs": [
    {
     "data": {
      "text/plain": [
       "Index(['date', 'prc_adj'], dtype='object')"
      ]
     },
     "execution_count": 174,
     "metadata": {},
     "output_type": "execute_result"
    }
   ],
   "source": [
    "df_10078.columns"
   ]
  },
  {
   "cell_type": "code",
   "execution_count": 178,
   "metadata": {},
   "outputs": [
    {
     "ename": "TypeError",
     "evalue": "loop of ufunc does not support argument 0 of type multiply which has no callable log method",
     "output_type": "error",
     "traceback": [
      "\u001b[0;31m---------------------------------------------------------------------------\u001b[0m",
      "\u001b[0;31mAttributeError\u001b[0m                            Traceback (most recent call last)",
      "\u001b[0;31mAttributeError\u001b[0m: 'multiply' object has no attribute 'log'",
      "\nThe above exception was the direct cause of the following exception:\n",
      "\u001b[0;31mTypeError\u001b[0m                                 Traceback (most recent call last)",
      "Cell \u001b[0;32mIn[178], line 12\u001b[0m\n\u001b[1;32m     10\u001b[0m weights \u001b[39m=\u001b[39m cp\u001b[39m.\u001b[39mVariable(\u001b[39m2\u001b[39m)\n\u001b[1;32m     11\u001b[0m \u001b[39m# Define the objective as the entropy of the portfolio\u001b[39;00m\n\u001b[0;32m---> 12\u001b[0m objective \u001b[39m=\u001b[39m cp\u001b[39m.\u001b[39mMinimize(portfolio_entropy(weights, df_10078[\u001b[39m'\u001b[39;49m\u001b[39mprc_adj\u001b[39;49m\u001b[39m'\u001b[39;49m]\u001b[39m.\u001b[39;49mvalues))\n\u001b[1;32m     13\u001b[0m \u001b[39m# Define the constraints\u001b[39;00m\n\u001b[1;32m     14\u001b[0m constraints \u001b[39m=\u001b[39m [weights \u001b[39m>\u001b[39m\u001b[39m=\u001b[39m \u001b[39m0\u001b[39m, cp\u001b[39m.\u001b[39msum(weights) \u001b[39m==\u001b[39m \u001b[39m1\u001b[39m]\n",
      "Cell \u001b[0;32mIn[178], line 7\u001b[0m, in \u001b[0;36mportfolio_entropy\u001b[0;34m(weights, returns)\u001b[0m\n\u001b[1;32m      3\u001b[0m portfolio_returns \u001b[39m=\u001b[39m np\u001b[39m.\u001b[39mdot(weights, returns)\n\u001b[1;32m      4\u001b[0m \u001b[39m# Calculate individual asset probabilities (normalized weights)\u001b[39;00m\n\u001b[1;32m      5\u001b[0m \n\u001b[1;32m      6\u001b[0m \u001b[39m# Calculate entropy using a pre-defined function from scipy.stats\u001b[39;00m\n\u001b[0;32m----> 7\u001b[0m \u001b[39mreturn\u001b[39;00m \u001b[39m-\u001b[39mnp\u001b[39m.\u001b[39msum(portfolio_returns \u001b[39m*\u001b[39m np\u001b[39m.\u001b[39;49mlog(portfolio_returns))\n",
      "\u001b[0;31mTypeError\u001b[0m: loop of ufunc does not support argument 0 of type multiply which has no callable log method"
     ]
    }
   ],
   "source": [
    "import scipy.stats as stats\n",
    "def portfolio_entropy(weights, returns):\n",
    "  portfolio_returns = np.dot(weights, returns)\n",
    "  # Calculate individual asset probabilities (normalized weights)\n",
    "  \n",
    "  # Calculate entropy using a pre-defined function from scipy.stats\n",
    "  return -np.sum(portfolio_returns * np.log(portfolio_returns))\n",
    "\n",
    "# Define the weights as cp variables\n",
    "weights = cp.Variable(2)\n",
    "# Define the objective as the entropy of the portfolio\n",
    "objective = cp.Minimize(portfolio_entropy(weights, df_10078['prc_adj'].values))\n",
    "# Define the constraints\n",
    "constraints = [weights >= 0, cp.sum(weights) == 1]\n",
    "# Define the problem\n",
    "problem = cp.Problem(objective, constraints)\n",
    "# Solve the problem\n",
    "problem.solve()\n",
    "# Get the optimal weights\n",
    "optimal_weights = weights.value\n",
    "print(\"Optimal weights:\", optimal_weights)\n"
   ]
  }
 ],
 "metadata": {
  "kernelspec": {
   "display_name": "base",
   "language": "python",
   "name": "python3"
  },
  "language_info": {
   "codemirror_mode": {
    "name": "ipython",
    "version": 3
   },
   "file_extension": ".py",
   "mimetype": "text/x-python",
   "name": "python",
   "nbconvert_exporter": "python",
   "pygments_lexer": "ipython3",
   "version": "3.11.0 | packaged by conda-forge | (main, Jan 14 2023, 12:25:12) [Clang 14.0.6 ]"
  },
  "orig_nbformat": 4,
  "vscode": {
   "interpreter": {
    "hash": "7f217336c97d15ce4a94207d0500046615b0bc55fbf2d342e9c35c59defb6831"
   }
  }
 },
 "nbformat": 4,
 "nbformat_minor": 2
}

{
 "cells": [
  {
   "cell_type": "code",
   "execution_count": 16,
   "metadata": {},
   "outputs": [],
   "source": [
    "from fractional_differentiation import fracDiff_FFD, find_min_stationary_d\n",
    "import pandas as pd\n",
    "import numpy as np\n",
    "from statsmodels.tsa.stattools import adfuller"
   ]
  },
  {
   "cell_type": "code",
   "execution_count": 23,
   "metadata": {},
   "outputs": [],
   "source": [
    "prices = pd.read_csv(\n",
    "    \"../../data/prices_data.csv\", index_col=0, parse_dates=[\"YYYYMMDD\"]\n",
    ")"
   ]
  },
  {
   "cell_type": "code",
   "execution_count": 24,
   "metadata": {},
   "outputs": [
    {
     "data": {
      "text/html": [
       "<div>\n",
       "<style scoped>\n",
       "    .dataframe tbody tr th:only-of-type {\n",
       "        vertical-align: middle;\n",
       "    }\n",
       "\n",
       "    .dataframe tbody tr th {\n",
       "        vertical-align: top;\n",
       "    }\n",
       "\n",
       "    .dataframe thead th {\n",
       "        text-align: right;\n",
       "    }\n",
       "</style>\n",
       "<table border=\"1\" class=\"dataframe\">\n",
       "  <thead>\n",
       "    <tr style=\"text-align: right;\">\n",
       "      <th></th>\n",
       "      <th>DlyPrc</th>\n",
       "    </tr>\n",
       "    <tr>\n",
       "      <th>PERMNO</th>\n",
       "      <th></th>\n",
       "    </tr>\n",
       "  </thead>\n",
       "  <tbody>\n",
       "    <tr>\n",
       "      <th>10078</th>\n",
       "      <td>76.500</td>\n",
       "    </tr>\n",
       "    <tr>\n",
       "      <th>10078</th>\n",
       "      <td>71.750</td>\n",
       "    </tr>\n",
       "    <tr>\n",
       "      <th>10078</th>\n",
       "      <td>71.875</td>\n",
       "    </tr>\n",
       "    <tr>\n",
       "      <th>10078</th>\n",
       "      <td>68.000</td>\n",
       "    </tr>\n",
       "    <tr>\n",
       "      <th>10078</th>\n",
       "      <td>71.875</td>\n",
       "    </tr>\n",
       "    <tr>\n",
       "      <th>...</th>\n",
       "      <td>...</td>\n",
       "    </tr>\n",
       "    <tr>\n",
       "      <th>93436</th>\n",
       "      <td>252.540</td>\n",
       "    </tr>\n",
       "    <tr>\n",
       "      <th>93436</th>\n",
       "      <td>256.610</td>\n",
       "    </tr>\n",
       "    <tr>\n",
       "      <th>93436</th>\n",
       "      <td>261.440</td>\n",
       "    </tr>\n",
       "    <tr>\n",
       "      <th>93436</th>\n",
       "      <td>253.180</td>\n",
       "    </tr>\n",
       "    <tr>\n",
       "      <th>93436</th>\n",
       "      <td>248.480</td>\n",
       "    </tr>\n",
       "  </tbody>\n",
       "</table>\n",
       "<p>3983889 rows × 1 columns</p>\n",
       "</div>"
      ],
      "text/plain": [
       "         DlyPrc\n",
       "PERMNO         \n",
       "10078    76.500\n",
       "10078    71.750\n",
       "10078    71.875\n",
       "10078    68.000\n",
       "10078    71.875\n",
       "...         ...\n",
       "93436   252.540\n",
       "93436   256.610\n",
       "93436   261.440\n",
       "93436   253.180\n",
       "93436   248.480\n",
       "\n",
       "[3983889 rows x 1 columns]"
      ]
     },
     "execution_count": 24,
     "metadata": {},
     "output_type": "execute_result"
    }
   ],
   "source": [
    "prices[[\"DlyPrc\"]]"
   ]
  },
  {
   "cell_type": "code",
   "execution_count": 51,
   "metadata": {},
   "outputs": [
    {
     "data": {
      "text/plain": [
       "SecInfoStartDt          0\n",
       "SecInfoEndDt            0\n",
       "SecurityBegDt           0\n",
       "SecurityEndDt           0\n",
       "SecurityNm              0\n",
       "Ticker               1418\n",
       "PERMCO                  0\n",
       "SICCD                   0\n",
       "NAICS                   0\n",
       "ICBIndustry             0\n",
       "YYYYMMDD                0\n",
       "DlyCalDt                0\n",
       "DlyPrc               1173\n",
       "DlyPrcFlg               0\n",
       "DlyCap               1473\n",
       "DlyCapFlg               0\n",
       "DlyPrevPrc           1440\n",
       "DlyPrevPrcFlg        1173\n",
       "DlyPrevDt            1440\n",
       "DlyPrevCap           1440\n",
       "DlyPrevCapFlg        1173\n",
       "DlyRetx              1443\n",
       "DlyVol               1474\n",
       "DlyClose            14731\n",
       "DlyLow              14731\n",
       "DlyHigh             14731\n",
       "DlyBid              57383\n",
       "DlyAsk              57383\n",
       "DlyOpen             19808\n",
       "DlyNumTrd         2970055\n",
       "DlyPrcVol            1475\n",
       "ShrOut                300\n",
       "dtype: int64"
      ]
     },
     "execution_count": 51,
     "metadata": {},
     "output_type": "execute_result"
    }
   ],
   "source": [
    "prices.isna().sum()"
   ]
  },
  {
   "cell_type": "code",
   "execution_count": 44,
   "metadata": {},
   "outputs": [
    {
     "data": {
      "text/html": [
       "<div>\n",
       "<style scoped>\n",
       "    .dataframe tbody tr th:only-of-type {\n",
       "        vertical-align: middle;\n",
       "    }\n",
       "\n",
       "    .dataframe tbody tr th {\n",
       "        vertical-align: top;\n",
       "    }\n",
       "\n",
       "    .dataframe thead th {\n",
       "        text-align: right;\n",
       "    }\n",
       "</style>\n",
       "<table border=\"1\" class=\"dataframe\">\n",
       "  <thead>\n",
       "    <tr style=\"text-align: right;\">\n",
       "      <th></th>\n",
       "      <th>DlyPrc</th>\n",
       "      <th>YYYYMMDD</th>\n",
       "      <th>Ticker</th>\n",
       "    </tr>\n",
       "    <tr>\n",
       "      <th>PERMNO</th>\n",
       "      <th></th>\n",
       "      <th></th>\n",
       "      <th></th>\n",
       "    </tr>\n",
       "  </thead>\n",
       "  <tbody>\n",
       "    <tr>\n",
       "      <th>93436</th>\n",
       "      <td>23.89</td>\n",
       "      <td>2010-06-29</td>\n",
       "      <td>TSLA</td>\n",
       "    </tr>\n",
       "    <tr>\n",
       "      <th>93436</th>\n",
       "      <td>23.83</td>\n",
       "      <td>2010-06-30</td>\n",
       "      <td>TSLA</td>\n",
       "    </tr>\n",
       "    <tr>\n",
       "      <th>93436</th>\n",
       "      <td>21.96</td>\n",
       "      <td>2010-07-01</td>\n",
       "      <td>TSLA</td>\n",
       "    </tr>\n",
       "    <tr>\n",
       "      <th>93436</th>\n",
       "      <td>19.20</td>\n",
       "      <td>2010-07-02</td>\n",
       "      <td>TSLA</td>\n",
       "    </tr>\n",
       "    <tr>\n",
       "      <th>93436</th>\n",
       "      <td>16.11</td>\n",
       "      <td>2010-07-06</td>\n",
       "      <td>TSLA</td>\n",
       "    </tr>\n",
       "  </tbody>\n",
       "</table>\n",
       "</div>"
      ],
      "text/plain": [
       "        DlyPrc   YYYYMMDD Ticker\n",
       "PERMNO                          \n",
       "93436    23.89 2010-06-29   TSLA\n",
       "93436    23.83 2010-06-30   TSLA\n",
       "93436    21.96 2010-07-01   TSLA\n",
       "93436    19.20 2010-07-02   TSLA\n",
       "93436    16.11 2010-07-06   TSLA"
      ]
     },
     "execution_count": 44,
     "metadata": {},
     "output_type": "execute_result"
    }
   ],
   "source": [
    "x = prices.loc[93436, [\"DlyPrc\", \"YYYYMMDD\", \"Ticker\"]]\n",
    "x.head()"
   ]
  },
  {
   "cell_type": "code",
   "execution_count": 48,
   "metadata": {},
   "outputs": [
    {
     "data": {
      "text/plain": [
       "<Axes: xlabel='YYYYMMDD'>"
      ]
     },
     "execution_count": 48,
     "metadata": {},
     "output_type": "execute_result"
    },
    {
     "data": {
      "image/png": "[encoded data removed]",
      "text/plain": [
       "<Figure size 640x480 with 1 Axes>"
      ]
     },
     "metadata": {},
     "output_type": "display_data"
    }
   ],
   "source": [
    "x[x.set_index(\"YYYYMMDD\").index.year >= 2020].plot(x=\"YYYYMMDD\", y=\"DlyPrc\")"
   ]
  },
  {
   "cell_type": "code",
   "execution_count": 49,
   "metadata": {},
   "outputs": [
    {
     "data": {
      "text/plain": [
       "(-2.868786784811168,\n",
       " 0.049099930321660795,\n",
       " 1,\n",
       " 1004,\n",
       " {'1%': -3.436879978012783,\n",
       "  '5%': -2.86442302475405,\n",
       "  '10%': -2.568305057578451})"
      ]
     },
     "execution_count": 49,
     "metadata": {},
     "output_type": "execute_result"
    }
   ],
   "source": [
    "adfuller(\n",
    "    x[x.set_index(\"YYYYMMDD\").index.year >= 2020][\"DlyPrc\"],\n",
    "    maxlag=1,\n",
    "    regression=\"c\",\n",
    "    autolag=None,\n",
    ")"
   ]
  }
 ],
 "metadata": {
  "kernelspec": {
   "display_name": "bsic",
   "language": "python",
   "name": "python3"
  },
  "language_info": {
   "codemirror_mode": {
    "name": "ipython",
    "version": 3
   },
   "file_extension": ".py",
   "mimetype": "text/x-python",
   "name": "python",
   "nbconvert_exporter": "python",
   "pygments_lexer": "ipython3",
   "version": "3.12.1"
  }
 },
 "nbformat": 4,
 "nbformat_minor": 2
}

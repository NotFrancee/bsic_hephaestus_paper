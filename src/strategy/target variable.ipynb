{
 "cells": [
  {
   "cell_type": "code",
   "execution_count": null,
   "metadata": {},
   "outputs": [],
   "source": [
    "#code for creating the target output\n",
    "import pandas as pd\n",
    "\n",
    "# Assuming your dataset is stored in a DataFrame called df\n",
    "# Make sure your 'date' column is in datetime format\n",
    "df['date'] = pd.to_datetime(df['date'])\n",
    "\n",
    "# Sort the DataFrame by 'permno' and 'date' in ascending order\n",
    "df.sort_values(by=['permno', 'date'], inplace=True)\n",
    "\n",
    "# Define a function to find the closest available price within a range of days\n",
    "def find_closest_price(row, prices):\n",
    "    target_date = row['date']\n",
    "    permno = row['permno']\n",
    "    price_index = prices.index\n",
    "    closest_date = price_index[price_index <= target_date][-1]\n",
    "    return prices.loc[closest_date, permno] if closest_date in prices.index else None\n",
    "\n",
    "# Group the DataFrame by 'permno' and create a dictionary of DataFrames for each group\n",
    "price_groups = {permno: group.set_index('date')['price'] for permno, group in df.groupby('permno')}\n",
    "\n",
    "# Apply the function to find the closest price for each row\n",
    "df['price_90_days_ago'] = df.apply(find_closest_price, args=(price_groups,), axis=1)\n",
    "\n",
    "# Calculate the price difference between today and 90 days before\n",
    "df['price_diff'] = df['price'] - df['price_90_days_ago']\n",
    "\n",
    "# Define a function to assign 1 if price difference is positive, -1 otherwise\n",
    "def assign_target(x):\n",
    "    if x > 0:\n",
    "        return 1\n",
    "    else:\n",
    "        return -1\n",
    "\n",
    "# Apply the function to create the 'target' column\n",
    "df['target'] = df['price_diff'].apply(assign_target)\n",
    "\n",
    "# Drop intermediate columns if you don't need them anymore\n",
    "df.drop(columns=['price_90_days_ago', 'price_diff'], inplace=True)\n",
    "\n",
    "# Reset index if needed\n",
    "df.reset_index(drop=True, inplace=True)\n",
    "\n",
    "# Print or save the updated DataFrame\n",
    "print(df)\n"
   ]
  }
 ],
 "metadata": {
  "kernelspec": {
   "display_name": "base",
   "language": "python",
   "name": "python3"
  },
  "language_info": {
   "name": "python",
   "version": "3.9.13"
  }
 },
 "nbformat": 4,
 "nbformat_minor": 2
}

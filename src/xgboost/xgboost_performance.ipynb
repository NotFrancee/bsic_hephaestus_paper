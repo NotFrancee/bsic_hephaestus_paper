{
 "cells": [
  {
   "cell_type": "code",
   "execution_count": 1,
   "metadata": {},
   "outputs": [],
   "source": [
    "# Import packages\n",
    "import pandas as pd       \n",
    "from sklearn.model_selection import train_test_split  \n",
    "import matplotlib.pyplot as plt \n",
    "import numpy as np\n",
    "import xgboost as xgb\n",
    "import pickle"
   ]
  },
  {
   "cell_type": "code",
   "execution_count": 2,
   "metadata": {},
   "outputs": [],
   "source": [
    "# import data\n",
    "data = pd.read_csv('../../data/datasetlabel.csv')\n",
    "data['date'] = pd.to_datetime(data['date'])\n",
    "\n",
    "# load selected features with pickle\n",
    "with open('../../data/selected_features.pkl', 'rb') as f:\n",
    "    selected_features = pickle.load(f)"
   ]
  },
  {
   "cell_type": "code",
   "execution_count": 3,
   "metadata": {},
   "outputs": [
    {
     "name": "stdout",
     "output_type": "stream",
     "text": [
      "Training features:\n",
      "['CAPEI', 'equity_invcap', 'evm', 'pe_op_basic', 'pe_inc', 'ps', 'ptpm', 'roa', 'roe', 'aftret_equity', 'aftret_invcapx', 'GProf', 'capital_ratio', 'short_debt', 'fcf_ocf', 'lt_ppent', 'at_turn', 'rect_turn', 'pay_turn', 'adv_sale', 'stat_divyeld', 'prc', 'vol', 'retx', 'mktcap', 'MACD_index']\n"
     ]
    }
   ],
   "source": [
    "start_date = pd.to_datetime('2008-01-01')\n",
    "end_date = start_date + pd.DateOffset(years=2) - pd.DateOffset(days=91)\n",
    "\n",
    "training_data = data[(data['date'] >= start_date) & (data['date'] <= end_date)]\n",
    "training_features = selected_features[start_date]\n",
    "\n",
    "# print the features\n",
    "print(f'Training features:\\n{training_features}')\n",
    "\n",
    "X = training_data[training_features].copy()\n",
    "y = training_data['target'].copy()\n",
    "negative_mask = (y == -1)\n",
    "y[negative_mask] = 0"
   ]
  },
  {
   "cell_type": "code",
   "execution_count": 4,
   "metadata": {},
   "outputs": [],
   "source": [
    "# import the model with pickle\n",
    "n_estimators = 150\n",
    "model_name = f'xg_boost_{start_date}_{n_estimators}.pkl'\n",
    "with open(f'../../models/{model_name}', 'rb') as f:\n",
    "    model = pickle.load(f)"
   ]
  },
  {
   "cell_type": "code",
   "execution_count": 5,
   "metadata": {},
   "outputs": [
    {
     "name": "stdout",
     "output_type": "stream",
     "text": [
      "First trading date: 2010-01-04 00:00:00\n"
     ]
    }
   ],
   "source": [
    "first_trading_date = start_date + pd.DateOffset(years=2)\n",
    "dates = data['date'].unique()\n",
    "\n",
    "# find the first trading day after the end date\n",
    "while first_trading_date not in dates:\n",
    "    first_trading_date += pd.DateOffset(days=1)\n",
    "\n",
    "print(f'First trading date: {first_trading_date}')\n",
    "\n",
    "X_prediction_mask = data['date'] == first_trading_date\n",
    "X_prediction = data[X_prediction_mask][training_features].copy()\n",
    "\n",
    "assert len(X_prediction) > 0, 'No data to predict'\n",
    "permnos_first_trading_day = data[X_prediction_mask]['permno'].copy()\n",
    "target = data[X_prediction_mask]['target'].copy()\n",
    "target[target == -1] = 0"
   ]
  },
  {
   "cell_type": "code",
   "execution_count": 6,
   "metadata": {},
   "outputs": [
    {
     "name": "stdout",
     "output_type": "stream",
     "text": [
      "Return date: 2010-04-01 00:00:00\n"
     ]
    }
   ],
   "source": [
    "return_date = first_trading_date + pd.DateOffset(days=90)\n",
    "\n",
    "# find the first trading day after the end date\n",
    "while return_date not in dates:\n",
    "    return_date -= pd.DateOffset(days=1)\n",
    "\n",
    "print(f'Return date: {return_date}')\n",
    "\n",
    "X_return_mask = data['date'] == return_date\n",
    "\n",
    "# calculate 90 days return\n",
    "trading_day_price = data[X_prediction_mask]['prc'].copy()\n",
    "return_day_price = data[X_return_mask]['prc'].copy()\n",
    "permnos_return = data[X_return_mask]['permno'].copy()"
   ]
  },
  {
   "cell_type": "code",
   "execution_count": 7,
   "metadata": {},
   "outputs": [],
   "source": [
    "# find the predictions\n",
    "y_pred_proba = model.predict_proba(X_prediction)\n",
    "y_pred = model.predict(X_prediction)\n",
    "\n",
    "# check if prediction is correct\n",
    "correct_prediction = y_pred == target\n",
    "\n",
    "# put the predictions in a dataframe\n",
    "predictions_df = pd.DataFrame({\n",
    "    'permno': permnos_first_trading_day,\n",
    "    '0_probability': y_pred_proba[:, 0],\n",
    "    '1_probability': y_pred_proba[:, 1],\n",
    "    'prediction': y_pred,\n",
    "    'correct_prediction': correct_prediction,\n",
    "    'trading_day_price': trading_day_price,\n",
    "})\n",
    "\n",
    "return_price_df = pd.DataFrame({\n",
    "    'permnos': permnos_return,\n",
    "    'price_return': return_day_price,\n",
    "})\n",
    "\n",
    "# merge the two dataframes\n",
    "merged_df = pd.merge(predictions_df, return_price_df, left_on='permno', right_on='permnos')\n",
    "\n",
    "# calculate the return\n",
    "merged_df['return(%)'] = (merged_df['price_return'] / merged_df['trading_day_price'] - 1)*100"
   ]
  },
  {
   "cell_type": "code",
   "execution_count": 9,
   "metadata": {},
   "outputs": [
    {
     "name": "stdout",
     "output_type": "stream",
     "text": [
      "Top 15 long predictions:\n",
      "     permno  0_probability  1_probability  correct_prediction  return(%)\n",
      "176   39490       0.001171       0.998829                True  -0.406254\n",
      "498   87137       0.001251       0.998749                True -12.224295\n",
      "587   91233       0.004724       0.995276                True  -0.514481\n",
      "405   79915       0.006021       0.993979                True   8.796349\n",
      "569   90547       0.006400       0.993600                True  18.118306\n",
      "576   90829       0.007664       0.992336                True  -0.047544\n",
      "575   90808       0.007792       0.992208                True   6.535000\n",
      "424   81774       0.008342       0.991658                True   5.465023\n",
      "374   77606       0.008641       0.991359                True   2.519452\n",
      "252   57817       0.008684       0.991316                True   8.496689\n",
      "137   27422       0.009143       0.990857                True  54.228683\n",
      "132   26382       0.009635       0.990365                True  25.579798\n",
      "11    10909       0.010086       0.989914                True   1.732526\n",
      "489   86783       0.010218       0.989782                True  31.236334\n",
      "220   49015       0.010588       0.989412               False  24.643344\n",
      "----------------------------------------------------------\n",
      "Top 15 short predictions:\n",
      "     permno  0_probability  1_probability  correct_prediction  return(%)\n",
      "600   91937       0.983615       0.016385               False  -5.241016\n",
      "540   89301       0.921524       0.078476                True   0.016862\n",
      "531   89031       0.913839       0.086161                True  19.825522\n",
      "226   50876       0.904429       0.095571                True  14.030391\n",
      "170   38093       0.896500       0.103500                True   6.493552\n",
      "365   77274       0.895160       0.104840                True   5.108141\n",
      "200   44951       0.893188       0.106812                True  31.428859\n",
      "314   70519       0.884152       0.115848                True  21.497280\n",
      "419   81540       0.870545       0.129455               False  12.299961\n",
      "455   84761       0.862608       0.137392                True  -9.857322\n",
      "368   77357       0.860564       0.139436               False  -2.572178\n",
      "602   92121       0.857823       0.142177                True  -1.118494\n",
      "510   88031       0.857477       0.142523               False  13.189880\n",
      "446   83862       0.852122       0.147878               False  -2.510292\n",
      "375   77649       0.826743       0.173256                True  20.581253\n"
     ]
    }
   ],
   "source": [
    "n = 15\n",
    "# find the n argmin and argmax\n",
    "top_n = merged_df['1_probability'].nlargest(n)\n",
    "bottom_n = merged_df['1_probability'].nsmallest(n)\n",
    "\n",
    "features_to_print = ['permno','0_probability', '1_probability', 'correct_prediction', 'return(%)']\n",
    "\n",
    "print(f'Top {n} long predictions:')\n",
    "print(merged_df.loc[top_n.index][features_to_print])\n",
    "print('-'*58)\n",
    "print(f'Top {n} short predictions:')\n",
    "print(merged_df.loc[bottom_n.index][features_to_print])"
   ]
  }
 ],
 "metadata": {
  "kernelspec": {
   "display_name": "venv",
   "language": "python",
   "name": "python3"
  },
  "language_info": {
   "codemirror_mode": {
    "name": "ipython",
    "version": 3
   },
   "file_extension": ".py",
   "mimetype": "text/x-python",
   "name": "python",
   "nbconvert_exporter": "python",
   "pygments_lexer": "ipython3",
   "version": "3.12.2"
  }
 },
 "nbformat": 4,
 "nbformat_minor": 2
}

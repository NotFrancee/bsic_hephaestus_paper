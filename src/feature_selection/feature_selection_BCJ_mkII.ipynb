{
 "cells": [
  {
   "cell_type": "code",
   "execution_count": 1,
   "metadata": {},
   "outputs": [],
   "source": [
    "import numpy as np\n",
    "import pandas as pd\n",
    "from sklearn.decomposition import PCA\n",
    "from sklearn.preprocessing import StandardScaler\n",
    "from sklearn.cluster import KMeans\n",
    "from collections import defaultdict\n",
    "from sklearn.metrics.pairwise import euclidean_distances"
   ]
  },
  {
   "cell_type": "code",
   "execution_count": 2,
   "metadata": {},
   "outputs": [],
   "source": [
    "def subset_stock_data(data, start_date, end_date, verbose=False):\n",
    "    # Check if 'Date' column exists in the dataframe\n",
    "    if 'Date' not in data.columns:\n",
    "        raise ValueError(\"DataFrame does not contain a 'Date' column.\")\n",
    "        \n",
    "    # Convert date columns to datetime if they are not already datetime objects\n",
    "    if not isinstance(data['Date'], pd.DatetimeIndex):\n",
    "        data['Date'] = pd.to_datetime(data['Date'])\n",
    "    \n",
    "    if not isinstance(start_date, pd.Timestamp):\n",
    "        start_date = pd.to_datetime(start_date)\n",
    "\n",
    "    if not isinstance(end_date, pd.Timestamp):\n",
    "        end_date = pd.to_datetime(end_date)\n",
    "\n",
    "    # Subset the dataframe based on date range\n",
    "    subset = data[(data['Date'] >= start_date) & (data['Date'] <=end_date)]\n",
    "    if verbose:\n",
    "        print(f'Succesfully subsetted data from {start_date} to {end_date}.')\n",
    "    return subset"
   ]
  },
  {
   "cell_type": "code",
   "execution_count": 3,
   "metadata": {},
   "outputs": [],
   "source": [
    "def remove_non_numerical_columns(data, verbose=False):     \n",
    "    # Check first 10 rows for numerical columns\n",
    "    first_10_rows = data.head(10)\n",
    "    non_numerical_columns = []\n",
    "\n",
    "    # Iterate through columns\n",
    "    for column in data.columns:\n",
    "        # Check if the column contains numerical data\n",
    "        if pd.api.types.is_numeric_dtype(first_10_rows[column]):\n",
    "            continue\n",
    "        else:\n",
    "            non_numerical_columns.append(column)\n",
    "\n",
    "        # Remove non-numerical columns from the dataframe\n",
    "        data = data.copy()\n",
    "        data.drop(columns=non_numerical_columns, inplace=True)\n",
    "        \n",
    "        # Print message with deleted columns\n",
    "        if verbose:\n",
    "            if non_numerical_columns:\n",
    "                print(\"Succesfully removed columns with non-numerical values:\", non_numerical_columns)\n",
    "      \n",
    "        return data"
   ]
  },
  {
   "cell_type": "code",
   "execution_count": 4,
   "metadata": {},
   "outputs": [],
   "source": [
    "def preprocess_data(data, start_date=None, end_date=None, verbose = False):\n",
    "    if type(data) != pd.DataFrame:\n",
    "        raise Exception('data must be a pandas dataframe')\n",
    "        \n",
    "    subset_data = subset_stock_data(data, start_date, end_date, verbose=verbose)\n",
    "    #print(np.shape(subset_data))\n",
    "    subset_numerical_data = remove_non_numerical_columns(subset_data, verbose=verbose)\n",
    "        \n",
    "    scaler = StandardScaler()\n",
    "    scaled_data = scaler.fit_transform(subset_numerical_data) #TODO CHECK WETHER WE PREFER OTHER TRANSFORMATION\n",
    "        \n",
    "    if verbose:\n",
    "        print('Succesfully scaled data.')\n",
    "        \n",
    "    return scaled_data"
   ]
  },
  {
   "cell_type": "code",
   "execution_count": 5,
   "metadata": {},
   "outputs": [],
   "source": [
    "def find_q(explained_variance, required_explained_var = 0.95):\n",
    "    cumulative_expl_var = [sum(explained_variance[:i+1]) for i in range(len(explained_variance))]\n",
    "    for i,j in enumerate(cumulative_expl_var):\n",
    "        if j >= required_explained_var:\n",
    "            q = i\n",
    "            break \n",
    "    return q  "
   ]
  },
  {
   "cell_type": "code",
   "execution_count": 6,
   "metadata": {},
   "outputs": [],
   "source": [
    "def fit_pca(data):\n",
    "    pca = PCA()\n",
    "    pca.fit(data)\n",
    "    return [pca.explained_variance_ratio_, pca.components_]"
   ]
  },
  {
   "cell_type": "code",
   "execution_count": 7,
   "metadata": {},
   "outputs": [],
   "source": [
    "def fit_pfa(data, principal_components, q, diff_n_features):\n",
    "    A_q = principal_components.T[:,:q]\n",
    "    clusternumber = min([q + diff_n_features, data.shape[1]])\n",
    "        \n",
    "    kmeans = KMeans(n_clusters = clusternumber).fit(A_q)\n",
    "    clusters = kmeans.predict(A_q)\n",
    "    cluster_centers = kmeans.cluster_centers_\n",
    "\n",
    "    dists = defaultdict(list)\n",
    "    for i, c in enumerate(clusters):\n",
    "        dist = euclidean_distances([A_q[i, :]], [cluster_centers[c, :]])[0][0]\n",
    "        dists[c].append((i, dist))\n",
    "\n",
    "    indices = [sorted(f, key=lambda x: x[1])[0][0] for f in dists.values()]\n",
    "    features = data[:, indices]\n",
    "    return indices, features"
   ]
  },
  {
   "cell_type": "code",
   "execution_count": 8,
   "metadata": {},
   "outputs": [],
   "source": [
    "def transform_pca(data, fitted, principal_components,q, preprocess_data=None):\n",
    "    if preprocess_data != None:\n",
    "        scaled_data = preprocess_data(data)\n",
    "    else:\n",
    "        scaled_data = data\n",
    "\n",
    "    if fitted != True:\n",
    "        raise Exception('The model has not been fitted to the data.')\n",
    "        \n",
    "        \n",
    "    print('shape of scaled data: ', np.shape(scaled_data))\n",
    "    print('shape of transpose of principal components: ', np.shape(np.transpose(principal_components)))\n",
    "    reduced_data = np.matmul(np.array(scaled_data), np.transpose(principal_components))[:, :q]\n",
    "    print('shape of reduced data: ', np.shape(reduced_data))\n",
    "    return reduced_data\n",
    "\n",
    "def transform_pfa(data, fitted, features, preprocess_data=None):\n",
    "    if preprocess_data != None:\n",
    "        scaled_data = preprocess_data(data)\n",
    "    else:\n",
    "        scaled_data = data\n",
    "\n",
    "    if fitted != True:\n",
    "        raise Exception('The model has not been fitted to the data.')\n",
    "    return features"
   ]
  },
  {
   "cell_type": "code",
   "execution_count": 9,
   "metadata": {},
   "outputs": [],
   "source": [
    "def fit_transform(data, method):\n",
    "    if method not in ['pca', 'pfa']:\n",
    "        raise Exception(\"Method must be either 'pca' or 'pfa'\")\n",
    "    scaled_data = preprocess_data(data)\n",
    "    if method == 'PCA':\n",
    "        explained_variance, principal_components = fit_pca(scaled_data)\n",
    "        q = find_q(explained_variance)\n",
    "        output = transform_pca(scaled_data, True, principal_components, q)\n",
    "    elif method == 'PFA':\n",
    "        explained_variance, principal_components = fit_pca(scaled_data)\n",
    "        q = find_q(explained_variance)\n",
    "        diff_n_features = 0\n",
    "        indices, features = fit_pfa(scaled_data, principal_components, q, diff_n_features)\n",
    "        output = transform_pfa(scaled_data, True, features)\n",
    "    return output"
   ]
  },
  {
   "cell_type": "code",
   "execution_count": null,
   "metadata": {},
   "outputs": [],
   "source": []
  }
 ],
 "metadata": {
  "kernelspec": {
   "display_name": "Python 3",
   "language": "python",
   "name": "python3"
  },
  "language_info": {
   "codemirror_mode": {
    "name": "ipython",
    "version": 3
   },
   "file_extension": ".py",
   "mimetype": "text/x-python",
   "name": "python",
   "nbconvert_exporter": "python",
   "pygments_lexer": "ipython3",
   "version": "3.11.6"
  }
 },
 "nbformat": 4,
 "nbformat_minor": 2
}
